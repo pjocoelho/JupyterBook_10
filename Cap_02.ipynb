{
 "cells": [
  {
   "cell_type": "markdown",
   "id": "06005648-4e35-49fc-ad29-a9253dc597d3",
   "metadata": {},
   "source": [
    "# Modelos Matemáticos nas Eleições\n",
    "\n",
    "**Eleição** - Processo de tomada de decisão, em que os elementos de um grupo escolhem, mediante votação, um ou mais candidatos (pessoas ou opções de escolha).\n",
    "\n",
    "Este processo pode ser analisado matematicamente, de modo a que seja possível uma melhor compreensão dos diferentes métodos de votação, a distribuição dos votos e a justiça dos resultados.\n",
    "\n",
    "## Sistemas de Votação\n",
    "\n",
    "Existem vários sistemas de votação, dos quais destacamos os sistemas maioritários e os sistemas por ordem de preferência.\n",
    "\n",
    "### Sistemas maioritários\n",
    "\n",
    "#### Maioria Simples\n",
    "\n",
    "O sistema de maioria simples é o mais básico dos sistemas eleitorais. O candidato com mais votos vence, independentemente do número total de votos ou da percentagem alcançada - não é necessário obter mais de 50% dos votos."
   ]
  },
  {
   "cell_type": "markdown",
   "id": "fe573998-5338-4328-8e44-ebd81b0859ea",
   "metadata": {},
   "source": [
    "<div class=\"blue-background-dark-blue-text\">\n",
    "    \n",
    "**Exercício**\n",
    "\n",
    "Numa eleição com três candidatos, *A*, *B* e *C*, registaram-se os seguintes votos:\n",
    "\n",
    "- Candidato *A*: 100 votos\n",
    "- Candidato *B*: 80 votos\n",
    "- Candidato *C*: 70 votos\n",
    "\n",
    "1. Pela Maioria Simples qual é o vencedor?\n",
    "2. Copie o código python para o Colab e altere os valores dos votos de cada candidato. Antes de executar o código decida qual é agora o vencedor. Execute o código e confirme.\n",
    "\n",
    "</div>"
   ]
  },
  {
   "cell_type": "code",
   "execution_count": 74,
   "id": "70460cba-fb39-453a-9a31-ea71855778d7",
   "metadata": {
    "editable": true,
    "slideshow": {
     "slide_type": ""
    },
    "tags": [
     "hide-input",
     "hide-output"
    ]
   },
   "outputs": [
    {
     "name": "stdout",
     "output_type": "stream",
     "text": [
      "O vencedor por maioria simples é: Candidato A\n"
     ]
    }
   ],
   "source": [
    "def maioria_simples(votos):\n",
    "    return max(votos, key=votos.get)\n",
    "votos = {'Candidato A': 100, 'Candidato B': 80, 'Candidato C': 70}\n",
    "vencedor = maioria_simples(votos)\n",
    "print(f\"O vencedor por maioria simples é: {vencedor}\")"
   ]
  },
  {
   "cell_type": "markdown",
   "id": "8060ecbb-a62f-4598-b450-12d2467c5292",
   "metadata": {
    "tags": []
   },
   "source": [
    "#### Maioria Absoluta\n",
    "\n",
    "A maioria absoluta requer que o vencedor obtenha o maior número de votos e que seja superior a 50% do total dos votos. Se nenhum candidato alcançar mais de 50% do total de votos.\n",
    "\n",
    "Neste sistema pode não existir vencedor em apenas uma volta. Nesse caso recorre-se a uma segunda volta em que participam os dois candidatos mais votados na primeira volta."
   ]
  },
  {
   "cell_type": "markdown",
   "id": "4f9cea0e-00bc-4f93-beeb-dc0024b0d96a",
   "metadata": {},
   "source": [
    "<div class=\"blue-background-dark-blue-text\">\n",
    "\n",
    "**Exercício**\n",
    "\n",
    "Numa eleição com três candidatos, *A*, *B* e *C*, registaram-se os seguintes votos:\n",
    "\n",
    "- Candidato *A*: 100 votos\n",
    "- Candidato *B*: 80 votos\n",
    "- Candidato *C*: 70 votos\n",
    "\n",
    "1. Pela Maioria Absoluta existe vencedor ou é necessário realizar uma segunda volta?\n",
    "2. Copie o código python para o Colab e altere os valores dos votos de cada candidato. Antes de executar o código decida qual é agora o vencedor, ou se é necessária uma segunda volta. Execute o código e confirme.\n",
    "\n",
    "</div>"
   ]
  },
  {
   "cell_type": "code",
   "execution_count": 78,
   "id": "3e431e80-293a-4bdd-894b-bebc892d31d0",
   "metadata": {
    "editable": true,
    "slideshow": {
     "slide_type": ""
    },
    "tags": [
     "hide-input",
     "hide-output"
    ]
   },
   "outputs": [
    {
     "name": "stdout",
     "output_type": "stream",
     "text": [
      "Resultado da eleição por maioria absoluta: Segunda volta necessária\n"
     ]
    }
   ],
   "source": [
    "def maioria_absoluta(votos):\n",
    "    total_votos = sum(votos.values())\n",
    "    for candidato, num_votos in votos.items():\n",
    "        if num_votos > total_votos / 2:\n",
    "            return candidato\n",
    "    return \"Segunda volta necessária\"\n",
    "    \n",
    "votos = {'Candidato A': 120, 'Candidato B': 80, 'Candidato C': 70}\n",
    "resultado = maioria_absoluta(votos)\n",
    "print(f\"Resultado da eleição por maioria absoluta: {resultado}\")"
   ]
  },
  {
   "cell_type": "markdown",
   "id": "f8540bc1-8f3c-4ee0-9fc3-48bc4bb72ef3",
   "metadata": {
    "tags": []
   },
   "source": [
    "### Sistemas por ordem de preferência, ou baseados em rankings\n",
    "\n",
    "Nestes sistemas os eleitores classificam os candidatos em opções por ordem de preferência. São concebidos para refletir melhor a vontade dos eleitores, considerando não apenas a primeira escolha de cada eleitor, mas também as suas preferências subsequentes, ordenadas por ordem decrescente de preferência.\n",
    "\n",
    "São sistemas que consideram a posição relativa de cada candidato nas preferências dos eleitores, em vez de considerar exclusivamente o candidato que obtém a maioria dos votos.\n",
    "\n",
    "São exemplos o Método de Borda, Voto Único Transferível e Método de Condorcet.\n",
    "\n",
    "Iremos estudar o Método de Borda (Jean-Charles de Borda (1733-1799), matemático e físico francês). <img src=\"Borda.jpg\" alt=\"Borda\" width=\"75\" height=\"50\">\n",
    "\n",
    "#### Método de Borda\n",
    "\n",
    "Neste método os candidatos recebem pontos de cada eleitor, de acordo com a sua ordem de preferência. Vence o candidato com mais pontos.\n",
    "\n",
    "Como funciona o Método de Borda:\n",
    "\n",
    "- Os eleitores classificam os candidatos em ordem de preferência.\n",
    "- Os candidatos recebem pontos com base na posição em que são classificados em cada lista. Por exemplo, num sistema com 5 candidatos, o primeiro colocado recebe 4 pontos, o segundo 3 pontos, e assim por diante até o último candidato, que recebe 0 pontos.\n",
    "- No final, o candidato com o maior número total de pontos é declarado vencedor.\n",
    "\n",
    "Diferença em relação aos sistemas maioritários:\n",
    "\n",
    "Nos sistemas maioritários, como a maioria simples ou a maioria absoluta, o foco é em quantos votos diretos o candidato recebe, e o vencedor é quem obtém mais votos, seja de forma relativa (maioria simples) ou com mais de 50% dos votos (maioria absoluta). Esses sistemas não levam em consideração a ordem de preferência dos eleitores entre os diferentes candidatos.\n",
    "\n",
    "No Método de Borda, mesmo um candidato que não seja o preferido da maioria absoluta dos eleitores pode vencer, se tiver uma boa pontuação ao ser classificado consistentemente em segundo ou terceiro lugar. Isso contrasta com os sistemas maioritários, nos quais apenas o número de votos diretos decide o vencedor. Portanto, o Método de Borda valoriza o consenso e o apoio relativo mais amplo entre os eleitores, em vez de apenas uma maioria numérica direta."
   ]
  },
  {
   "cell_type": "markdown",
   "id": "7791aac5-63d5-4105-a80d-6ba7be29ae2d",
   "metadata": {},
   "source": [
    "<div class=\"blue-background-dark-blue-text\">\n",
    "\n",
    "**Exercício**\n",
    "\n",
    "Numa eleição com quatro candidatos, *A*, *B*, *C* e *D*, dos 24 modos distintos de ordenar os candidatos, registaram-se somente cinco modos distintos de ordenação dos candidatos, por ordem decrescente de preferência: \n",
    "\n",
    "<p style=\"text-align: center;\">\n",
    "  (<i>A</i>, <i>B</i>, <i>C</i>, <i>D</i>);     \n",
    "  (<i>B</i>, <i>C</i>, <i>D</i>, <i>A</i>);     \n",
    "  (<i>C</i>, <i>D</i>, <i>A</i>, <i>B</i>);     \n",
    "  (<i>D</i>, <i>A</i>, <i>B</i>, <i>C</i>);     \n",
    "  (<i>C</i>, <i>A</i>, <i>D</i>, <i>B</i>).\n",
    "</p>\n",
    "\n",
    "1. Pela Método de Borda qual é o vencedor? Com quantos pontos?\n",
    "2. Copie o código python para o Colab. Antes de executar o código determine qual é o vencedor. Execute o código e confirme.\n",
    "3. Experimente aumentar o número modos distintos de ordenar os candidatos, determine qual é então o vencedor e com quantos pontos. Execute o código e confirme.\n",
    "\n",
    "</div>"
   ]
  },
  {
   "cell_type": "code",
   "execution_count": 82,
   "id": "51f6073d-bdfd-44e7-a999-79673405a0c8",
   "metadata": {
    "editable": true,
    "slideshow": {
     "slide_type": ""
    },
    "tags": [
     "hide-input",
     "hide-output"
    ]
   },
   "outputs": [
    {
     "name": "stdout",
     "output_type": "stream",
     "text": [
      "O vencedor pelo método de Borda é: C com 14 votos.\n"
     ]
    }
   ],
   "source": [
    "def metodo_borda(preferencias):\n",
    "    pontuacao = {candidato: 0 for candidato in preferencias[0]}\n",
    "    for preferencia in preferencias:\n",
    "        for i, candidato in enumerate(reversed(preferencia)):\n",
    "            pontuacao[candidato] += i + 1\n",
    "    vencedor = max(pontuacao, key=pontuacao.get)\n",
    "    return vencedor, pontuacao[vencedor]\n",
    "\n",
    "preferencias = [\n",
    "    ['A', 'B', 'C', 'D'],\n",
    "    ['B', 'C', 'D', 'A'],\n",
    "    ['C', 'D', 'A', 'B'],\n",
    "    ['D', 'A', 'B', 'C'],\n",
    "    ['C', 'A', 'D', 'B']\n",
    "]\n",
    "vencedor, votos_vencedor = metodo_borda(preferencias)\n",
    "print(f\"O vencedor pelo método de Borda é: {vencedor} com {votos_vencedor} votos.\")"
   ]
  }
 ],
 "metadata": {
  "kernelspec": {
   "display_name": "Python 3 (ipykernel)",
   "language": "python",
   "name": "python3"
  },
  "language_info": {
   "codemirror_mode": {
    "name": "ipython",
    "version": 3
   },
   "file_extension": ".py",
   "mimetype": "text/x-python",
   "name": "python",
   "nbconvert_exporter": "python",
   "pygments_lexer": "ipython3",
   "version": "3.11.0"
  }
 },
 "nbformat": 4,
 "nbformat_minor": 5
}
