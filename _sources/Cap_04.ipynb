{
 "cells": [
  {
   "cell_type": "markdown",
   "id": "c9444a1b",
   "metadata": {
    "editable": true,
    "slideshow": {
     "slide_type": ""
    },
    "tags": []
   },
   "source": [
    "# Modelos Matemáticos em Finanças\n",
    "\n",
    "## Salários e Impostos\n",
    "\n",
    "### Introdução\n",
    "\n",
    "A matemática financeira é uma área da matemática aplicada que se dedica ao estudo e aplicação de conceitos matemáticos em situações financeiras. \n",
    "\n",
    "Envolve a análise de operações como empréstimos, financiamentos, investimentos, e a avaliação de alternativas de investimento. Alguns dos principais tópicos incluem:\n",
    "\n",
    "\n",
    "- **Salários:** Análise de remuneração, incluindo deduções, benefícios e planeamento financeiro pessoal.\n",
    "- **Impostos:** Cálculo de impostos sobre rendimentos, bens e serviços, e de que modo afetam as finanças pessoais e empresariais.\n",
    "- **Juros Simples e Compostos:** Cálculo de juros sobre um capital inicial ao longo do tempo.\n",
    "- **Descontos:** Determinação do valor presente de um pagamento futuro.\n",
    "- **Anuidades:** Análise de séries de pagamentos periódicos.\n",
    "- **Amortização:** Planeamento de pagamentos de dívidas ao longo do tempo.\n",
    "- **Taxas de Retorno:** Avaliação da rentabilidade de investimentos.\n",
    "\n",
    "A compreensão destes conceitos é fundamental para tomar decisões financeiras fundamentadas, tanto a nível pessoal quanto empresarial. \n",
    "\n",
    "\n",
    "### Cálculo de Salários\n",
    "\n",
    "#### Salário Bruto vs. Salário Líquido\n",
    "\n",
    "Quando falamos de salários, é importante entender a diferença entre salário bruto e salário líquido.\n",
    "\n",
    "**Definições:**\n",
    "- **Salário Bruto**: É o valor total que um colaborador recebe antes de quaisquer deduções.\n",
    "- **Salário Líquido**: É o valor que um colaborador efetivamente recebe após todas as deduções obrigatórias.\n",
    "\n",
    "**Principais Deduções:**\n",
    "\n",
    "As deduções mais comuns que transformam o salário bruto em líquido são:\n",
    "\n",
    "1. **Contribuições para a Segurança Social (SS)**: \n",
    "   - Esta é uma percentagem fixa do salário bruto.\n",
    "   - Geralmente, para trabalhadores por conta de outrem, é cerca de 11% do salário bruto.\n",
    "   - Este dinheiro vai para um fundo que financia benefícios como pensões e subsídios de desemprego.\n",
    "\n",
    "2. **Imposto sobre o Rendimento de Pessoas Singulares (IRS)**:\n",
    "   - Esta percentagem varia dependendo do salário e de outras condições pessoais.\n",
    "   - É um imposto progressivo, o que significa que quem ganha mais paga uma percentagem maior."
   ]
  },
  {
   "cell_type": "markdown",
   "id": "86ae4a1b-5d49-4182-a2ed-16192515e421",
   "metadata": {},
   "source": [
    "### Impostos e Contribuições\n",
    "\n",
    "Quando falamos de salários e rendimentos, é essencial compreender o papel dos impostos e das contribuições sociais. Estes não são apenas deduções nos salários, mas representam uma parte fundamental do funcionamento da nossa sociedade. \n",
    "\n",
    "Nesta seção, vamos explorar como estes elementos afetam o nosso rendimento e como são calculados.\n",
    "\n",
    "#### Contribuições para a Segurança Social\n",
    "\n",
    "A Segurança Social é um sistema que visa proteger os cidadãos em situações de doença, desemprego, invalidez, velhice, entre outras. Todos os trabalhadores contribuem para este sistema.\n",
    "\n",
    "**Cálculo da Contribuição**\n",
    "\n",
    "Para um trabalhador por conta de outrem, a taxa de contribuição é geralmente 11% do salário bruto. \n",
    "\n",
    "**EXEMPLO:**\n",
    "Se o salário bruto for $1000$€, a contribuição para a Segurança Social será:\n",
    "$1000$€$\\times 0.11 = 110$€"
   ]
  },
  {
   "cell_type": "markdown",
   "id": "8b5a504a-a4a9-4299-bf7e-924806f2601d",
   "metadata": {},
   "source": [
    "#### Imposto sobre o Rendimento de Pessoas Singulares (IRS)\n",
    "\n",
    "O IRS é um imposto que incide sobre os rendimentos dos indivíduos. É um imposto progressivo, o que significa que a taxa aumenta à medida que o rendimento aumenta.\n",
    "\n",
    "**Retenção na Fonte**\n",
    "\n",
    "A retenção na fonte é um mecanismo pelo qual o empregador deduz uma parte do salário do trabalhador e a envia diretamente para o Estado. Esta retenção é uma antecipação do imposto que será devido no final do ano.\n",
    "\n",
    "**Caráter Provisório da Taxa Mensal**\n",
    "\n",
    "É importante notar que a taxa de retenção mensal é provisória. O imposto final é calculado apenas no ano seguinte, quando se faz a declaração anual de IRS.\n",
    "\n",
    "**Progressividade e Escalões**\n",
    "\n",
    "O IRS é dividido em escalões, cada um com uma taxa diferente. À medida que o rendimento aumenta, passa-se para escalões superiores com taxas mais elevadas.\n",
    "\n",
    "**Exemplo simplificado de escalões de IRS:**\n",
    "\n",
    "- Até 7112€: 14.5%\n",
    "- De 7112€ até 10732€: 23%\n",
    "- De 10732€ até 20322€: 28.5%\n",
    "- De 20322€ até 25075€: 35%\n",
    "- Acima de 25075€: 37%\n",
    "\n",
    "**Cálculo do IRS Anual**\n",
    "\n",
    "O cálculo do IRS anual é mais complexo e leva em conta vários fatores, como deduções fiscais, número de dependentes, etc."
   ]
  },
  {
   "cell_type": "markdown",
   "id": "93092a82-93d8-47be-aba5-4da1315bb52d",
   "metadata": {},
   "source": [
    "**EXEMPLO**\n",
    "\n",
    "Vamos recorrer ao Python para efetuar os cálculos. Para simplificar, usaremos uma taxa fixa de 15% para o IRS."
   ]
  },
  {
   "cell_type": "code",
   "execution_count": 6,
   "id": "630df2c3-c106-4b6d-8ac4-92c1c424ef2a",
   "metadata": {
    "editable": true,
    "slideshow": {
     "slide_type": ""
    },
    "tags": [
     "hide-input",
     "hide-output"
    ]
   },
   "outputs": [
    {
     "name": "stdout",
     "output_type": "stream",
     "text": [
      "Salário Bruto: 2000.00€\n",
      "Dedução para Segurança Social: 220.00€\n",
      "Dedução de IRS: 300.00€\n",
      "Salário Líquido: 1480.00€\n"
     ]
    }
   ],
   "source": [
    "def calcular_salario_liquido(salario_bruto, taxa_ss=0.11, taxa_irs=0.15):\n",
    "    \n",
    "    # Cálculo da contribuição para a Segurança Social\n",
    "    \n",
    "    ss = salario_bruto * taxa_ss\n",
    "    \n",
    "    # Cálculo do IRS\n",
    "    \n",
    "    irs = salario_bruto * taxa_irs\n",
    "    \n",
    "    # Cálculo do salário líquido\n",
    "    \n",
    "    salario_liquido = salario_bruto - ss - irs\n",
    "    \n",
    "    return salario_liquido, ss, irs\n",
    "\n",
    "# Exemplo\n",
    "\n",
    "salario_bruto = 2000  # Salário bruto de 2000€\n",
    "\n",
    "# Chamada da função para calcular o salário líquido e as deduções\n",
    "\n",
    "liquido, ss, irs = calcular_salario_liquido(salario_bruto)\n",
    "\n",
    "# Apresentação dos resultados\n",
    "\n",
    "print(f\"Salário Bruto: {salario_bruto:.2f}€\")\n",
    "print(f\"Dedução para Segurança Social: {ss:.2f}€\")\n",
    "print(f\"Dedução de IRS: {irs:.2f}€\")\n",
    "print(f\"Salário Líquido: {liquido:.2f}€\")"
   ]
  },
  {
   "cell_type": "markdown",
   "id": "2803d191-7178-43ab-b772-d8f68dfe7b8f",
   "metadata": {},
   "source": [
    "<div class=\"blue-background-dark-blue-text\">\n",
    "\n",
    "**Exercício 7**\n",
    "  \n",
    "Copie o código para o Colab e experimente alterar o valor do salário bruto. \n",
    "\n",
    "Verifique de que modo isso afeta o salário líquido e as deduções. Que percentagem do salário bruto o trabalhador recebe como líquido?\n",
    "</div>"
   ]
  },
  {
   "cell_type": "markdown",
   "id": "7ba94eb7-792d-4303-bfd6-35e3c8af43c2",
   "metadata": {
    "editable": true,
    "jp-MarkdownHeadingCollapsed": true,
    "slideshow": {
     "slide_type": ""
    },
    "tags": []
   },
   "source": [
    "**EXEMPLO**\n",
    "\n",
    "*Recibo de Vencimento - março / 2024*\n",
    "\n",
    "| DADOS PESSOAIS                                           |\n",
    "|----------------------------------------------------------|\n",
    "| NIF: 123456789  Nome: Ana Silva  N.º Func.: 4567  Índice: 235 |\n",
    "| Sit. Fiscal: Casado(a)/2 Titular(es)/1 Dependente(s)     |\n",
    "| IRS: 18,5%  Venc. Base: 2350,00€  Horário: 35h  Vencimento: 2350,00€ |\n",
    "| Categoria Profissional: Técnico Superior                 |\n",
    "\n",
    "| ABONOS                  |           | DESCONTOS              |           |\n",
    "|-------------------------|-----------|------------------------|-----------|\n",
    "| Vencimento Base         | 2350,00€  | ADSE                   | 82,25€    |\n",
    "| Subsídio de Refeição    | 120,75€   | CGA                    | 258,50€   |\n",
    "|                         |           | IRS                    | 434,75€   |\n",
    "| Total de Abonos         | 2470,75€  | Total de Descontos     | 775,50€   |\n",
    "\n",
    "**Total a Receber: 1695,25€**\n",
    "\n",
    "Observações: Tributável Acumulado IRS 4700,00€; Desconto Acumulado IRS 869,50€"
   ]
  },
  {
   "cell_type": "markdown",
   "id": "0f9e4ba4-6d81-4ba5-bdc6-1a5d21f3ef70",
   "metadata": {
    "editable": true,
    "slideshow": {
     "slide_type": ""
    },
    "tags": []
   },
   "source": [
    "**NOTA:** As observações no recibo de vencimento fornecem informações adicionais importantes sobre a situação fiscal acumulada do funcionário. \n",
    "\n",
    "Vamos analisar o significado dessas observações:\n",
    "\n",
    "- Tributável Acumulado IRS 4700,00€:\n",
    "\n",
    "Este valor representa a soma total do rendimento sujeito a IRS (Imposto sobre o Rendimento de Pessoas Singulares) desde o início do ano fiscal até ao mês atual (março, neste caso).\n",
    "\n",
    "Indica que Ana Silva já acumulou 4700,00€ de rendimento tributável nos primeiros três meses do ano (assumindo que março é o terceiro mês do ano fiscal).\n",
    "\n",
    "Este valor é importante para o cálculo progressivo do IRS, pois as taxas de imposto podem aumentar conforme o rendimento anual acumulado cresce.\n",
    "\n",
    "\n",
    "- Desconto Acumulado IRS 869,50€:\n",
    "\n",
    "Este valor mostra o total de IRS que já foi retido do salário de Ana Silva desde o início do ano fiscal até ao mês atual.\n",
    "\n",
    "Representa a soma de todas as retenções de IRS feitas nos seus salários nos primeiros três meses do ano."
   ]
  },
  {
   "cell_type": "markdown",
   "id": "818ab908-e323-4dba-8320-0351b1827786",
   "metadata": {
    "editable": true,
    "slideshow": {
     "slide_type": ""
    },
    "tags": []
   },
   "source": [
    "<div class=\"blue-background-dark-blue-text\">\n",
    "\n",
    "**Exercício 8**\n",
    "\n",
    "1. Qual é o valor do salário bruto mensal de Ana Silva?\n",
    "\n",
    "2. Calcule o valor do salário anual bruto de Ana Silva, considerando 14 meses de pagamento (incluindo subsídios de férias e Natal).\n",
    "\n",
    "3. Qual é o valor do salário líquido de Ana Silva para este mês?\n",
    "\n",
    "4. Calcule a percentagem do salário bruto que é deduzida em descontos.\n",
    "\n",
    "5. Se Ana Silva trabalha 35 horas por semana, qual é o seu salário bruto por hora?\n",
    "\n",
    "6. Qual é a diferença entre o salário bruto e o salário líquido neste mês?\n",
    "\n",
    "7. Se o subsídio de refeição é pago por 22 dias úteis, qual é o valor diário deste subsídio?\n",
    "\n",
    "8. Calcule o total das contribuições obrigatórias para os sistemas de segurança social (ADSE e CGA).\n",
    "\n",
    "9. Considerando que a taxa de IRS é de 18,5%, verifique se o valor retido está correto. Se não, qual deveria ser o valor correto?\n",
    "\n",
    "10. Se Ana Silva receber um aumento de 5% no próximo ano, qual será o seu novo salário base mensal?\n",
    "\n",
    "</div>"
   ]
  },
  {
   "cell_type": "markdown",
   "id": "a41e3e59-e354-4b99-8633-a2236a5abd41",
   "metadata": {
    "editable": true,
    "slideshow": {
     "slide_type": ""
    },
    "tags": []
   },
   "source": [
    "**RESPOSTAS:**"
   ]
  },
  {
   "cell_type": "markdown",
   "id": "407e561b-7a2d-4f3f-83d5-243fe96b8ac7",
   "metadata": {
    "editable": true,
    "slideshow": {
     "slide_type": ""
    },
    "tags": [
     "hide-cell",
     "hide-markdown"
    ]
   },
   "source": [
    "```{toggle} **RESPOSTAS:**\n",
    "\n",
    "1. 2350,00€\n",
    "2. 32900,00€ (2350,00€ * 14)\n",
    "3. 1695,25€\n",
    "4. 31,39% [(775,50€ / 2470,75€) * 100]\n",
    "5. 15,67€ por hora [(2350,00€ / 4) / 35]\n",
    "6. 775,50€ (2470,75€ - 1695,25€)\n",
    "7. 5,49€ por dia (120,75€ / 22)\n",
    "8. 340,75€ (82,25€ + 258,50€)\n",
    "9. O valor retido está correto: 434,75€ (18,5% de 2350,00€)\n",
    "10. 2467,50€ (2350,00€ * 1,05)\n",
    "\\```"
   ]
  },
  {
   "cell_type": "markdown",
   "id": "9cf0cbf9-c7cb-4212-bcbd-05538b588c45",
   "metadata": {
    "editable": true,
    "slideshow": {
     "slide_type": ""
    },
    "tags": []
   },
   "source": [
    "**RESOLUÇÕES:**"
   ]
  },
  {
   "cell_type": "markdown",
   "id": "0267e17a-9c54-44b2-a0fa-5c611f0ae0cd",
   "metadata": {
    "editable": true,
    "slideshow": {
     "slide_type": ""
    },
    "tags": []
   },
   "source": [
    "```{toggle} **RESOLUÇÕES:**\n",
    "\n",
    "1. Qual é o valor do salário bruto mensal de Ana Silva?\n",
    "\n",
    "   Resolução: O salário bruto mensal é o valor base antes dos descontos. No recibo, está indicado como \"Venc. Base: 2350,00€\".\n",
    "   \n",
    "   Resposta: O salário bruto mensal de Ana Silva é 2350,00€.\n",
    "\n",
    "2. Calcule o valor do salário anual bruto de Ana Silva, considerando 14 meses de pagamento (incluindo subsídios de férias e Natal).\n",
    "\n",
    "   Resolução: Para calcular o salário anual bruto, multiplicamos o salário mensal pelo número de meses pagos no ano.\n",
    "   Salário anual bruto = Salário mensal bruto × Número de meses\n",
    "   Salário anual bruto = 2350,00€ × 14 = 32900,00€\n",
    "   \n",
    "   Resposta: O salário anual bruto de Ana Silva é 32900,00€.\n",
    "\n",
    "3. Qual é o valor do salário líquido de Ana Silva para este mês?\n",
    "\n",
    "   Resolução: O salário líquido é o valor que o trabalhador efetivamente recebe, após todos os descontos. No recibo, está indicado como \"Total a Receber: 1695,25€\".\n",
    "   \n",
    "   Resposta: O salário líquido de Ana Silva para este mês é 1695,25€.\n",
    "\n",
    "4. Calcule a percentagem do salário bruto que é deduzida em descontos.\n",
    "\n",
    "   Resolução: Para calcular esta percentagem, dividimos o total de descontos pelo total de abonos (salário bruto) e multiplicamos por 100.\n",
    "   Percentagem de descontos = (Total de Descontos ÷ Total de Abonos) × 100\n",
    "   Percentagem de descontos = (775,50€ ÷ 2470,75€) × 100 ≈ 31,39%\n",
    "   \n",
    "   Resposta: Aproximadamente 31,39% do salário bruto é deduzido em descontos.\n",
    "\n",
    "5. Se Ana Silva trabalha 35 horas por semana, qual é o seu salário bruto por hora?\n",
    "\n",
    "   Resolução: Para calcular o salário bruto por hora, primeiro calculamos o número de horas trabalhadas por mês e depois dividimos o salário mensal por esse número.\n",
    "   Horas por mês = 35 horas/semana × 4 semanas = 140 horas\n",
    "   Salário bruto por hora = Salário mensal bruto ÷ Horas por mês\n",
    "   Salário bruto por hora = 2350,00€ ÷ 140 = 16,79€ por hora\n",
    "   \n",
    "   Resposta: O salário bruto por hora de Ana Silva é 16,79€.\n",
    "\n",
    "6. Qual é a diferença entre o salário bruto e o salário líquido neste mês?\n",
    "\n",
    "   Resolução: A diferença é o total de descontos aplicados.\n",
    "   Diferença = Salário bruto - Salário líquido\n",
    "   Diferença = 2470,75€ - 1695,25€ = 775,50€\n",
    "   \n",
    "   Resposta: A diferença entre o salário bruto e o líquido é 775,50€.\n",
    "\n",
    "7. Se o subsídio de refeição é pago por 22 dias úteis, qual é o valor diário deste subsídio?\n",
    "\n",
    "   Resolução: Dividimos o valor total do subsídio de refeição pelo número de dias úteis.\n",
    "   Valor diário do subsídio = Valor total do subsídio ÷ Número de dias úteis\n",
    "   Valor diário do subsídio = 120,75€ ÷ 22 = 5,49€ por dia\n",
    "   \n",
    "   Resposta: O valor diário do subsídio de refeição é 5,49€.\n",
    "\n",
    "8. Calcule o total das contribuições obrigatórias para os sistemas de segurança social (ADSE e CGA).\n",
    "\n",
    "   Resolução: Somamos os valores de ADSE e CGA indicados nos descontos.\n",
    "   Total de contribuições = ADSE + CGA\n",
    "   Total de contribuições = 82,25€ + 258,50€ = 340,75€\n",
    "   \n",
    "   Resposta: O total das contribuições obrigatórias é 340,75€.\n",
    "\n",
    "9. Considerando que a taxa de IRS é de 18,5%, verifique se o valor retido está correto. Se não, qual deveria ser o valor correto?\n",
    "\n",
    "   Resolução: Calculamos 18,5% do vencimento base e comparamos com o valor retido.\n",
    "   Valor correto de IRS = Vencimento Base × Taxa de IRS\n",
    "   Valor correto de IRS = 2350,00€ × 0,185 = 434,75€\n",
    "   \n",
    "   O valor retido no recibo é 434,75€, que coincide com o cálculo.\n",
    "   \n",
    "   Resposta: O valor retido está correto (434,75€).\n",
    "\n",
    "10. Se Ana Silva receber um aumento de 5% no próximo ano, qual será o seu novo salário base mensal?\n",
    "\n",
    "    Resolução: Calculamos 5% do salário atual e adicionamos ao salário base.\n",
    "    Aumento = Salário base atual × 0,05\n",
    "    Aumento = 2350,00€ × 0,05 = 117,50€\n",
    "    Novo salário base = Salário base atual + Aumento\n",
    "    Novo salário base = 2350,00€ + 117,50€ = 2467,50€\n",
    "    \n",
    "    Resposta: O novo salário base mensal de Ana Silva será 2467,50€.\n",
    "\\```"
   ]
  },
  {
   "cell_type": "markdown",
   "id": "c98375ae",
   "metadata": {
    "editable": true,
    "slideshow": {
     "slide_type": ""
    },
    "tags": []
   },
   "source": [
    "<div class=\"blue-background-dark-blue-text\">\n",
    "\n",
    "**Exercício 9**\n",
    "\n",
    "1. Calcule o salário líquido mensal para um salário bruto de 1500€, considerando 11% de Segurança Social e uma taxa de IRS de 20%.\n",
    "2. Se um trabalhador recebe 14 salários por ano (incluindo subsídios de férias e Natal), qual seria o seu rendimento anual bruto e líquido, assumindo um salário mensal bruto de 1200€? (Para o IRS considere uma taxa anual média de 15%)\n",
    "3. Compare o IRS devido para rendimentos anuais de 15000€, 25000€ e 35000€, usando os escalões simplificados fornecidos acima.\n",
    "\n",
    "</div>"
   ]
  },
  {
   "cell_type": "markdown",
   "id": "fbd508f7-4ba0-496f-9d97-e185c4c55525",
   "metadata": {},
   "source": [
    "**RESOLUÇÕES:**"
   ]
  },
  {
   "cell_type": "markdown",
   "id": "1ec4b796-c56d-4ab3-bde8-e76924ebaa6e",
   "metadata": {
    "editable": true,
    "slideshow": {
     "slide_type": ""
    },
    "tags": [
     "remove-cell"
    ]
   },
   "source": [
    "[//]: # (```{toggle} **RESOLUÇÕES:**)\n",
    "\n",
    "**Exercício 1**\n",
    "\n",
    "Calcule o salário líquido mensal para um salário bruto de 1500€, considerando 11% de Segurança Social e uma taxa de IRS de 20%.\n",
    "\n",
    "**Resolução:**\n",
    "\n",
    "1. Dados:\n",
    "\n",
    "   - Salário bruto: 1500€\n",
    "   - Taxa de Segurança Social: 11%\n",
    "   - Taxa de IRS: 20%\n",
    "\n",
    "2. Cálculo da contribuição para a Segurança Social:\n",
    "\n",
    "   Contribuição SS = $1500$€$\\times 0.11 = 165$€\n",
    "\n",
    "3. Cálculo do IRS:\n",
    "\n",
    "   IRS = $1500$€$\\times 0.20 = 300$€\n",
    "\n",
    "4. Cálculo do salário líquido:\n",
    "\n",
    "   Salário líquido = Salário bruto - Contribuição SS - IRS\n",
    "   Salário líquido = $1500$€$ - 165$€$ - 300$€$ = 1035$€\n",
    "\n",
    "**Resposta:** O salário líquido mensal é de 1035.00€.\n",
    "\n",
    "**Exercício 2**\n",
    "\n",
    "Se um trabalhador recebe 14 salários por ano (incluindo subsídios de férias e Natal), qual seria o seu rendimento anual bruto e líquido, assumindo um salário mensal bruto de 1200€?\n",
    "\n",
    "**Resolução:**\n",
    "\n",
    "Dados:\n",
    "\n",
    "Salário mensal bruto: 1200€\n",
    "Número de salários por ano: 14\n",
    "\n",
    "\n",
    "Cálculo do rendimento anual bruto:\n",
    "\n",
    "Rendimento anual bruto = $1200$€$\\times 14 = 16800$€\n",
    "\n",
    "Cálculo das deduções anuais:\n",
    "\n",
    "Contribuição SS anual = $1200$€$\\times 0.11\\times 14 = 1848$€\n",
    "\n",
    "Para o IRS, vamos usar uma taxa média anual estimada de 15% (na prática, isso dependerá de vários fatores)\n",
    "\n",
    "IRS anual estimado = $16800$€$\\times 0.15 = 2520$€\n",
    "\n",
    "\n",
    "Cálculo do rendimento anual líquido:\n",
    "\n",
    "Rendimento anual líquido = Rendimento anual bruto - Contribuição SS anual - IRS anual\n",
    "\n",
    "Rendimento anual líquido = $16800$€$ - 1848$€$ - 2520$€$ = 12432$€   \n",
    "\n",
    "**Resposta:**\n",
    "\n",
    "Rendimento anual bruto: 16800.00€\n",
    "Rendimento anual líquido: 12432.00€\n",
    "\n",
    "**Exercício 3**\n",
    "\n",
    "Compare o IRS devido para rendimentos anuais de 15000€, 25000€ e 35000€, usando os escalões simplificados fornecidos acima.\n",
    "\n",
    "**Resolução:**\n",
    "\n",
    "Vamos usar os escalões simplificados fornecidos:\n",
    "\n",
    "Até 7112€: 14.5%\n",
    "\n",
    "De 7112€ até 10732€: 23%\n",
    "\n",
    "De 10732€ até 20322€: 28.5%\n",
    "\n",
    "De 20322€ até 25075€: 35%\n",
    "\n",
    "Acima de 25075€: 37%\n",
    "\n",
    "Vamos calcular o IRS para cada rendimento:\n",
    "\n",
    "Para 15000€:\n",
    "\n",
    "$7112$€$\\times $14.5$%$ = 1031.24$€\n",
    "\n",
    "$(10732 - 7112)\\times 23$%$ = 831.60$€\n",
    "\n",
    "$(15000 - 10732)\\times 28.5$%$ = 1216.38$$€\n",
    "\n",
    "Total: $1031.24 + 831.60 + 1216.38 = 3079.22$€\n",
    "\n",
    "\n",
    "Para 25000€:\n",
    "\n",
    "$7112$€$\\times  14.5$%$ = 1031.24$€\n",
    "\n",
    "$(10732 - 7112)\\times 23$%$ = 831.60$€\n",
    "\n",
    "$(20322 - 10732)\\times 28.5$%$ = 2732.85$€\n",
    "\n",
    "$(25000 - 20322)\\times 35$%$ = 1636.30$€\n",
    "\n",
    "Total: $1031.24 + 831.60 + 2732.85 + 1636.30 = 6231.99$€\n",
    "\n",
    "\n",
    "Para 35000€:\n",
    "\n",
    "$7112$€$\\times 14.5$%$ = 1031.24$€\n",
    "\n",
    "$(10732 - 7112)\\times 23$%$ = 831.60$€\n",
    "\n",
    "$(20322 - 10732)\\times 28.5$%$ = 2732.85$€\n",
    "\n",
    "$(25075 - 20322)\\times 35$%$ = 1663.55$€\n",
    "\n",
    "$(35000 - 25075)\\times 37$%$ = 3672.25$€\n",
    "\n",
    "Total: $1031.24 + 831.60 + 2732.85 + 1663.55 + 3672.25 = 9931.49$€\n",
    "\n",
    "\n",
    "\n",
    "**Resposta:**\n",
    "\n",
    "- Para 15000€: IRS devido é 3079.22€ (taxa efetiva de 20.53%)\n",
    "- Para 25000€: IRS devido é 6231.99€ (taxa efetiva de 24.93%)\n",
    "- Para 35000€: IRS devido é 9931.49€ (taxa efetiva de 28.38%)\n",
    "\n",
    "*Cálculo das taxas efetivas:*\n",
    "\n",
    "- Para 15000€: $\\frac{3079.22}{15000}\\times 100 = 20.53$%\n",
    "- Para 25000€: $\\frac{6232.9}{25000}\\times 100 = 24.93$%\n",
    "- Para 35000€: $\\frac{9931.49}{35000}\\times 100 = 28.38$%\n",
    "\n",
    "Estes cálculos demonstram claramente a progressividade do imposto:\n",
    "\n",
    "- À medida que o rendimento aumenta, não só o valor absoluto do imposto cresce, mas também a percentagem do - rendimento paga em impostos (taxa efetiva) aumenta.\n",
    "- Cada escalão só se aplica à parte do rendimento que cai dentro desse escalão, não ao rendimento total. Isso faz com que o aumento da carga fiscal seja gradual.\n",
    "- A diferença entre as taxas efetivas torna-se menor para rendimentos mais altos, refletindo a estrutura dos escalões.\n",
    "\n",
    "[//]: #(\\```)"
   ]
  },
  {
   "cell_type": "markdown",
   "id": "f020db8d",
   "metadata": {
    "editable": true,
    "slideshow": {
     "slide_type": ""
    },
    "tags": []
   },
   "source": [
    "**Progressividade dos Impostos**\n",
    "\n",
    "A progressividade do sistema de IRS é um conceito fundamental na tributação moderna. Visa distribuir a carga fiscal de forma mais equitativa, fazendo com que quem ganha mais contribua proporcionalmente mais. \n",
    "\n",
    "O gráfico seguinte ilustra a relação entre o rendimento anual e a taxa efetiva de imposto.\n"
   ]
  },
  {
   "cell_type": "code",
   "execution_count": 19,
   "id": "bef88421",
   "metadata": {
    "editable": true,
    "slideshow": {
     "slide_type": ""
    },
    "tags": [
     "hide-input"
    ]
   },
   "outputs": [
    {
     "data": {
      "image/png": "[encoded data removed]",
      "text/plain": [
       "<Figure size 1200x600 with 1 Axes>"
      ]
     },
     "metadata": {},
     "output_type": "display_data"
    }
   ],
   "source": [
    "import matplotlib.pyplot as plt\n",
    "\n",
    "def calcular_irs(rendimento):\n",
    "    if rendimento <= 7112:\n",
    "        return rendimento * 0.145\n",
    "    elif rendimento <= 10732:\n",
    "        return 7112 * 0.145 + (rendimento - 7112) * 0.23\n",
    "    elif rendimento <= 20322:\n",
    "        return 7112 * 0.145 + (10732 - 7112) * 0.23 + (rendimento - 10732) * 0.285\n",
    "    elif rendimento <= 25075:\n",
    "        return 7112 * 0.145 + (10732 - 7112) * 0.23 + (20322 - 10732) * 0.285 + (rendimento - 20322) * 0.35\n",
    "    else:\n",
    "        return 7112 * 0.145 + (10732 - 7112) * 0.23 + (20322 - 10732) * 0.285 + (25075 - 20322) * 0.35 + (rendimento - 25075) * 0.37\n",
    "\n",
    "def analisar_progressividade():\n",
    "    rendimentos = range(0, 100001, 1000)\n",
    "    taxas_efetivas = [(calcular_irs(r) / r) * 100 if r > 0 else 0 for r in rendimentos]\n",
    "    \n",
    "    plt.figure(figsize=(12, 6))\n",
    "    plt.plot(rendimentos, taxas_efetivas)\n",
    "    plt.title(\"Progressividade do IRS\")\n",
    "    plt.xlabel(\"Rendimento Anual (€)\")\n",
    "    plt.ylabel(\"Taxa Efetiva de Imposto (%)\")\n",
    "    plt.grid(True)\n",
    "    plt.show()\n",
    "\n",
    "analisar_progressividade()"
   ]
  },
  {
   "cell_type": "markdown",
   "id": "27d596ee-2b5b-4b8b-a261-1b696943e167",
   "metadata": {},
   "source": [
    "Este gráfico ilustra como a taxa efetiva de imposto aumenta à medida que o rendimento anual cresce. \n",
    "\n",
    "Vamos analisar alguns pontos importantes:\n",
    "\n",
    "- **Início da curva:** Para rendimentos muito baixos, a taxa efetiva é próxima de zero, refletindo a isenção de impostos para quem ganha abaixo de um certo limiar.\n",
    "- **Aumento gradual:** À medida que o rendimento aumenta, a taxa efetiva cresce, mas não de forma linear. Isso ocorre devido aos diferentes escalões de IRS.\n",
    "- **\"Degraus\" na curva:** Os pequenos \"degraus\" visíveis na curva correspondem às transições entre os diferentes escalões de IRS. Cada vez que um novo escalão é atingido, há um aumento mais acentuado na taxa efetiva.\n",
    "- **Tendência de estabilização:** Para rendimentos muito altos, a curva tende a se estabilizar. Isso acontece porque, eventualmente, a maior parte do rendimento passa a ser tributada no escalão mais alto.\n",
    "- **Não linearidade:** O gráfico não é uma linha reta, o que demonstra que o aumento da taxa não é proporcional ao aumento do rendimento. Esta é a essência da progressividade.\n",
    "- **Efeito dos escalões:** Podemos observar como os diferentes escalões de IRS afetam a curva, criando áreas de aumento mais acentuado seguidas por áreas de crescimento mais suave.\n",
    "\n",
    "O sistema de IRS é progressivo, pois conforme o rendimento aumenta, não só se paga mais imposto em termos absolutos, mas também em termos percentuais. \n",
    "\n",
    "No entanto, é importante notar que o aumento é gradual e que cada escalão só se aplica à parte do rendimento que excede o limite do escalão anterior.\n",
    "\n",
    "A progressividade do imposto é uma ferramenta importante para a redistribuição de renda na sociedade, procurando atingir um equilíbrio entre a arrecadação necessária para financiar serviços públicos e a manutenção de incentivos para o crescimento económico e a produtividade."
   ]
  },
  {
   "cell_type": "markdown",
   "id": "95ea41f6",
   "metadata": {},
   "source": [
    "## Juros e Investimentos\n",
    "\n",
    "Os juros são um conceito fundamental em matemática financeira, com aplicações práticas na vida de cada cidadão e na economia global. \n",
    "\n",
    "**Tipos de juros**\n",
    "\n",
    "Existem dois tipos principais de juros:\n",
    "\n",
    "1. **Juros Simples:** Neste caso, os juros são calculados apenas sobre o capital inicial. É mais simples de calcular, mas menos comum em aplicações financeiras reais.\n",
    "2. **Juros Compostos:** Aqui, os juros são calculados sobre o capital inicial e também sobre os juros acumulados em períodos anteriores. Este é o tipo mais comum em aplicações financeiras e geralmente resulta num crescimento mais rápido do capital."
   ]
  },
  {
   "cell_type": "markdown",
   "id": "82e4fc50-d789-4386-a9e5-5d5aaea61075",
   "metadata": {},
   "source": [
    "### Juros Simples\n",
    "\n",
    "O juro simples é calculado apenas sobre o capital inicial ao longo de cada período. A fórmula para calcular o juro simples ao fim de $n$ anos, com uma taxa anual $r$ é: $$ J = C_i \\times r\\times n $$ \n",
    "\n",
    "Onde:\n",
    "\n",
    "- $J$: juro total;\n",
    "- $C_i$: capital inicial;\n",
    "- $r$: taxa de juro anual, $r=\\frac{x}{100}$, com $x$% de taxa anual;\n",
    "- $n$: número de anos.\n",
    "- \n",
    "O capital final $C_f$ é dado por: $$C_f = C_i + J$$\n",
    "\n",
    " Ou seja: $$C_f = C_i + (C_i \\times r \\times n)\\Leftrightarrow C_f = C_i (1 + r \\times n)$$"
   ]
  },
  {
   "cell_type": "markdown",
   "id": "cab7e164-ab44-4085-9eb0-0bc0c5bc7370",
   "metadata": {},
   "source": [
    "**Exemplo**\n",
    "\n",
    "Suponha que investe 1000€ a uma taxa de juro simples de 5% ao ano por 3 anos. Vamos calcular os juros e o capital acumulado.\n",
    "\n",
    "Dados:\n",
    "\n",
    "$C_i = 1000$€\n",
    "\n",
    "$r = 0,05$\n",
    "\n",
    "$n = 3$ anos\n",
    "\n",
    "Cálculo:\n",
    "\n",
    "$J = 1000\\times 0,05\\times 3 = 150$€\n",
    "\n",
    "$C_f = 1000 + 150 = 1150$€"
   ]
  },
  {
   "cell_type": "markdown",
   "id": "4bf9ebea-5300-479e-a0c6-455bd33c5e48",
   "metadata": {},
   "source": [
    "Vamos criar um programa simples em Python para calcular juros simples:"
   ]
  },
  {
   "cell_type": "code",
   "execution_count": 25,
   "id": "ff893f08",
   "metadata": {
    "editable": true,
    "slideshow": {
     "slide_type": ""
    },
    "tags": [
     "hide-input",
     "hide-output"
    ]
   },
   "outputs": [
    {
     "name": "stdout",
     "output_type": "stream",
     "text": [
      "Juro: 150.00€\n",
      "Capital acumulado: 1000.00€\n"
     ]
    }
   ],
   "source": [
    "def juros_simples(Ci, r, n):\n",
    "    J = Ci * r * n\n",
    "    Cf = Ci + J\n",
    "    return J, Cf\n",
    "\n",
    "# Exemplo\n",
    "\n",
    "Ci = 1000\n",
    "r = 0.05\n",
    "n = 3\n",
    "\n",
    "J, Cf = juros_simples(Ci, r, n)\n",
    "print(f\"Juro: {J:.2f}€\")\n",
    "print(f\"Capital acumulado: {Ci:.2f}€\")"
   ]
  },
  {
   "cell_type": "markdown",
   "id": "0c58ae1a",
   "metadata": {
    "editable": true,
    "slideshow": {
     "slide_type": ""
    },
    "tags": []
   },
   "source": [
    "### Juros Compostos"
   ]
  }
 ],
 "metadata": {
  "jupytext": {
   "cell_metadata_filter": "-all",
   "main_language": "python",
   "notebook_metadata_filter": "-all"
  },
  "kernelspec": {
   "display_name": "Python 3 (ipykernel)",
   "language": "python",
   "name": "python3"
  },
  "language_info": {
   "codemirror_mode": {
    "name": "ipython",
    "version": 3
   },
   "file_extension": ".py",
   "mimetype": "text/x-python",
   "name": "python",
   "nbconvert_exporter": "python",
   "pygments_lexer": "ipython3",
   "version": "3.11.0"
  }
 },
 "nbformat": 4,
 "nbformat_minor": 5
}
