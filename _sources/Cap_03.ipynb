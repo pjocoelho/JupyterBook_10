{
 "cells": [
  {
   "cell_type": "markdown",
   "id": "c65cd963",
   "metadata": {},
   "source": [
    "# Modelos Matemáticos nas Partilhas\n",
    "\n",
    "## Sistemas de Distribuição de Lugares\n",
    "\n",
    "### Método de Hondt\n",
    "\n",
    "O método de Hondt é um sistema de representação proporcional usado para atribuir lugares em assembleias legislativas.\n",
    "\n",
    "**Exemplo**\n",
    "\n",
    "## Princípios de Partilha Justa\n",
    "\n",
    "A partilha justa é um conceito fundamental em muitas situações da vida real, desde a divisão de recursos até a alocação de tarefas. Vamos explorar alguns princípios básicos.\n",
    "\n",
    "```python\n",
    "def verificar_proporcionalidade(recursos, alocacao, populacao):\n",
    "    total_recursos = sum(recursos.values())\n",
    "    total_populacao = sum(populacao.values())\n",
    "    \n",
    "    for entidade in recursos.keys():\n",
    "        proporcao_ideal = populacao[entidade] / total_populacao\n",
    "        proporcao_real = recursos[entidade] / total_recursos\n",
    "        \n",
    "        print(f\"{entidade}:\")\n",
    "        print(f\"  Proporção ideal: {proporcao_ideal:.2%}\")\n",
    "        print(f\"  Proporção real: {proporcao_real:.2%}\")\n",
    "        print(f\"  Diferença: {abs(proporcao_ideal - proporcao_real):.2%}\")\n",
    "        print()\n",
    "\n",
    "# Exemplo\n",
    "recursos = {'A': 100, 'B': 150, 'C': 50}\n",
    "populacao = {'A': 1000, 'B': 1500, 'C': 500}\n",
    "\n",
    "print(\"Análise de proporcionalidade na alocação de recursos:\")\n",
    "verificar_proporcionalidade(recursos, recursos, populacao)\n",
    "```\n",
    "\n",
    "## Métodos de Partilha\n",
    "\n",
    "### Método da Divisão Proporcional\n",
    "\n",
    "```python\n",
    "def divisao_proporcional(total, proporcoes):\n",
    "    fator = total / sum(proporcoes.values())\n",
    "    return {k: v * fator for k, v in proporcoes.items()}\n",
    "\n",
    "# Exemplo\n",
    "orcamento_total = 1000000\n",
    "populacao = {'Cidade A': 50000, 'Cidade B': 30000, 'Cidade C': 20000}\n",
    "\n",
    "alocacao = divisao_proporcional(orcamento_total, populacao)\n",
    "\n",
    "print(\"Alocação de orçamento por divisão proporcional:\")\n",
    "for cidade, valor in alocacao.items():\n",
    "    print(f\"{cidade}: {valor:.2f}\")\n",
    "```\n",
    "\n",
    "### Método da Eliminação do Candidato Mais Fraco\n",
    "\n",
    "Este método é usado em situações onde é necessário eliminar opções gradualmente.\n",
    "\n",
    "```python\n",
    "def eliminacao_mais_fraco(votos):\n",
    "    while len(votos) > 1:\n",
    "        contagem = {candidato: sum(pref[0] == candidato for pref in votos.values()) for candidato in set(pref[0] for pref in votos.values())}\n",
    "        eliminado = min(contagem, key=contagem.get)\n",
    "        votos = {eleitor: [c for c in pref if c != eliminado] for eleitor, pref in votos.items()}\n",
    "        print(f\"Candidato eliminado: {eliminado}\")\n",
    "    return votos[next(iter(votos))][0]\n",
    "\n",
    "# Exemplo\n",
    "votos = {\n",
    "    'Eleitor 1': ['A', 'B', 'C', 'D'],\n",
    "    'Eleitor 2': ['B', 'A', 'D', 'C'],\n",
    "    'Eleitor 3': ['C', 'B', 'A', 'D'],\n",
    "    'Eleitor 4': ['B', 'C', 'D', 'A'],\n",
    "    'Eleitor 5': ['D', 'C', 'A', 'B']\n",
    "}\n",
    "\n",
    "vencedor = eliminacao_mais_fraco(votos)\n",
    "print(f\"Vencedor final: {vencedor}\")\n",
    "```\n",
    "\n",
    "### Método da Distribuição dos Restos\n",
    "\n",
    "Este método é frequentemente usado em sistemas eleitorais proporcionais.\n",
    "\n",
    "```python\n",
    "def distribuicao_restos(votos, assentos):\n",
    "    total_votos = sum(votos.values())\n",
    "    quociente = total_votos / assentos\n",
    "    alocacao_inicial = {partido: int(votos[partido] / quociente) for partido in votos}\n",
    "    restos = {partido: votos[partido] % quociente for partido in votos}\n",
    "    \n",
    "    assentos_restantes = assentos - sum(alocacao_inicial.values())\n",
    "    for _ in range(assentos_restantes):\n",
    "        partido_max_resto = max(restos, key=restos.get)\n",
    "        alocacao_inicial[partido_max_resto] += 1\n",
    "        restos[partido_max_resto] = 0\n",
    "    \n",
    "    return alocacao_inicial\n",
    "\n",
    "# Exemplo\n",
    "votos_partidos = {'A': 100000, 'B': 80000, 'C': 30000, 'D': 20000}\n",
    "num_assentos = 10\n",
    "\n",
    "resultado = distribuicao_restos(votos_partidos, num_assentos)\n",
    "print(\"Distribuição de assentos pelo método dos restos:\")\n",
    "for partido, assentos in resultado.items():\n",
    "    print(f\"{partido}: {assentos} assentos\")\n",
    "```\n",
    "\n",
    "## Aplicações Práticas de Partilhas\n",
    "\n",
    "### Distribuição de Recursos em Organizações\n",
    "\n",
    "```python\n",
    "def distribuir_recursos(orcamento_total, departamentos, criterios):\n",
    "    pontuacao_total = sum(sum(criterio[dept] for criterio in criterios.values()) for dept in departamentos)\n",
    "    alocacao = {dept: 0 for dept in departamentos}\n",
    "    \n",
    "    for dept in departamentos:\n",
    "        pontos_dept = sum(criterio[dept] for criterio in criterios.values())\n",
    "        alocacao[dept] = (pontos_dept / pontuacao_total) * orcamento_total\n",
    "    \n",
    "    return alocacao\n",
    "\n",
    "# Exemplo\n",
    "orcamento = 1000000\n",
    "departamentos = ['RH', 'TI', 'Marketing', 'Vendas']\n",
    "criterios = {\n",
    "    'tamanho': {'RH': 20, 'TI': 30, 'Marketing': 15, 'Vendas': 35},\n",
    "    'impacto': {'RH': 25, 'TI': 35, 'Marketing': 20, 'Vendas': 20},\n",
    "    'urgencia': {'RH': 15, 'TI': 25, 'Marketing': 30, 'Vendas': 30}\n",
    "}\n",
    "\n",
    "alocacao = distribuir_recursos(orcamento, departamentos, criterios)\n",
    "\n",
    "print(\"Alocação de recursos por departamento:\")\n",
    "for dept, valor in alocacao.items():\n",
    "    print(f\"{dept}: {valor:.2f}\")\n",
    "```\n",
    "\n",
    "### Divisão de Heranças\n",
    "\n",
    "```python\n",
    "def dividir_heranca(valor_total, herdeiros, pesos):\n",
    "    total_pesos = sum(pesos.values())\n",
    "    divisao = {herdeiro: (peso / total_pesos) * valor_total for herdeiro, peso in pesos.items()}\n",
    "    return divisao\n",
    "\n",
    "# Exemplo\n",
    "valor_heranca = 1000000\n",
    "herdeiros = ['Alice', 'Bob', 'Charlie']\n",
    "pesos = {'Alice': 2, 'Bob': 1, 'Charlie': 1}  # Alice recebe o dobro dos outros\n",
    "\n",
    "divisao = dividir_heranca(valor_heranca, herdeiros, pesos)\n",
    "\n",
    "print(\"Divisão da herança:\")\n",
    "for herdeiro, valor in divisao.items():\n",
    "    print(f\"{herdeiro}: {valor:.2f}\")\n",
    "```\n",
    "\n",
    "## Fairness e Equidade em Partilhas\n",
    "\n",
    "```python\n",
    "def avaliar_equidade(alocacao, necessidades):\n",
    "    satisfacao = {entidade: alocacao[entidade] / necessidades[entidade] for entidade in alocacao}\n",
    "    \n",
    "    print(\"Avaliação de equidade:\")\n",
    "    for entidade, nivel in satisfacao.items():\n",
    "        print(f\"{entidade}: {nivel:.2%} das necessidades atendidas\")\n",
    "    \n",
    "    desigualdade = max(satisfacao.values()) - min(satisfacao.values())\n",
    "    print(f\"\\nÍndice de desigualdade: {desigualdade:.2f}\")\n",
    "    \n",
    "    return desigualdade\n",
    "\n",
    "# Exemplo\n",
    "alocacao_recursos = {'Dept A': 100000, 'Dept B': 150000, 'Dept C': 50000}\n",
    "necessidades = {'Dept A': 120000, 'Dept B': 180000, 'Dept C': 70000}\n",
    "\n",
    "avaliar_equidade(alocacao_recursos, necessidades)\n",
    "```"
   ]
  },
  {
   "cell_type": "code",
   "execution_count": 3,
   "id": "f77ed01a-1445-4604-9450-e8acecd34f1e",
   "metadata": {
    "tags": []
   },
   "outputs": [
    {
     "name": "stdout",
     "output_type": "stream",
     "text": [
      "Distribuição de lugares pelo método de Hondt:\n",
      "Partido A: 5 lugares\n",
      "Partido B: 4 lugares\n",
      "Partido C: 1 lugares\n",
      "Partido D: 0 lugares\n"
     ]
    }
   ],
   "source": [
    "def metodo_hondt(votos, lugares):\n",
    "    partidos = list(votos.keys())\n",
    "    distribuicao = {partido: 0 for partido in partidos}\n",
    "    \n",
    "    for _ in range(lugares):\n",
    "        quocientes = {partido: votos[partido] / (distribuicao[partido] + 1) for partido in partidos}\n",
    "        vencedor = max(quocientes, key=quocientes.get)\n",
    "        distribuicao[vencedor] += 1\n",
    "    \n",
    "    return distribuicao\n",
    "\n",
    "votos = {'Partido A': 100000, 'Partido B': 80000, 'Partido C': 30000, 'Partido D': 20000}\n",
    "lugares = 10\n",
    "resultado = metodo_hondt(votos, lugares)\n",
    "print(\"Distribuição de lugares pelo método de Hondt:\")\n",
    "for partido, num_lugares in resultado.items():\n",
    "    print(f\"{partido}: {num_lugares} lugares\")"
   ]
  },
  {
   "cell_type": "markdown",
   "id": "74cb9584-a534-4325-bc78-366d42024ac1",
   "metadata": {},
   "source": [
    "### Método de Sainte-Laguë\n",
    "\n",
    "O método de Sainte-Laguë é outra forma de distribuição proporcional de assentos, que tende a favorecer partidos menores em comparação com o método de Hondt."
   ]
  },
  {
   "cell_type": "markdown",
   "id": "46c08d83-a429-473b-b53f-afc718a44e61",
   "metadata": {},
   "source": [
    "**Exemplo**"
   ]
  },
  {
   "cell_type": "code",
   "execution_count": 7,
   "id": "c792a647-35dd-4672-8815-dae3f2095be3",
   "metadata": {
    "tags": []
   },
   "outputs": [
    {
     "name": "stdout",
     "output_type": "stream",
     "text": [
      "\n",
      "Distribuição de lugares pelo método de Sainte-Laguë:\n",
      "Partido A: 4 lugares\n",
      "Partido B: 4 lugares\n",
      "Partido C: 1 lugares\n",
      "Partido D: 1 lugares\n"
     ]
    }
   ],
   "source": [
    "def metodo_sainte_lague(votos, lugares):\n",
    "    partidos = list(votos.keys())\n",
    "    distribuicao = {partido: 0 for partido in partidos}\n",
    "    \n",
    "    for _ in range(lugares):\n",
    "        quocientes = {partido: votos[partido] / (2 * distribuicao[partido] + 1) for partido in partidos}\n",
    "        vencedor = max(quocientes, key=quocientes.get)\n",
    "        distribuicao[vencedor] += 1\n",
    "    \n",
    "    return distribuicao\n",
    "\n",
    "# Exemplo\n",
    "\n",
    "votos = {'Partido A': 100000, 'Partido B': 80000, 'Partido C': 30000, 'Partido D': 20000}\n",
    "lugares = 10\n",
    "resultado = metodo_sainte_lague(votos, lugares)\n",
    "print(\"\\nDistribuição de lugares pelo método de Sainte-Laguë:\")\n",
    "for partido, num_lugares in resultado.items():\n",
    "    print(f\"{partido}: {num_lugares} lugares\")"
   ]
  },
  {
   "cell_type": "markdown",
   "id": "04566a93-339a-40c0-bf13-a39d122cc149",
   "metadata": {},
   "source": [
    "### Visualização da comparação entre os dois métodos"
   ]
  },
  {
   "cell_type": "code",
   "execution_count": 10,
   "id": "d0f121ea-e926-4663-a807-2c4b9283572b",
   "metadata": {
    "tags": []
   },
   "outputs": [
    {
     "data": {
      "image/png": "[encoded data removed]",
      "text/plain": [
       "<Figure size 1200x600 with 1 Axes>"
      ]
     },
     "metadata": {},
     "output_type": "display_data"
    },
    {
     "name": "stdout",
     "output_type": "stream",
     "text": [
      "Distribuição de lugares pelo método de Hondt:\n",
      "Partido A: 5 lugares\n",
      "Partido B: 4 lugares\n",
      "Partido C: 1 lugares\n",
      "Partido D: 0 lugares\n",
      "\n",
      "Distribuição de lugares pelo método de Sainte-Laguë:\n",
      "Partido A: 4 lugares\n",
      "Partido B: 4 lugares\n",
      "Partido C: 1 lugares\n",
      "Partido D: 1 lugares\n"
     ]
    }
   ],
   "source": [
    "import matplotlib.pyplot as plt\n",
    "\n",
    "def metodo_hondt(votos, lugares):\n",
    "    partidos = list(votos.keys())\n",
    "    distribuicao = {partido: 0 for partido in partidos}\n",
    "    \n",
    "    for _ in range(lugares):\n",
    "        quocientes = {partido: votos[partido] / (distribuicao[partido] + 1) for partido in partidos}\n",
    "        vencedor = max(quocientes, key=quocientes.get)\n",
    "        distribuicao[vencedor] += 1\n",
    "    \n",
    "    return distribuicao\n",
    "\n",
    "def metodo_sainte_lague(votos, lugares):\n",
    "    partidos = list(votos.keys())\n",
    "    distribuicao = {partido: 0 for partido in partidos}\n",
    "    \n",
    "    for _ in range(lugares):\n",
    "        quocientes = {partido: votos[partido] / (2 * distribuicao[partido] + 1) for partido in partidos}\n",
    "        vencedor = max(quocientes, key=quocientes.get)\n",
    "        distribuicao[vencedor] += 1\n",
    "    \n",
    "    return distribuicao\n",
    "\n",
    "def comparar_metodos(votos, lugares):\n",
    "    resultado_hondt = metodo_hondt(votos, lugares)\n",
    "    resultado_sainte_lague = metodo_sainte_lague(votos, lugares)\n",
    "\n",
    "    partidos = list(votos.keys())\n",
    "    lugares_hondt = [resultado_hondt[partido] for partido in partidos]\n",
    "    lugares_sainte_lague = [resultado_sainte_lague[partido] for partido in partidos]\n",
    "\n",
    "    x = range(len(partidos))\n",
    "    width = 0.35\n",
    "\n",
    "    fig, ax = plt.subplots(figsize=(12, 6))\n",
    "    rects1 = ax.bar([i - width/2 for i in x], lugares_hondt, width, label='Método de Hondt', color='blue', alpha=0.7)\n",
    "    rects2 = ax.bar([i + width/2 for i in x], lugares_sainte_lague, width, label='Método de Sainte-Laguë', color='red', alpha=0.7)\n",
    "\n",
    "    ax.set_ylabel('Número de Lugares')\n",
    "    ax.set_title('Comparação entre os métodos de Hondt e Sainte-Laguë')\n",
    "    ax.set_xticks(x)\n",
    "    ax.set_xticklabels(partidos)\n",
    "    ax.legend()\n",
    "\n",
    "    ax.bar_label(rects1, padding=3)\n",
    "    ax.bar_label(rects2, padding=3)\n",
    "\n",
    "    fig.tight_layout()\n",
    "\n",
    "    plt.show()\n",
    "\n",
    "    print(\"Distribuição de lugares pelo método de Hondt:\")\n",
    "    for partido, num_lugares in resultado_hondt.items():\n",
    "        print(f\"{partido}: {num_lugares} lugares\")\n",
    "\n",
    "    print(\"\\nDistribuição de lugares pelo método de Sainte-Laguë:\")\n",
    "    for partido, num_lugares in resultado_sainte_lague.items():\n",
    "        print(f\"{partido}: {num_lugares} lugares\")\n",
    "\n",
    "# Exemplo de uso\n",
    "\n",
    "votos = {'Partido A': 100000, 'Partido B': 80000, 'Partido C': 30000, 'Partido D': 20000}\n",
    "lugares = 10\n",
    "comparar_metodos(votos, lugares)"
   ]
  },
  {
   "cell_type": "markdown",
   "id": "e1894f1f-38c7-43d6-8b45-703f5763ef15",
   "metadata": {},
   "source": [
    "## Análise e Comparação de Sistemas Eleitorais\n",
    "\n",
    "Nesta seção, vamos analisar e comparar diferentes sistemas eleitorais, destacando suas vantagens e desvantagens.\n",
    "\n",
    "Após executar o código, poderá observar:\n",
    "\n",
    "- Um resumo textual dos resultados para cada sistema eleitoral.\n",
    "- Dois gráficos de barras comparando os sistemas: (Frequência do vencedor por sistema; Frequência de segunda volta por sistema (será zero para Maioria Simples e Método de Borda))\n",
    "\n",
    "Os parâmetros (número de simulações, eleitores e candidatos) podem ser ajustados para explorar diferentes cenários.\n",
    "\n",
    "Algumas sugestões para discussão com os alunos:\n",
    "\n",
    "Comparar como a frequência do vencedor varia entre os sistemas.\n",
    "Analisar a frequência de segunda volta no sistema de Maioria Absoluta e discutir suas implicações.\n",
    "Discutir como o Método de Borda leva em conta as preferências completas dos eleitores, em contraste com os outros métodos.\n",
    "Explorar como os resultados mudam ao variar o número de candidatos ou eleitores.\n",
    "\n",
    "Este código fornece uma base sólida para explorar e comparar esses três sistemas eleitorais de forma visual e quantitativa."
   ]
  },
  {
   "cell_type": "code",
   "execution_count": 13,
   "id": "f78fc507-2557-4e57-93b5-ec5e2a4afcf1",
   "metadata": {
    "tags": []
   },
   "outputs": [
    {
     "name": "stdout",
     "output_type": "stream",
     "text": [
      "\n",
      "Resultados das simulações (10000 simulações, 1000 eleitores, 5 candidatos):\n",
      "\n",
      "Maioria_simples:\n",
      "  Vencedor mais frequente: Candidato 3\n",
      "  Frequência do vencedor: 20.90%\n",
      "\n",
      "Maioria_absoluta:\n",
      "  Vencedor mais frequente: Não determinado\n",
      "  Frequência do vencedor: 0.00%\n",
      "  Frequência de segunda volta: 100.00%\n",
      "\n",
      "Borda:\n",
      "  Vencedor mais frequente: Candidato 2\n",
      "  Frequência do vencedor: 20.62%\n"
     ]
    },
    {
     "data": {
      "image/png": "[encoded data removed]",
      "text/plain": [
       "<Figure size 1500x600 with 2 Axes>"
      ]
     },
     "metadata": {},
     "output_type": "display_data"
    }
   ],
   "source": [
    "import random\n",
    "import matplotlib.pyplot as plt\n",
    "from collections import Counter\n",
    "\n",
    "def simular_eleicao(num_eleitores, num_candidatos, sistema_eleitoral):\n",
    "    if sistema_eleitoral in ['maioria_simples', 'maioria_absoluta']:\n",
    "        votos = [random.randint(1, num_candidatos) for _ in range(num_eleitores)]\n",
    "        contagem = Counter(votos)\n",
    "        \n",
    "        if sistema_eleitoral == 'maioria_simples':\n",
    "            return max(contagem, key=contagem.get)\n",
    "        elif sistema_eleitoral == 'maioria_absoluta':\n",
    "            if max(contagem.values()) > num_eleitores / 2:\n",
    "                return max(contagem, key=contagem.get)\n",
    "            else:\n",
    "                return 'Segunda Volta'\n",
    "    elif sistema_eleitoral == 'borda':\n",
    "        votos = [random.sample(range(1, num_candidatos + 1), num_candidatos) for _ in range(num_eleitores)]\n",
    "        pontuacao = {i: 0 for i in range(1, num_candidatos + 1)}\n",
    "        for voto in votos:\n",
    "            for posicao, candidato in enumerate(voto):\n",
    "                pontuacao[candidato] += num_candidatos - posicao\n",
    "        return max(pontuacao, key=pontuacao.get)\n",
    "    else:\n",
    "        return 'Sistema não reconhecido'\n",
    "\n",
    "def executar_simulacoes(num_simulacoes, num_eleitores, num_candidatos):\n",
    "    sistemas = ['maioria_simples', 'maioria_absoluta', 'borda']\n",
    "    resultados = {sistema: [] for sistema in sistemas}\n",
    "    \n",
    "    for _ in range(num_simulacoes):\n",
    "        for sistema in sistemas:\n",
    "            resultados[sistema].append(simular_eleicao(num_eleitores, num_candidatos, sistema))\n",
    "    \n",
    "    return resultados\n",
    "\n",
    "def analisar_resultados(resultados, num_simulacoes):\n",
    "    analise = {}\n",
    "    for sistema, res in resultados.items():\n",
    "        contagem = Counter(res)\n",
    "        segunda_volta_freq = contagem.get('Segunda Volta', 0) / num_simulacoes\n",
    "        contagem.pop('Segunda Volta', None)\n",
    "        \n",
    "        if contagem:\n",
    "            vencedor = max(contagem, key=contagem.get)\n",
    "            freq_vencedor = contagem[vencedor] / num_simulacoes\n",
    "        else:\n",
    "            vencedor = 'Não determinado'\n",
    "            freq_vencedor = 0\n",
    "        \n",
    "        analise[sistema] = {\n",
    "            'vencedor': vencedor,\n",
    "            'freq_vencedor': freq_vencedor,\n",
    "            'segunda_volta_freq': segunda_volta_freq\n",
    "        }\n",
    "    return analise\n",
    "\n",
    "def visualizar_resultados(analise):\n",
    "    sistemas = list(analise.keys())\n",
    "    freq_vencedor = [analise[s]['freq_vencedor'] for s in sistemas]\n",
    "    segunda_volta_freq = [analise[s]['segunda_volta_freq'] for s in sistemas]\n",
    "\n",
    "    fig, (ax1, ax2) = plt.subplots(1, 2, figsize=(15, 6))\n",
    "\n",
    "    # Gráfico de barras para frequência do vencedor\n",
    "    ax1.bar(sistemas, freq_vencedor)\n",
    "    ax1.set_title('Frequência do Vencedor por Sistema')\n",
    "    ax1.set_ylabel('Frequência')\n",
    "    ax1.set_ylim(0, 1)\n",
    "    for i, v in enumerate(freq_vencedor):\n",
    "        ax1.text(i, v, f'{v:.2%}', ha='center', va='bottom')\n",
    "\n",
    "    # Gráfico de barras para frequência de segunda volta\n",
    "    ax2.bar(sistemas, segunda_volta_freq)\n",
    "    ax2.set_title('Frequência de Segunda Volta por Sistema')\n",
    "    ax2.set_ylabel('Frequência')\n",
    "    ax2.set_ylim(0, 1)\n",
    "    for i, v in enumerate(segunda_volta_freq):\n",
    "        ax2.text(i, v, f'{v:.2%}', ha='center', va='bottom')\n",
    "\n",
    "    plt.tight_layout()\n",
    "    plt.show()\n",
    "\n",
    "# Parâmetros da simulação\n",
    "num_simulacoes = 10000\n",
    "num_eleitores = 1000\n",
    "num_candidatos = 5\n",
    "\n",
    "# Executar simulações\n",
    "resultados = executar_simulacoes(num_simulacoes, num_eleitores, num_candidatos)\n",
    "\n",
    "# Analisar resultados\n",
    "analise = analisar_resultados(resultados, num_simulacoes)\n",
    "\n",
    "# Imprimir resultados\n",
    "print(f\"\\nResultados das simulações ({num_simulacoes} simulações, {num_eleitores} eleitores, {num_candidatos} candidatos):\")\n",
    "for sistema, dados in analise.items():\n",
    "    print(f\"\\n{sistema.capitalize()}:\")\n",
    "    print(f\"  Vencedor mais frequente: {'Candidato ' + str(dados['vencedor']) if dados['vencedor'] != 'Não determinado' else dados['vencedor']}\")\n",
    "    print(f\"  Frequência do vencedor: {dados['freq_vencedor']:.2%}\")\n",
    "    if sistema == 'maioria_absoluta':\n",
    "        print(f\"  Frequência de segunda volta: {dados['segunda_volta_freq']:.2%}\")\n",
    "\n",
    "# Visualizar resultados\n",
    "visualizar_resultados(analise)"
   ]
  },
  {
   "cell_type": "markdown",
   "id": "2ba70ac6-e4db-4f48-a02b-8eb77f4fcf58",
   "metadata": {},
   "source": [
    "## Questões"
   ]
  },
  {
   "cell_type": "code",
   "execution_count": 27,
   "id": "b83a1f63-4e66-4754-a501-43002dc1aeae",
   "metadata": {
    "tags": []
   },
   "outputs": [],
   "source": [
    "import ipywidgets as widgets\n",
    "from IPython.display import display, HTML\n",
    "\n",
    "def check_answer(button):\n",
    "    if button.description == correct_answer.value:\n",
    "        result.value = \"Correto!\"\n",
    "    else:\n",
    "        result.value = \"Incorreto. Tente novamente.\""
   ]
  },
  {
   "cell_type": "markdown",
   "id": "d804e9dd-a3f3-4e6f-942f-513572b30e92",
   "metadata": {},
   "source": [
    "### Questão 1: Maioria Simples"
   ]
  },
  {
   "cell_type": "code",
   "execution_count": 30,
   "id": "b4a88a45-6e16-4aa1-8d80-a2a3018c9adb",
   "metadata": {
    "tags": []
   },
   "outputs": [
    {
     "name": "stdout",
     "output_type": "stream",
     "text": [
      "Quiz 1: Maioria Simples\n"
     ]
    },
    {
     "data": {
      "application/vnd.jupyter.widget-view+json": {
       "model_id": "a21090e064f04ede87f29a94a5c49f68",
       "version_major": 2,
       "version_minor": 0
      },
      "text/plain": [
       "HTML(value='<h3>Quiz 1: Maioria Simples</h3><p>Numa eleição com três candidatos, os votos são distribuídos da …"
      ]
     },
     "metadata": {},
     "output_type": "display_data"
    },
    {
     "data": {
      "application/vnd.jupyter.widget-view+json": {
       "model_id": "7cdfad58263d4070b4077bfe1980882a",
       "version_major": 2,
       "version_minor": 0
      },
      "text/plain": [
       "Button(description='A', style=ButtonStyle())"
      ]
     },
     "metadata": {},
     "output_type": "display_data"
    },
    {
     "data": {
      "application/vnd.jupyter.widget-view+json": {
       "model_id": "20e11dc40d2d4334b8d2dfe65cc97b00",
       "version_major": 2,
       "version_minor": 0
      },
      "text/plain": [
       "Button(description='B', style=ButtonStyle())"
      ]
     },
     "metadata": {},
     "output_type": "display_data"
    },
    {
     "data": {
      "application/vnd.jupyter.widget-view+json": {
       "model_id": "e129b87031d443c8b3a8c3d2d5d7818e",
       "version_major": 2,
       "version_minor": 0
      },
      "text/plain": [
       "Button(description='C', style=ButtonStyle())"
      ]
     },
     "metadata": {},
     "output_type": "display_data"
    },
    {
     "data": {
      "application/vnd.jupyter.widget-view+json": {
       "model_id": "3d0c603bb5d04df8ba2bba982d1cd4c4",
       "version_major": 2,
       "version_minor": 0
      },
      "text/plain": [
       "Label(value='')"
      ]
     },
     "metadata": {},
     "output_type": "display_data"
    }
   ],
   "source": [
    "import jupyterquiz\n",
    "\n",
    "def quiz_maioria_simples():\n",
    "    global correct_answer, result\n",
    "    \n",
    "    question = widgets.HTML(\n",
    "        value=\"<h3>Quiz 1: Maioria Simples</h3><p>Numa eleição com três candidatos, os votos são distribuídos da seguinte forma:</p><ul><li>A: 45 votos</li><li>B: 30 votos</li><li>C: 25 votos</li></ul><p>Quem é o vencedor pela maioria simples?</p>\"\n",
    "    )\n",
    "    \n",
    "    options = ['A', 'B', 'C']\n",
    "    correct_answer = widgets.fixed('A')\n",
    "    \n",
    "    buttons = [widgets.Button(description=opt) for opt in options]\n",
    "    for button in buttons:\n",
    "        button.on_click(check_answer)\n",
    "    \n",
    "    result = widgets.Label()\n",
    "    \n",
    "    display(question, *buttons, result)\n",
    "    \n",
    "print(\"Quiz 1: Maioria Simples\")\n",
    "quiz_maioria_simples()"
   ]
  },
  {
   "cell_type": "markdown",
   "id": "0d6e6daf-9290-4ef7-9e43-693381a837ac",
   "metadata": {},
   "source": [
    "### Questão 2: Maioria absoluta"
   ]
  },
  {
   "cell_type": "code",
   "execution_count": 19,
   "id": "539a0335-e997-4a11-98c1-5bd7440f3507",
   "metadata": {
    "tags": []
   },
   "outputs": [
    {
     "name": "stdout",
     "output_type": "stream",
     "text": [
      "\n",
      "Quiz 2: Maioria Absoluta\n"
     ]
    },
    {
     "data": {
      "application/vnd.jupyter.widget-view+json": {
       "model_id": "bf2524cb9afb46e3931109134bf5760e",
       "version_major": 2,
       "version_minor": 0
      },
      "text/plain": [
       "HTML(value='<h3>Quiz 2: Maioria Absoluta</h3><p>Numa eleição com três candidatos, os votos são distribuídos da…"
      ]
     },
     "metadata": {},
     "output_type": "display_data"
    },
    {
     "data": {
      "application/vnd.jupyter.widget-view+json": {
       "model_id": "cb14afb6d46e4215b061c3bd2856e553",
       "version_major": 2,
       "version_minor": 0
      },
      "text/plain": [
       "Button(description='Sim', style=ButtonStyle())"
      ]
     },
     "metadata": {},
     "output_type": "display_data"
    },
    {
     "data": {
      "application/vnd.jupyter.widget-view+json": {
       "model_id": "27f93762f9564d02aa99fc22b75007e0",
       "version_major": 2,
       "version_minor": 0
      },
      "text/plain": [
       "Button(description='Não', style=ButtonStyle())"
      ]
     },
     "metadata": {},
     "output_type": "display_data"
    },
    {
     "data": {
      "application/vnd.jupyter.widget-view+json": {
       "model_id": "1636cab5334642ce8a3bce92c5382e98",
       "version_major": 2,
       "version_minor": 0
      },
      "text/plain": [
       "Label(value='')"
      ]
     },
     "metadata": {},
     "output_type": "display_data"
    }
   ],
   "source": [
    "def quiz_maioria_absoluta():\n",
    "    global correct_answer, result\n",
    "    \n",
    "    question = widgets.HTML(\n",
    "        value=\"<h3>Quiz 2: Maioria Absoluta</h3><p>Numa eleição com três candidatos, os votos são distribuídos da seguinte forma:</p><ul><li>A: 45 votos</li><li>B: 30 votos</li><li>C: 25 votos</li></ul><p>Há um vencedor pela maioria absoluta?</p>\"\n",
    "    )\n",
    "    \n",
    "    options = ['Sim', 'Não']\n",
    "    correct_answer = widgets.fixed('Não')\n",
    "    \n",
    "    buttons = [widgets.Button(description=opt) for opt in options]\n",
    "    for button in buttons:\n",
    "        button.on_click(check_answer)\n",
    "    \n",
    "    result = widgets.Label()\n",
    "    \n",
    "    display(question, *buttons, result)\n",
    "    \n",
    "print(\"\\nQuiz 2: Maioria Absoluta\")\n",
    "quiz_maioria_absoluta()"
   ]
  },
  {
   "cell_type": "markdown",
   "id": "f54597f4-78f4-458c-a773-3b4f6866994e",
   "metadata": {},
   "source": [
    "### Questão 3: Métodos Eleitorais"
   ]
  },
  {
   "cell_type": "code",
   "execution_count": 21,
   "id": "0254e6a7-aba1-4146-afc0-604741d0454c",
   "metadata": {
    "tags": []
   },
   "outputs": [
    {
     "name": "stdout",
     "output_type": "stream",
     "text": [
      "\n",
      "Quiz 3: Métodos Eleitorais\n"
     ]
    },
    {
     "data": {
      "application/vnd.jupyter.widget-view+json": {
       "model_id": "39437584adc649558910b00dfcd7b7a0",
       "version_major": 2,
       "version_minor": 0
      },
      "text/plain": [
       "HTML(value='<h3>Quiz 3: Métodos Eleitorais</h3><p>Qual dos seguintes métodos eleitorais garante que o vencedor…"
      ]
     },
     "metadata": {},
     "output_type": "display_data"
    },
    {
     "data": {
      "application/vnd.jupyter.widget-view+json": {
       "model_id": "91e6b861dc3c465081cbb93301c9c3dc",
       "version_major": 2,
       "version_minor": 0
      },
      "text/plain": [
       "Button(description='Maioria Simples', style=ButtonStyle())"
      ]
     },
     "metadata": {},
     "output_type": "display_data"
    },
    {
     "data": {
      "application/vnd.jupyter.widget-view+json": {
       "model_id": "7fc6b190b40240ad9d77871fe1265585",
       "version_major": 2,
       "version_minor": 0
      },
      "text/plain": [
       "Button(description='Maioria Absoluta', style=ButtonStyle())"
      ]
     },
     "metadata": {},
     "output_type": "display_data"
    },
    {
     "data": {
      "application/vnd.jupyter.widget-view+json": {
       "model_id": "54ed1113990246089462347c8391f4a2",
       "version_major": 2,
       "version_minor": 0
      },
      "text/plain": [
       "Button(description='Voto Aleatório', style=ButtonStyle())"
      ]
     },
     "metadata": {},
     "output_type": "display_data"
    },
    {
     "data": {
      "application/vnd.jupyter.widget-view+json": {
       "model_id": "f397ae6552594a6783bd87da360edafb",
       "version_major": 2,
       "version_minor": 0
      },
      "text/plain": [
       "Label(value='')"
      ]
     },
     "metadata": {},
     "output_type": "display_data"
    }
   ],
   "source": [
    "def quiz_metodos_eleitorais():\n",
    "    global correct_answer, result\n",
    "    \n",
    "    question = widgets.HTML(\n",
    "        value=\"<h3>Quiz 3: Métodos Eleitorais</h3><p>Qual dos seguintes métodos eleitorais garante que o vencedor tenha mais de 50% dos votos?</p>\"\n",
    "    )\n",
    "    \n",
    "    options = ['Maioria Simples', 'Maioria Absoluta', 'Voto Aleatório']\n",
    "    correct_answer = widgets.fixed('Maioria Absoluta')\n",
    "    \n",
    "    buttons = [widgets.Button(description=opt) for opt in options]\n",
    "    for button in buttons:\n",
    "        button.on_click(check_answer)\n",
    "    \n",
    "    result = widgets.Label()\n",
    "    \n",
    "    display(question, *buttons, result)\n",
    "    \n",
    "print(\"\\nQuiz 3: Métodos Eleitorais\")\n",
    "quiz_metodos_eleitorais()"
   ]
  },
  {
   "cell_type": "markdown",
   "id": "317ec730-a41d-4015-a324-a68281b1bac6",
   "metadata": {},
   "source": [
    "### Quiz 1: Maioria Simples\n",
    "\n",
    "Numa eleição com três candidatos, os votos são distribuídos da seguinte forma:\n",
    "\n",
    "- A: 45 votos\n",
    "- B: 30 votos\n",
    "- C: 25 votos\n",
    "\n",
    "Quem é o vencedor pela maioria simples?\n",
    "\n",
    "```{dropdown} Clique para ver a resposta\n",
    "**Resposta correta: A**"
   ]
  },
  {
   "cell_type": "markdown",
   "id": "3201ed05-7f4d-4b23-bd48-c389d1554f74",
   "metadata": {},
   "source": [
    "```markdown\n",
    "### Quiz 1: Maioria Simples\n",
    "\n",
    "Numa eleição com três candidatos, os votos são distribuídos da seguinte forma:\n",
    "\n",
    "- A: 45 votos\n",
    "- B: 30 votos\n",
    "- C: 25 votos\n",
    "\n",
    "Quem é o vencedor pela maioria simples?\n",
    "\n",
    "```{toggle} Ver resposta\n",
    "**Resposta correta: A**"
   ]
  },
  {
   "cell_type": "markdown",
   "id": "ab600dd0-6a6e-46c9-ab32-16544d94632f",
   "metadata": {},
   "source": [
    "### Quiz 1: Maioria Simples\n",
    "\n",
    "Numa eleição com três candidatos, os votos são distribuídos da seguinte forma:\n",
    "\n",
    "- A: 45 votos\n",
    "- B: 30 votos\n",
    "- C: 25 votos\n",
    "\n",
    "Quem é o vencedor pela maioria simples?\n",
    "\n",
    "1. A\n",
    "2. B\n",
    "3. C\n",
    "\n",
    "**Resposta correta: A**"
   ]
  },
  {
   "cell_type": "markdown",
   "id": "28a8f2be-b67c-414f-8096-8de86265d086",
   "metadata": {},
   "source": [
    "```{admonition} Quiz 1: Maioria Simples\n",
    ":class: attention\n",
    "\n",
    "Numa eleição com três candidatos, os votos são distribuídos da seguinte forma:\n",
    "\n",
    "- A: 45 votos\n",
    "- B: 30 votos\n",
    "- C: 25 votos\n",
    "\n",
    "Quem é o vencedor pela maioria simples?\n",
    "\n",
    "1. A\n",
    "2. B\n",
    "3. C\n",
    "\n",
    "**Resposta correta: A**"
   ]
  },
  {
   "cell_type": "markdown",
   "id": "49baba4e-b08c-41c6-a9b2-d980ce2369f3",
   "metadata": {},
   "source": [
    "### Quiz 1: Maioria Simples\n",
    "\n",
    "Numa eleição com três candidatos, os votos são distribuídos da seguinte forma:\n",
    "\n",
    "- A: 45 votos\n",
    "- B: 30 votos\n",
    "- C: 25 votos\n",
    "\n",
    "Quem é o vencedor pela maioria simples?\n",
    "\n",
    "```{dropdown} Clique para ver a resposta\n",
    "**Resposta correta: A**"
   ]
  },
  {
   "cell_type": "code",
   "execution_count": null,
   "id": "ce905619-3c60-441d-9af6-1e394f387183",
   "metadata": {},
   "outputs": [],
   "source": []
  }
 ],
 "metadata": {
  "kernelspec": {
   "display_name": "Python 3 (ipykernel)",
   "language": "python",
   "name": "python3"
  },
  "language_info": {
   "codemirror_mode": {
    "name": "ipython",
    "version": 3
   },
   "file_extension": ".py",
   "mimetype": "text/x-python",
   "name": "python",
   "nbconvert_exporter": "python",
   "pygments_lexer": "ipython3",
   "version": "3.11.10"
  }
 },
 "nbformat": 4,
 "nbformat_minor": 5
}
