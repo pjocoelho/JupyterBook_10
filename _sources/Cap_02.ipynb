{
 "cells": [
  {
   "cell_type": "markdown",
   "id": "06005648-4e35-49fc-ad29-a9253dc597d3",
   "metadata": {
    "editable": true,
    "slideshow": {
     "slide_type": ""
    },
    "tags": []
   },
   "source": [
    "# Modelos Matemáticos nas Eleições\n",
    "\n",
    "**Eleição** - Processo de tomada de decisão, em que os elementos de um grupo escolhem, mediante votação, um ou mais candidatos (pessoas ou opções de escolha).\n",
    "\n",
    "Este processo pode ser analisado matematicamente, de modo a que seja possível uma melhor compreensão dos diferentes métodos de votação, a distribuição dos votos e a justiça dos resultados.\n",
    "\n",
    "## Sistemas de Votação\n",
    "\n",
    "Existem vários sistemas de votação, dos quais destacamos os sistemas maioritários e os sistemas por ordem de preferência.\n",
    "\n",
    "### Sistemas maioritários\n",
    "\n",
    "#### Maioria Simples\n",
    "\n",
    "O sistema de maioria simples é o mais básico dos sistemas eleitorais. O candidato com mais votos vence, independentemente do número total de votos ou da percentagem alcançada - não é necessário obter mais de 50% dos votos."
   ]
  },
  {
   "cell_type": "markdown",
   "id": "fe573998-5338-4328-8e44-ebd81b0859ea",
   "metadata": {
    "editable": true,
    "slideshow": {
     "slide_type": ""
    },
    "tags": []
   },
   "source": [
    "<div class=\"blue-background-dark-blue-text\">\n",
    "    \n",
    "**Exercício 1**\n",
    "\n",
    "Numa eleição com três candidatos, *A*, *B* e *C*, registaram-se os seguintes votos:\n",
    "\n",
    "- Candidato *A*: 100 votos\n",
    "- Candidato *B*: 80 votos\n",
    "- Candidato *C*: 70 votos\n",
    "\n",
    "1. Pela Maioria Simples qual é o vencedor?\n",
    "2. Copie o código python para o Colab e altere os valores dos votos de cada candidato. Antes de executar o código decida qual é agora o vencedor. Execute o código e confirme.\n",
    "\n",
    "</div>"
   ]
  },
  {
   "cell_type": "code",
   "execution_count": 3,
   "id": "70460cba-fb39-453a-9a31-ea71855778d7",
   "metadata": {
    "editable": true,
    "slideshow": {
     "slide_type": ""
    },
    "tags": [
     "hide-input",
     "hide-output"
    ]
   },
   "outputs": [
    {
     "name": "stdout",
     "output_type": "stream",
     "text": [
      "O vencedor por maioria simples é: Candidato A\n"
     ]
    }
   ],
   "source": [
    "def maioria_simples(votos):\n",
    "    return max(votos, key=votos.get)\n",
    "votos = {'Candidato A': 100, 'Candidato B': 80, 'Candidato C': 70}\n",
    "vencedor = maioria_simples(votos)\n",
    "print(f\"O vencedor por maioria simples é: {vencedor}\")"
   ]
  },
  {
   "cell_type": "markdown",
   "id": "8060ecbb-a62f-4598-b450-12d2467c5292",
   "metadata": {
    "tags": []
   },
   "source": [
    "#### Maioria Absoluta\n",
    "\n",
    "A maioria absoluta requer que o vencedor obtenha o maior número de votos e que seja superior a 50% do total dos votos. Se nenhum candidato alcançar mais de 50% do total de votos, não existe vencedor em apenas uma volta. Nesse caso recorre-se a uma segunda volta em que participam os dois candidatos mais votados na primeira volta."
   ]
  },
  {
   "cell_type": "markdown",
   "id": "4f9cea0e-00bc-4f93-beeb-dc0024b0d96a",
   "metadata": {},
   "source": [
    "<div class=\"blue-background-dark-blue-text\">\n",
    "\n",
    "\n",
    "**Exercício 2**\n",
    "\n",
    "Numa eleição com três candidatos, *A*, *B* e *C*, registaram-se os seguintes votos:\n",
    "\n",
    "- Candidato *A*: 100 votos\n",
    "- Candidato *B*: 80 votos\n",
    "- Candidato *C*: 70 votos\n",
    "\n",
    "1. Pela Maioria Absoluta existe vencedor ou é necessário realizar uma segunda volta?\n",
    "2. Copie o código python para o Colab e altere os valores dos votos de cada candidato. Antes de executar o código decida qual é agora o vencedor, ou se é necessária uma segunda volta. Execute o código e confirme.\n",
    "\n",
    "</div>"
   ]
  },
  {
   "cell_type": "code",
   "execution_count": 6,
   "id": "3e431e80-293a-4bdd-894b-bebc892d31d0",
   "metadata": {
    "editable": true,
    "slideshow": {
     "slide_type": ""
    },
    "tags": [
     "hide-input",
     "hide-output"
    ]
   },
   "outputs": [
    {
     "name": "stdout",
     "output_type": "stream",
     "text": [
      "Resultado da eleição por maioria absoluta: Segunda volta necessária\n"
     ]
    }
   ],
   "source": [
    "def maioria_absoluta(votos):\n",
    "    total_votos = sum(votos.values())\n",
    "    for candidato, num_votos in votos.items():\n",
    "        if num_votos > total_votos / 2:\n",
    "            return candidato\n",
    "    return \"Segunda volta necessária\"\n",
    "    \n",
    "votos = {'Candidato A': 120, 'Candidato B': 80, 'Candidato C': 70}\n",
    "resultado = maioria_absoluta(votos)\n",
    "print(f\"Resultado da eleição por maioria absoluta: {resultado}\")"
   ]
  },
  {
   "cell_type": "markdown",
   "id": "f8540bc1-8f3c-4ee0-9fc3-48bc4bb72ef3",
   "metadata": {
    "editable": true,
    "slideshow": {
     "slide_type": ""
    },
    "tags": []
   },
   "source": [
    "### Sistemas por ordem de preferência, ou baseados em rankings\n",
    "\n",
    "Nestes sistemas os eleitores classificam os candidatos em opções por ordem de preferência. São concebidos para refletir melhor a vontade dos eleitores, considerando não apenas a primeira escolha de cada eleitor, mas também as suas preferências subsequentes, ordenadas por ordem decrescente de preferência.\n",
    "\n",
    "São sistemas que consideram a posição relativa de cada candidato nas preferências dos eleitores, em vez de considerar exclusivamente o candidato que obtém a maioria dos votos.\n",
    "\n",
    "São exemplos o Método de Borda, Voto Único Transferível e Método de Condorcet.\n",
    "\n",
    "Iremos estudar o Método de Borda (Jean-Charles de Borda (1733-1799), matemático e físico francês). <img src=\"Borda.jpg\" alt=\"Borda\" width=\"75\" height=\"50\">\n",
    "\n",
    "#### Método de Borda\n",
    "\n",
    "Neste método os candidatos recebem pontos de cada eleitor, de acordo com a sua ordem de preferência. Vence o candidato com mais pontos.\n",
    "\n",
    "Como funciona o Método de Borda:\n",
    "\n",
    "- Os eleitores classificam os candidatos em ordem de preferência.\n",
    "- Os candidatos recebem pontos com base na posição em que são classificados em cada lista. Por exemplo, num sistema com 5 candidatos, o primeiro colocado recebe 5 pontos, o segundo 4 pontos, e assim por diante até o último candidato, que recebe 1 ponto.\n",
    "- No final, o candidato com o maior número total de pontos é declarado vencedor.\n",
    "\n",
    "Diferença em relação aos sistemas maioritários:\n",
    "\n",
    "Nos sistemas maioritários, como a maioria simples ou a maioria absoluta, o foco é em quantos votos diretos o candidato recebe, e o vencedor é quem obtém mais votos, seja de forma relativa (maioria simples) ou com mais de 50% dos votos (maioria absoluta). Esses sistemas não levam em consideração a ordem de preferência dos eleitores entre os diferentes candidatos.\n",
    "\n",
    "No Método de Borda, mesmo um candidato que não seja o preferido da maioria absoluta dos eleitores pode vencer, se tiver uma boa pontuação ao ser classificado consistentemente em segundo ou terceiro lugar. Isso contrasta com os sistemas maioritários, nos quais apenas o número de votos diretos decide o vencedor. Portanto, o Método de Borda valoriza o consenso e o apoio relativo mais amplo entre os eleitores, em vez de apenas uma maioria numérica direta.\n",
    "\n",
    "**EXEMPLO**\n",
    "\n",
    "Uma turma do 10.° ano, constituida por 20 alunos, está a organizar uma sessão de cinema na escola. Os alunos têm quatro opções de filmes, pelo que necessitam escolher um. \n",
    "\n",
    "De modo a que o processo de escolha seja transparente e democrático, decidiram fazer a escolha recorrendo ao Método de Borda.\n",
    "\n",
    "*Opções de Filmes:*\n",
    "\n",
    "- A: Oppenheimer (2023)\n",
    "- B: A Lista de Schindler (1993)\n",
    "- C: A Sociedade dos Poetas Mortos (1989)\n",
    "- D: Tempos Modernos (1936)\n",
    "\n",
    "*Processo de Votação*\n",
    "\n",
    "Cada um dos 20 alunos da turma deve ordenar as opções de 1 (favorito) a 4 (menos favorito). Após a votação, obtiveram os seguintes resultados:\n",
    "\n",
    "| Ranking | A | B | C | D |\n",
    "|---------|---|---|---|---|\n",
    "| 1°      | 5 | 8 | 4 | 3 |\n",
    "| 2°      | 6 | 4 | 7 | 3 |\n",
    "| 3°      | 5 | 5 | 6 | 4 |\n",
    "| 4°      | 4 | 3 | 3 | 10|\n",
    "\n",
    "Aplicando o Método de Borda\n",
    "\n",
    "1. *Atribuição de Pontos*: \n",
    "   - 1.° lugar: 4 pontos\n",
    "   - 2.° lugar: 3 pontos\n",
    "   - 3.° lugar: 2 pontos\n",
    "   - 4.° lugar: 1 ponto\n",
    "\n",
    "2. *Cálculo dos Pontos*:\n",
    "\n",
    "   Filme A: (5 × 4) + (6 × 3) + (5 × 2) + (4 × 1) = 20 + 18 + 10 + 4= **52 pontos**\n",
    "   \n",
    "   Filme B: (8 × 4) + (4 × 3) + (5 × 2) + (3 × 1) = 32 + 12 + 10 + 3 = **57 pontos**\n",
    "   \n",
    "   Filme C: (4 × 4) + (7 × 3) + (6 × 2) + (3 × 1) = 16 + 21 + 12 + 3 = **52 pontos**\n",
    "   \n",
    "   Filme D: (3 × 4) + (3 ×3 ) + (4 × 2) + (10 × 1) = 12 + 9 + 8 + 10 = **39 pontos**\n",
    "\n",
    "3. *Ranking Final*:\n",
    "   1. Filme B: 57 pontos\n",
    "   2. Filme A: 52 pontos\n",
    "   3. Filme C: 52 pontos\n",
    "   4. Filme D: 39 pontos\n",
    "\n",
    "*Conclusão*\n",
    "\n",
    "Pelo Método de Borda, o filme escolhido para a noite de cinema seria \"A Lista de Schindler\" (Filme B), que obteve a maior pontuação.\n",
    "\n",
    "> **Nota**: Observe que houve um empate entre os filmes A e C. Em casos assim, pode-se estabelecer um critério de desempate, como o maior número de primeiros lugares ou uma nova votação entre os empatados."
   ]
  },
  {
   "cell_type": "markdown",
   "id": "7791aac5-63d5-4105-a80d-6ba7be29ae2d",
   "metadata": {
    "editable": true,
    "slideshow": {
     "slide_type": ""
    },
    "tags": []
   },
   "source": [
    "<div class=\"blue-background-dark-blue-text\">\n",
    "\n",
    "**Exercício 3**\n",
    "\n",
    "Numa eleição com quatro candidatos, *A*, *B*, *C* e *D*, participaram 5 eleitores. Cada eleitor apresentou uma ordenação distinta de acordo com sua preferência. As cinco ordenações apresentadas, em ordem decrescente de preferência, foram as seguintes: \n",
    "\n",
    "<p style=\"text-align: center;\">\n",
    "  (<i>A</i>, <i>B</i>, <i>C</i>, <i>D</i>);     \n",
    "  (<i>B</i>, <i>C</i>, <i>D</i>, <i>A</i>);     \n",
    "  (<i>C</i>, <i>D</i>, <i>A</i>, <i>B</i>);     \n",
    "  (<i>D</i>, <i>A</i>, <i>B</i>, <i>C</i>);     \n",
    "  (<i>C</i>, <i>A</i>, <i>D</i>, <i>B</i>).\n",
    "</p>\n",
    "\n",
    "1. Pela Método de Borda qual é o vencedor? Com quantos pontos?\n",
    "2. Copie o código python para o Colab. Antes de executar o código determine qual é o vencedor. Execute o código e confirme.\n",
    "3. Experimente aumentar o número de eleitores para 6 e de modo que a ordem de preferência seja distinta das cinco apresentadas. Determine qual é então o vencedor e com quantos pontos. Execute o código e confirme.\n",
    "\n",
    "</div>"
   ]
  },
  {
   "cell_type": "code",
   "execution_count": 9,
   "id": "51f6073d-bdfd-44e7-a999-79673405a0c8",
   "metadata": {
    "editable": true,
    "slideshow": {
     "slide_type": ""
    },
    "tags": [
     "hide-input",
     "hide-output"
    ]
   },
   "outputs": [
    {
     "name": "stdout",
     "output_type": "stream",
     "text": [
      "O vencedor pelo método de Borda é: C com 14 votos.\n"
     ]
    }
   ],
   "source": [
    "def metodo_borda(preferencias):\n",
    "    pontuacao = {candidato: 0 for candidato in preferencias[0]}\n",
    "    for preferencia in preferencias:\n",
    "        for i, candidato in enumerate(reversed(preferencia)):\n",
    "            pontuacao[candidato] += i + 1\n",
    "    vencedor = max(pontuacao, key=pontuacao.get)\n",
    "    return vencedor, pontuacao[vencedor]\n",
    "\n",
    "preferencias = [\n",
    "    ['A', 'B', 'C', 'D'],\n",
    "    ['B', 'C', 'D', 'A'],\n",
    "    ['C', 'D', 'A', 'B'],\n",
    "    ['D', 'A', 'B', 'C'],\n",
    "    ['C', 'A', 'D', 'B']\n",
    "]\n",
    "vencedor, votos_vencedor = metodo_borda(preferencias)\n",
    "print(f\"O vencedor pelo método de Borda é: {vencedor} com {votos_vencedor} votos.\")"
   ]
  },
  {
   "cell_type": "markdown",
   "id": "7f0cd307-749d-4888-9fa0-1ca6e21da5e5",
   "metadata": {
    "editable": true,
    "slideshow": {
     "slide_type": ""
    },
    "tags": [
     "hide-input"
    ]
   },
   "source": [
    "## Análise e Comparação de Sistemas de Votação\n",
    "\n",
    "Nesta seção, vamos analisar e comparar diferentes sistemas de votação, destacando suas vantagens e desvantagens.\n",
    "\n",
    "Após executar o código, poderá observar:\n",
    "\n",
    "- Um resumo textual dos resultados para cada sistema eleitoral.\n",
    "- Dois gráficos de barras comparando os sistemas: (Frequência do vencedor por sistema; Frequência de segunda volta por sistema (será zero para Maioria Simples e Método de Borda))\n",
    "\n",
    "Os parâmetros (número de simulações, eleitores e candidatos) podem ser ajustados para explorar diferentes cenários.\n",
    "\n",
    "Algumas sugestões para discussão com os alunos:\n",
    "\n",
    "Comparar como a frequência do vencedor varia entre os sistemas.\n",
    "Analisar a frequência de segunda volta no sistema de Maioria Absoluta e discutir suas implicações.\n",
    "Discutir como o Método de Borda leva em conta as preferências completas dos eleitores, em contraste com os outros métodos.\n",
    "Explorar como os resultados mudam ao variar o número de candidatos ou eleitores.\n",
    "\n",
    "Este código fornece uma base sólida para explorar e comparar esses três sistemas eleitorais de forma visual e quantitativa."
   ]
  },
  {
   "cell_type": "code",
   "execution_count": 11,
   "id": "4c2675e7-adb4-48da-aa2e-dadba334016c",
   "metadata": {
    "editable": true,
    "slideshow": {
     "slide_type": ""
    },
    "tags": [
     "hide-input"
    ]
   },
   "outputs": [
    {
     "name": "stdout",
     "output_type": "stream",
     "text": [
      "\n",
      "Resultados das simulações (10000 simulações, 1000 eleitores, 5 candidatos):\n",
      "\n",
      "Maioria_simples:\n",
      "  Vencedor mais frequente: Candidato 4\n",
      "  Frequência do vencedor: 20.40%\n",
      "\n",
      "Maioria_absoluta:\n",
      "  Vencedor mais frequente: Não determinado\n",
      "  Frequência do vencedor: 0.00%\n",
      "  Frequência de segunda volta: 100.00%\n",
      "\n",
      "Borda:\n",
      "  Vencedor mais frequente: Candidato 1\n",
      "  Frequência do vencedor: 20.46%\n"
     ]
    },
    {
     "data": {
      "image/png": "[encoded data removed]",
      "text/plain": [
       "<Figure size 1500x600 with 2 Axes>"
      ]
     },
     "metadata": {},
     "output_type": "display_data"
    }
   ],
   "source": [
    "import random\n",
    "import matplotlib.pyplot as plt\n",
    "from collections import Counter\n",
    "\n",
    "def simular_eleicao(num_eleitores, num_candidatos, sistema_eleitoral):\n",
    "    if sistema_eleitoral in ['maioria_simples', 'maioria_absoluta']:\n",
    "        votos = [random.randint(1, num_candidatos) for _ in range(num_eleitores)]\n",
    "        contagem = Counter(votos)\n",
    "        \n",
    "        if sistema_eleitoral == 'maioria_simples':\n",
    "            return max(contagem, key=contagem.get)\n",
    "        elif sistema_eleitoral == 'maioria_absoluta':\n",
    "            if max(contagem.values()) > num_eleitores / 2:\n",
    "                return max(contagem, key=contagem.get)\n",
    "            else:\n",
    "                return 'Segunda Volta'\n",
    "    elif sistema_eleitoral == 'borda':\n",
    "        votos = [random.sample(range(1, num_candidatos + 1), num_candidatos) for _ in range(num_eleitores)]\n",
    "        pontuacao = {i: 0 for i in range(1, num_candidatos + 1)}\n",
    "        for voto in votos:\n",
    "            for posicao, candidato in enumerate(voto):\n",
    "                pontuacao[candidato] += num_candidatos - posicao\n",
    "        return max(pontuacao, key=pontuacao.get)\n",
    "    else:\n",
    "        return 'Sistema não reconhecido'\n",
    "\n",
    "def executar_simulacoes(num_simulacoes, num_eleitores, num_candidatos):\n",
    "    sistemas = ['maioria_simples', 'maioria_absoluta', 'borda']\n",
    "    resultados = {sistema: [] for sistema in sistemas}\n",
    "    \n",
    "    for _ in range(num_simulacoes):\n",
    "        for sistema in sistemas:\n",
    "            resultados[sistema].append(simular_eleicao(num_eleitores, num_candidatos, sistema))\n",
    "    \n",
    "    return resultados\n",
    "\n",
    "def analisar_resultados(resultados, num_simulacoes):\n",
    "    analise = {}\n",
    "    for sistema, res in resultados.items():\n",
    "        contagem = Counter(res)\n",
    "        segunda_volta_freq = contagem.get('Segunda Volta', 0) / num_simulacoes\n",
    "        contagem.pop('Segunda Volta', None)\n",
    "        \n",
    "        if contagem:\n",
    "            vencedor = max(contagem, key=contagem.get)\n",
    "            freq_vencedor = contagem[vencedor] / num_simulacoes\n",
    "        else:\n",
    "            vencedor = 'Não determinado'\n",
    "            freq_vencedor = 0\n",
    "        \n",
    "        analise[sistema] = {\n",
    "            'vencedor': vencedor,\n",
    "            'freq_vencedor': freq_vencedor,\n",
    "            'segunda_volta_freq': segunda_volta_freq\n",
    "        }\n",
    "    return analise\n",
    "\n",
    "def visualizar_resultados(analise):\n",
    "    sistemas = list(analise.keys())\n",
    "    freq_vencedor = [analise[s]['freq_vencedor'] for s in sistemas]\n",
    "    segunda_volta_freq = [analise[s]['segunda_volta_freq'] for s in sistemas]\n",
    "\n",
    "    fig, (ax1, ax2) = plt.subplots(1, 2, figsize=(15, 6))\n",
    "\n",
    "    # Gráfico de barras para frequência do vencedor\n",
    "    ax1.bar(sistemas, freq_vencedor)\n",
    "    ax1.set_title('Frequência do Vencedor por Sistema')\n",
    "    ax1.set_ylabel('Frequência')\n",
    "    ax1.set_ylim(0, 1)\n",
    "    for i, v in enumerate(freq_vencedor):\n",
    "        ax1.text(i, v, f'{v:.2%}', ha='center', va='bottom')\n",
    "\n",
    "    # Gráfico de barras para frequência de segunda volta\n",
    "    ax2.bar(sistemas, segunda_volta_freq)\n",
    "    ax2.set_title('Frequência de Segunda Volta por Sistema')\n",
    "    ax2.set_ylabel('Frequência')\n",
    "    ax2.set_ylim(0, 1)\n",
    "    for i, v in enumerate(segunda_volta_freq):\n",
    "        ax2.text(i, v, f'{v:.2%}', ha='center', va='bottom')\n",
    "\n",
    "    plt.tight_layout()\n",
    "    plt.show()\n",
    "\n",
    "# Parâmetros da simulação\n",
    "num_simulacoes = 10000\n",
    "num_eleitores = 1000\n",
    "num_candidatos = 5\n",
    "\n",
    "# Executar simulações\n",
    "resultados = executar_simulacoes(num_simulacoes, num_eleitores, num_candidatos)\n",
    "\n",
    "# Analisar resultados\n",
    "analise = analisar_resultados(resultados, num_simulacoes)\n",
    "\n",
    "# Imprimir resultados\n",
    "print(f\"\\nResultados das simulações ({num_simulacoes} simulações, {num_eleitores} eleitores, {num_candidatos} candidatos):\")\n",
    "for sistema, dados in analise.items():\n",
    "    print(f\"\\n{sistema.capitalize()}:\")\n",
    "    print(f\"  Vencedor mais frequente: {'Candidato ' + str(dados['vencedor']) if dados['vencedor'] != 'Não determinado' else dados['vencedor']}\")\n",
    "    print(f\"  Frequência do vencedor: {dados['freq_vencedor']:.2%}\")\n",
    "    if sistema == 'maioria_absoluta':\n",
    "        print(f\"  Frequência de segunda volta: {dados['segunda_volta_freq']:.2%}\")\n",
    "\n",
    "# Visualizar resultados\n",
    "visualizar_resultados(analise)"
   ]
  },
  {
   "cell_type": "markdown",
   "id": "23982620-3912-48dd-a1b8-0daacf71f17f",
   "metadata": {},
   "source": [
    "## Questões "
   ]
  },
  {
   "cell_type": "markdown",
   "id": "6ffae41f-653a-45eb-abb7-aa7da8f9bc0e",
   "metadata": {},
   "source": [
    "### Maioria Simples\n",
    "\n",
    "Numa eleição com três candidatos, os votos são distribuídos da seguinte forma:\n",
    "\n",
    "- A: 45 votos\n",
    "- B: 30 votos\n",
    "- C: 25 votos\n",
    "\n",
    "Quem é o vencedor pela maioria simples?\n",
    "\n",
    "```{dropdown} Clique para ver a resposta\n",
    "**Resposta correta: A**"
   ]
  },
  {
   "cell_type": "markdown",
   "id": "bfbd34c3-d6bb-4e2f-a307-84355f200c1e",
   "metadata": {},
   "source": [
    "### Maioria Absoluta\n",
    "\n",
    "Numa eleição com três candidatos, os votos são distribuídos da seguinte forma:\n",
    "\n",
    "- A: 45 votos\n",
    "- B: 30 votos\n",
    "- C: 25 votos\n",
    "\n",
    "Há um vencedor pela maioria absoluta?\n",
    "\n",
    "```{dropdown} Clique para ver a resposta\n",
    "**Resposta correta: NÃO**"
   ]
  },
  {
   "cell_type": "markdown",
   "id": "3292d62f-3ded-42b5-9df1-287217449147",
   "metadata": {
    "editable": true,
    "slideshow": {
     "slide_type": ""
    },
    "tags": []
   },
   "source": [
    "### Métodos Eleitorais\n",
    "\n",
    "Qual dos seguintes métodos eleitorais:\n",
    "\n",
    "- Maioria Simples\n",
    "- Maioria Absoluta\n",
    "- Voto Aleatório\n",
    "  \n",
    "garante que o vencedor tenha mais de 50% dos votos?\n",
    "\n",
    "```{dropdown} Clique para ver a resposta\n",
    "**Resposta correta: MAIORIA ABSOLUTA**"
   ]
  }
 ],
 "metadata": {
  "kernelspec": {
   "display_name": "Python 3 (ipykernel)",
   "language": "python",
   "name": "python3"
  },
  "language_info": {
   "codemirror_mode": {
    "name": "ipython",
    "version": 3
   },
   "file_extension": ".py",
   "mimetype": "text/x-python",
   "name": "python",
   "nbconvert_exporter": "python",
   "pygments_lexer": "ipython3",
   "version": "3.11.0"
  }
 },
 "nbformat": 4,
 "nbformat_minor": 5
}
