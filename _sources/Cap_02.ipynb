{
 "cells": [
  {
   "cell_type": "markdown",
   "id": "06005648-4e35-49fc-ad29-a9253dc597d3",
   "metadata": {},
   "source": [
    "# Modelos Matemáticos nas Eleições\n",
    "\n",
    "## Sistemas de Votação\n",
    "\n",
    "### Maioria Simples\n",
    "\n",
    "O sistema de maioria simples, também conhecido como \"primeiro-passado-o-poste\", é o mais básico dos sistemas eleitorais. O candidato com mais votos vence, independentemente de ter obtido a maioria absoluta.\n",
    "\n",
    "#### Exemplo"
   ]
  },
  {
   "cell_type": "code",
   "execution_count": 3,
   "id": "70460cba-fb39-453a-9a31-ea71855778d7",
   "metadata": {
    "tags": [
     "hide-input"
    ]
   },
   "outputs": [
    {
     "name": "stdout",
     "output_type": "stream",
     "text": [
      "O vencedor por maioria simples é: Candidato A\n"
     ]
    }
   ],
   "source": [
    "def maioria_simples(votos):\n",
    "    return max(votos, key=votos.get)\n",
    "votos = {'Candidato A': 100, 'Candidato B': 80, 'Candidato C': 70}\n",
    "vencedor = maioria_simples(votos)\n",
    "print(f\"O vencedor por maioria simples é: {vencedor}\")"
   ]
  },
  {
   "cell_type": "markdown",
   "id": "8060ecbb-a62f-4598-b450-12d2467c5292",
   "metadata": {
    "tags": []
   },
   "source": [
    "### Maioria Absoluta\n",
    "\n",
    "A maioria absoluta requer que o vencedor obtenha mais de 50% dos votos. Se nenhum candidato alcançar essa marca, pode haver um segundo turno."
   ]
  },
  {
   "cell_type": "markdown",
   "id": "4f9cea0e-00bc-4f93-beeb-dc0024b0d96a",
   "metadata": {},
   "source": [
    "#### Exemplo"
   ]
  },
  {
   "cell_type": "code",
   "execution_count": 6,
   "id": "3e431e80-293a-4bdd-894b-bebc892d31d0",
   "metadata": {
    "tags": [
     "hide-input"
    ]
   },
   "outputs": [
    {
     "name": "stdout",
     "output_type": "stream",
     "text": [
      "Resultado da eleição por maioria absoluta: Segundo turno necessário\n"
     ]
    }
   ],
   "source": [
    "def maioria_absoluta(votos):\n",
    "    total_votos = sum(votos.values())\n",
    "    for candidato, num_votos in votos.items():\n",
    "        if num_votos > total_votos / 2:\n",
    "            return candidato\n",
    "    return \"Segundo turno necessário\"\n",
    "    \n",
    "votos = {'Candidato A': 120, 'Candidato B': 80, 'Candidato C': 70}\n",
    "resultado = maioria_absoluta(votos)\n",
    "print(f\"Resultado da eleição por maioria absoluta: {resultado}\")"
   ]
  },
  {
   "cell_type": "markdown",
   "id": "f8540bc1-8f3c-4ee0-9fc3-48bc4bb72ef3",
   "metadata": {
    "tags": []
   },
   "source": [
    "### Método de Borda\n",
    "\n",
    "O método de Borda é um sistema de pontuação em que os eleitores classificam os candidatos. Cada posição no ranking recebe uma pontuação, e o candidato com mais pontos vence."
   ]
  },
  {
   "cell_type": "markdown",
   "id": "7791aac5-63d5-4105-a80d-6ba7be29ae2d",
   "metadata": {},
   "source": [
    "#### Exemplo"
   ]
  },
  {
   "cell_type": "code",
   "execution_count": 9,
   "id": "51f6073d-bdfd-44e7-a999-79673405a0c8",
   "metadata": {
    "tags": [
     "hide-input"
    ]
   },
   "outputs": [
    {
     "name": "stdout",
     "output_type": "stream",
     "text": [
      "O vencedor pelo método de Borda é: A\n"
     ]
    }
   ],
   "source": [
    "def metodo_borda(preferencias):\n",
    "    pontuacao = {candidato: 0 for candidato in preferencias[0]}\n",
    "    for preferencia in preferencias:\n",
    "        for i, candidato in enumerate(reversed(preferencia)):\n",
    "            pontuacao[candidato] += i + 1\n",
    "    return max(pontuacao, key=pontuacao.get)\n",
    "\n",
    "preferencias = [\n",
    "    ['A', 'B', 'C', 'D'],\n",
    "    ['B', 'C', 'D', 'A'],\n",
    "    ['C', 'D', 'A', 'B'],\n",
    "    ['D', 'A', 'B', 'C']\n",
    "]\n",
    "vencedor = metodo_borda(preferencias)\n",
    "print(f\"O vencedor pelo método de Borda é: {vencedor}\")"
   ]
  },
  {
   "cell_type": "markdown",
   "id": "7188fc5f-3876-4707-a7e6-b70e3056988f",
   "metadata": {},
   "source": [
    "## Sistemas de Distribuição de Lugares\n",
    "\n",
    "### Método de Hondt\n",
    "\n",
    "O método de Hondt é um sistema de representação proporcional usado para atribuir lugares em assembleias legislativas."
   ]
  },
  {
   "cell_type": "markdown",
   "id": "23f282ff-fd87-449e-a2d8-5d10a1265313",
   "metadata": {},
   "source": [
    "#### Exemplo"
   ]
  },
  {
   "cell_type": "code",
   "execution_count": 12,
   "id": "5c592be0-6721-4987-b2c9-aee6ffd1c468",
   "metadata": {
    "tags": [
     "hide-input"
    ]
   },
   "outputs": [
    {
     "name": "stdout",
     "output_type": "stream",
     "text": [
      "Distribuição de lugares pelo método de Hondt:\n",
      "Partido A: 5 lugares\n",
      "Partido B: 4 lugares\n",
      "Partido C: 1 lugares\n",
      "Partido D: 0 lugares\n"
     ]
    }
   ],
   "source": [
    "def metodo_hondt(votos, lugares):\n",
    "    partidos = list(votos.keys())\n",
    "    distribuicao = {partido: 0 for partido in partidos}\n",
    "    \n",
    "    for _ in range(lugares):\n",
    "        quocientes = {partido: votos[partido] / (distribuicao[partido] + 1) for partido in partidos}\n",
    "        vencedor = max(quocientes, key=quocientes.get)\n",
    "        distribuicao[vencedor] += 1\n",
    "    \n",
    "    return distribuicao\n",
    "\n",
    "votos = {'Partido A': 100000, 'Partido B': 80000, 'Partido C': 30000, 'Partido D': 20000}\n",
    "lugares = 10\n",
    "resultado = metodo_hondt(votos, lugares)\n",
    "print(\"Distribuição de lugares pelo método de Hondt:\")\n",
    "for partido, num_lugares in resultado.items():\n",
    "    print(f\"{partido}: {num_lugares} lugares\")"
   ]
  },
  {
   "cell_type": "markdown",
   "id": "a7488834-80fb-4ccc-af93-dea118952a7d",
   "metadata": {
    "tags": []
   },
   "source": [
    "### Método de Sainte-Laguë\n",
    "\n",
    "O método de Sainte-Laguë é outra forma de distribuição proporcional de assentos, que tende a favorecer partidos menores em comparação com o método de Hondt."
   ]
  },
  {
   "cell_type": "markdown",
   "id": "23564de5-f99c-4d53-aefd-668dd9e19515",
   "metadata": {},
   "source": [
    "#### Exemplo"
   ]
  },
  {
   "cell_type": "code",
   "execution_count": 15,
   "id": "d634936b-7966-44b7-a887-7edc725b906b",
   "metadata": {
    "tags": [
     "hide-input"
    ]
   },
   "outputs": [
    {
     "name": "stdout",
     "output_type": "stream",
     "text": [
      "\n",
      "Distribuição de lugares pelo método de Sainte-Laguë:\n",
      "Partido A: 4 lugares\n",
      "Partido B: 4 lugares\n",
      "Partido C: 1 lugares\n",
      "Partido D: 1 lugares\n"
     ]
    }
   ],
   "source": [
    "def metodo_sainte_lague(votos, lugares):\n",
    "    partidos = list(votos.keys())\n",
    "    distribuicao = {partido: 0 for partido in partidos}\n",
    "    \n",
    "    for _ in range(lugares):\n",
    "        quocientes = {partido: votos[partido] / (2 * distribuicao[partido] + 1) for partido in partidos}\n",
    "        vencedor = max(quocientes, key=quocientes.get)\n",
    "        distribuicao[vencedor] += 1\n",
    "    \n",
    "    return distribuicao\n",
    "\n",
    "# Exemplo\n",
    "\n",
    "votos = {'Partido A': 100000, 'Partido B': 80000, 'Partido C': 30000, 'Partido D': 20000}\n",
    "lugares = 10\n",
    "resultado = metodo_sainte_lague(votos, lugares)\n",
    "print(\"\\nDistribuição de lugares pelo método de Sainte-Laguë:\")\n",
    "for partido, num_lugares in resultado.items():\n",
    "    print(f\"{partido}: {num_lugares} lugares\")"
   ]
  },
  {
   "cell_type": "markdown",
   "id": "ac92943c-7f12-4906-9883-5713c2ea6f10",
   "metadata": {
    "tags": []
   },
   "source": [
    "### Visualização da comparação"
   ]
  },
  {
   "cell_type": "code",
   "execution_count": 17,
   "id": "a14948b1-1694-4825-8938-653099bc6a5b",
   "metadata": {
    "tags": [
     "hide-input"
    ]
   },
   "outputs": [
    {
     "data": {
      "image/png": "[encoded data removed]",
      "text/plain": [
       "<Figure size 1200x600 with 1 Axes>"
      ]
     },
     "metadata": {},
     "output_type": "display_data"
    },
    {
     "name": "stdout",
     "output_type": "stream",
     "text": [
      "Distribuição de lugares pelo método de Hondt:\n",
      "Partido A: 5 lugares\n",
      "Partido B: 4 lugares\n",
      "Partido C: 1 lugares\n",
      "Partido D: 0 lugares\n",
      "\n",
      "Distribuição de lugares pelo método de Sainte-Laguë:\n",
      "Partido A: 4 lugares\n",
      "Partido B: 4 lugares\n",
      "Partido C: 1 lugares\n",
      "Partido D: 1 lugares\n"
     ]
    }
   ],
   "source": [
    "import matplotlib.pyplot as plt\n",
    "\n",
    "def metodo_hondt(votos, lugares):\n",
    "    partidos = list(votos.keys())\n",
    "    distribuicao = {partido: 0 for partido in partidos}\n",
    "    \n",
    "    for _ in range(lugares):\n",
    "        quocientes = {partido: votos[partido] / (distribuicao[partido] + 1) for partido in partidos}\n",
    "        vencedor = max(quocientes, key=quocientes.get)\n",
    "        distribuicao[vencedor] += 1\n",
    "    \n",
    "    return distribuicao\n",
    "\n",
    "def metodo_sainte_lague(votos, lugares):\n",
    "    partidos = list(votos.keys())\n",
    "    distribuicao = {partido: 0 for partido in partidos}\n",
    "    \n",
    "    for _ in range(lugares):\n",
    "        quocientes = {partido: votos[partido] / (2 * distribuicao[partido] + 1) for partido in partidos}\n",
    "        vencedor = max(quocientes, key=quocientes.get)\n",
    "        distribuicao[vencedor] += 1\n",
    "    \n",
    "    return distribuicao\n",
    "\n",
    "def comparar_metodos(votos, lugares):\n",
    "    resultado_hondt = metodo_hondt(votos, lugares)\n",
    "    resultado_sainte_lague = metodo_sainte_lague(votos, lugares)\n",
    "\n",
    "    partidos = list(votos.keys())\n",
    "    lugares_hondt = [resultado_hondt[partido] for partido in partidos]\n",
    "    lugares_sainte_lague = [resultado_sainte_lague[partido] for partido in partidos]\n",
    "\n",
    "    x = range(len(partidos))\n",
    "    width = 0.35\n",
    "\n",
    "    fig, ax = plt.subplots(figsize=(12, 6))\n",
    "    rects1 = ax.bar([i - width/2 for i in x], lugares_hondt, width, label='Método de Hondt', color='blue', alpha=0.7)\n",
    "    rects2 = ax.bar([i + width/2 for i in x], lugares_sainte_lague, width, label='Método de Sainte-Laguë', color='red', alpha=0.7)\n",
    "\n",
    "    ax.set_ylabel('Número de Lugares')\n",
    "    ax.set_title('Comparação entre os métodos de Hondt e Sainte-Laguë')\n",
    "    ax.set_xticks(x)\n",
    "    ax.set_xticklabels(partidos)\n",
    "    ax.legend()\n",
    "\n",
    "    ax.bar_label(rects1, padding=3)\n",
    "    ax.bar_label(rects2, padding=3)\n",
    "\n",
    "    fig.tight_layout()\n",
    "\n",
    "    plt.show()\n",
    "\n",
    "    print(\"Distribuição de lugares pelo método de Hondt:\")\n",
    "    for partido, num_lugares in resultado_hondt.items():\n",
    "        print(f\"{partido}: {num_lugares} lugares\")\n",
    "\n",
    "    print(\"\\nDistribuição de lugares pelo método de Sainte-Laguë:\")\n",
    "    for partido, num_lugares in resultado_sainte_lague.items():\n",
    "        print(f\"{partido}: {num_lugares} lugares\")\n",
    "\n",
    "# Exemplo de uso\n",
    "\n",
    "votos = {'Partido A': 100000, 'Partido B': 80000, 'Partido C': 30000, 'Partido D': 20000}\n",
    "lugares = 10\n",
    "comparar_metodos(votos, lugares)"
   ]
  },
  {
   "cell_type": "markdown",
   "id": "cd592cee-9f29-4b39-a3a1-75bcb5227c65",
   "metadata": {},
   "source": [
    "## Análise e Comparação de Sistemas Eleitorais\n",
    "\n",
    "Nesta seção, vamos analisar e comparar diferentes sistemas eleitorais, destacando suas vantagens e desvantagens.\n",
    "\n",
    "Após executar o código, poderá observar:\n",
    "\n",
    "- Um resumo textual dos resultados para cada sistema eleitoral.\n",
    "- Dois gráficos de barras comparando os sistemas: (Frequência do vencedor por sistema; Frequência de segunda volta por sistema (será zero para Maioria Simples e Método de Borda))\n",
    "\n",
    "Os parâmetros (número de simulações, eleitores e candidatos) podem ser ajustados para explorar diferentes cenários.\n",
    "\n",
    "Algumas sugestões para discussão com os alunos:\n",
    "\n",
    "Comparar como a frequência do vencedor varia entre os sistemas.\n",
    "Analisar a frequência de segunda volta no sistema de Maioria Absoluta e discutir suas implicações.\n",
    "Discutir como o Método de Borda leva em conta as preferências completas dos eleitores, em contraste com os outros métodos.\n",
    "Explorar como os resultados mudam ao variar o número de candidatos ou eleitores.\n",
    "\n",
    "Este código fornece uma base sólida para explorar e comparar esses três sistemas eleitorais de forma visual e quantitativa."
   ]
  },
  {
   "cell_type": "code",
   "execution_count": 19,
   "id": "0763681f-84dd-4831-bc95-234dbf2a3e69",
   "metadata": {
    "tags": [
     "hide-input"
    ]
   },
   "outputs": [
    {
     "name": "stdout",
     "output_type": "stream",
     "text": [
      "\n",
      "Resultados das simulações (10000 simulações, 1000 eleitores, 5 candidatos):\n",
      "\n",
      "Maioria_simples:\n",
      "  Vencedor mais frequente: Candidato 1\n",
      "  Frequência do vencedor: 20.24%\n",
      "\n",
      "Maioria_absoluta:\n",
      "  Vencedor mais frequente: Não determinado\n",
      "  Frequência do vencedor: 0.00%\n",
      "  Frequência de segunda volta: 100.00%\n",
      "\n",
      "Borda:\n",
      "  Vencedor mais frequente: Candidato 3\n",
      "  Frequência do vencedor: 20.64%\n"
     ]
    },
    {
     "data": {
      "image/png": "[encoded data removed]",
      "text/plain": [
       "<Figure size 1500x600 with 2 Axes>"
      ]
     },
     "metadata": {},
     "output_type": "display_data"
    }
   ],
   "source": [
    "import random\n",
    "import matplotlib.pyplot as plt\n",
    "from collections import Counter\n",
    "\n",
    "def simular_eleicao(num_eleitores, num_candidatos, sistema_eleitoral):\n",
    "    if sistema_eleitoral in ['maioria_simples', 'maioria_absoluta']:\n",
    "        votos = [random.randint(1, num_candidatos) for _ in range(num_eleitores)]\n",
    "        contagem = Counter(votos)\n",
    "        \n",
    "        if sistema_eleitoral == 'maioria_simples':\n",
    "            return max(contagem, key=contagem.get)\n",
    "        elif sistema_eleitoral == 'maioria_absoluta':\n",
    "            if max(contagem.values()) > num_eleitores / 2:\n",
    "                return max(contagem, key=contagem.get)\n",
    "            else:\n",
    "                return 'Segunda Volta'\n",
    "    elif sistema_eleitoral == 'borda':\n",
    "        votos = [random.sample(range(1, num_candidatos + 1), num_candidatos) for _ in range(num_eleitores)]\n",
    "        pontuacao = {i: 0 for i in range(1, num_candidatos + 1)}\n",
    "        for voto in votos:\n",
    "            for posicao, candidato in enumerate(voto):\n",
    "                pontuacao[candidato] += num_candidatos - posicao\n",
    "        return max(pontuacao, key=pontuacao.get)\n",
    "    else:\n",
    "        return 'Sistema não reconhecido'\n",
    "\n",
    "def executar_simulacoes(num_simulacoes, num_eleitores, num_candidatos):\n",
    "    sistemas = ['maioria_simples', 'maioria_absoluta', 'borda']\n",
    "    resultados = {sistema: [] for sistema in sistemas}\n",
    "    \n",
    "    for _ in range(num_simulacoes):\n",
    "        for sistema in sistemas:\n",
    "            resultados[sistema].append(simular_eleicao(num_eleitores, num_candidatos, sistema))\n",
    "    \n",
    "    return resultados\n",
    "\n",
    "def analisar_resultados(resultados, num_simulacoes):\n",
    "    analise = {}\n",
    "    for sistema, res in resultados.items():\n",
    "        contagem = Counter(res)\n",
    "        segunda_volta_freq = contagem.get('Segunda Volta', 0) / num_simulacoes\n",
    "        contagem.pop('Segunda Volta', None)\n",
    "        \n",
    "        if contagem:\n",
    "            vencedor = max(contagem, key=contagem.get)\n",
    "            freq_vencedor = contagem[vencedor] / num_simulacoes\n",
    "        else:\n",
    "            vencedor = 'Não determinado'\n",
    "            freq_vencedor = 0\n",
    "        \n",
    "        analise[sistema] = {\n",
    "            'vencedor': vencedor,\n",
    "            'freq_vencedor': freq_vencedor,\n",
    "            'segunda_volta_freq': segunda_volta_freq\n",
    "        }\n",
    "    return analise\n",
    "\n",
    "def visualizar_resultados(analise):\n",
    "    sistemas = list(analise.keys())\n",
    "    freq_vencedor = [analise[s]['freq_vencedor'] for s in sistemas]\n",
    "    segunda_volta_freq = [analise[s]['segunda_volta_freq'] for s in sistemas]\n",
    "\n",
    "    fig, (ax1, ax2) = plt.subplots(1, 2, figsize=(15, 6))\n",
    "\n",
    "    # Gráfico de barras para frequência do vencedor\n",
    "    ax1.bar(sistemas, freq_vencedor)\n",
    "    ax1.set_title('Frequência do Vencedor por Sistema')\n",
    "    ax1.set_ylabel('Frequência')\n",
    "    ax1.set_ylim(0, 1)\n",
    "    for i, v in enumerate(freq_vencedor):\n",
    "        ax1.text(i, v, f'{v:.2%}', ha='center', va='bottom')\n",
    "\n",
    "    # Gráfico de barras para frequência de segunda volta\n",
    "    ax2.bar(sistemas, segunda_volta_freq)\n",
    "    ax2.set_title('Frequência de Segunda Volta por Sistema')\n",
    "    ax2.set_ylabel('Frequência')\n",
    "    ax2.set_ylim(0, 1)\n",
    "    for i, v in enumerate(segunda_volta_freq):\n",
    "        ax2.text(i, v, f'{v:.2%}', ha='center', va='bottom')\n",
    "\n",
    "    plt.tight_layout()\n",
    "    plt.show()\n",
    "\n",
    "# Parâmetros da simulação\n",
    "num_simulacoes = 10000\n",
    "num_eleitores = 1000\n",
    "num_candidatos = 5\n",
    "\n",
    "# Executar simulações\n",
    "resultados = executar_simulacoes(num_simulacoes, num_eleitores, num_candidatos)\n",
    "\n",
    "# Analisar resultados\n",
    "analise = analisar_resultados(resultados, num_simulacoes)\n",
    "\n",
    "# Imprimir resultados\n",
    "print(f\"\\nResultados das simulações ({num_simulacoes} simulações, {num_eleitores} eleitores, {num_candidatos} candidatos):\")\n",
    "for sistema, dados in analise.items():\n",
    "    print(f\"\\n{sistema.capitalize()}:\")\n",
    "    print(f\"  Vencedor mais frequente: {'Candidato ' + str(dados['vencedor']) if dados['vencedor'] != 'Não determinado' else dados['vencedor']}\")\n",
    "    print(f\"  Frequência do vencedor: {dados['freq_vencedor']:.2%}\")\n",
    "    if sistema == 'maioria_absoluta':\n",
    "        print(f\"  Frequência de segunda volta: {dados['segunda_volta_freq']:.2%}\")\n",
    "\n",
    "# Visualizar resultados\n",
    "visualizar_resultados(analise)"
   ]
  },
  {
   "cell_type": "code",
   "execution_count": 13,
   "id": "f4153ff7-b700-481f-b6e5-999b9c89ed84",
   "metadata": {
    "tags": [
     "hide-input"
    ]
   },
   "outputs": [],
   "source": [
    "import jupyterquiz\n",
    "import ipywidgets as widgets\n",
    "from IPython.display import display, HTML\n",
    "\n",
    "def check_answer(button):\n",
    "    if button.description == correct_answer.value:\n",
    "        result.value = \"Correto!\"\n",
    "    else:\n",
    "        result.value = \"Incorreto. Tente novamente.\""
   ]
  },
  {
   "cell_type": "markdown",
   "id": "85afbc7c-dcff-42f5-a15b-4e29db32200a",
   "metadata": {},
   "source": [
    "### Questão 1: Maioria Simples"
   ]
  },
  {
   "cell_type": "code",
   "execution_count": 15,
   "id": "adef2e4e-0dee-4a02-9a19-cd12efce37b9",
   "metadata": {
    "tags": [
     "hide-input"
    ]
   },
   "outputs": [
    {
     "name": "stdout",
     "output_type": "stream",
     "text": [
      "Quiz 1: Maioria Simples\n"
     ]
    },
    {
     "data": {
      "application/vnd.jupyter.widget-view+json": {
       "model_id": "1f6726097ad3490ba9ea5b76db76f9c9",
       "version_major": 2,
       "version_minor": 0
      },
      "text/plain": [
       "HTML(value='<h3>Quiz 1: Maioria Simples</h3><p>Numa eleição com três candidatos, os votos são distribuídos da …"
      ]
     },
     "metadata": {},
     "output_type": "display_data"
    },
    {
     "data": {
      "application/vnd.jupyter.widget-view+json": {
       "model_id": "2d3426718efa4cc1b193b6b3ebfb5833",
       "version_major": 2,
       "version_minor": 0
      },
      "text/plain": [
       "Button(description='A', style=ButtonStyle())"
      ]
     },
     "metadata": {},
     "output_type": "display_data"
    },
    {
     "data": {
      "application/vnd.jupyter.widget-view+json": {
       "model_id": "5afdadfde0934445b1f9c236d87c5f8a",
       "version_major": 2,
       "version_minor": 0
      },
      "text/plain": [
       "Button(description='B', style=ButtonStyle())"
      ]
     },
     "metadata": {},
     "output_type": "display_data"
    },
    {
     "data": {
      "application/vnd.jupyter.widget-view+json": {
       "model_id": "1aa2844adcca4901986baca79163fc72",
       "version_major": 2,
       "version_minor": 0
      },
      "text/plain": [
       "Button(description='C', style=ButtonStyle())"
      ]
     },
     "metadata": {},
     "output_type": "display_data"
    },
    {
     "data": {
      "application/vnd.jupyter.widget-view+json": {
       "model_id": "c1221a86f7ba47d8bb9148b34a492789",
       "version_major": 2,
       "version_minor": 0
      },
      "text/plain": [
       "Label(value='')"
      ]
     },
     "metadata": {},
     "output_type": "display_data"
    }
   ],
   "source": [
    "def quiz_maioria_simples():\n",
    "    global correct_answer, result\n",
    "    \n",
    "    question = widgets.HTML(\n",
    "        value=\"<h3>Quiz 1: Maioria Simples</h3><p>Numa eleição com três candidatos, os votos são distribuídos da seguinte forma:</p><ul><li>A: 45 votos</li><li>B: 30 votos</li><li>C: 25 votos</li></ul><p>Quem é o vencedor pela maioria simples?</p>\"\n",
    "    )\n",
    "    \n",
    "    options = ['A', 'B', 'C']\n",
    "    correct_answer = widgets.fixed('A')\n",
    "    \n",
    "    buttons = [widgets.Button(description=opt) for opt in options]\n",
    "    for button in buttons:\n",
    "        button.on_click(check_answer)\n",
    "    \n",
    "    result = widgets.Label()\n",
    "    \n",
    "    display(question, *buttons, result)\n",
    "    \n",
    "print(\"Quiz 1: Maioria Simples\")\n",
    "quiz_maioria_simples()"
   ]
  },
  {
   "cell_type": "markdown",
   "id": "8c86a2a9-326d-4265-bb9e-19bf87111544",
   "metadata": {},
   "source": [
    "### Questão 2: Maioria absoluta"
   ]
  },
  {
   "cell_type": "code",
   "execution_count": 11,
   "id": "91167496-523a-4ea6-9b17-22d563f00988",
   "metadata": {
    "tags": [
     "hide-input"
    ]
   },
   "outputs": [
    {
     "name": "stdout",
     "output_type": "stream",
     "text": [
      "\n",
      "Quiz 2: Maioria Absoluta\n"
     ]
    },
    {
     "data": {
      "application/vnd.jupyter.widget-view+json": {
       "model_id": "1ae86b5ea3844c938814602df4ddbed3",
       "version_major": 2,
       "version_minor": 0
      },
      "text/plain": [
       "HTML(value='<h3>Quiz 2: Maioria Absoluta</h3><p>Numa eleição com três candidatos, os votos são distribuídos da…"
      ]
     },
     "metadata": {},
     "output_type": "display_data"
    },
    {
     "data": {
      "application/vnd.jupyter.widget-view+json": {
       "model_id": "8db65ed346d741a8977b5f038aa72138",
       "version_major": 2,
       "version_minor": 0
      },
      "text/plain": [
       "Button(description='Sim', style=ButtonStyle())"
      ]
     },
     "metadata": {},
     "output_type": "display_data"
    },
    {
     "data": {
      "application/vnd.jupyter.widget-view+json": {
       "model_id": "bb345cc1ae874a79a5e6b3b6d0aabe7e",
       "version_major": 2,
       "version_minor": 0
      },
      "text/plain": [
       "Button(description='Não', style=ButtonStyle())"
      ]
     },
     "metadata": {},
     "output_type": "display_data"
    },
    {
     "data": {
      "application/vnd.jupyter.widget-view+json": {
       "model_id": "cf502a377a834def8910970c5abca014",
       "version_major": 2,
       "version_minor": 0
      },
      "text/plain": [
       "Label(value='')"
      ]
     },
     "metadata": {},
     "output_type": "display_data"
    }
   ],
   "source": [
    "def quiz_maioria_absoluta():\n",
    "    global correct_answer, result\n",
    "    \n",
    "    question = widgets.HTML(\n",
    "        value=\"<h3>Quiz 2: Maioria Absoluta</h3><p>Numa eleição com três candidatos, os votos são distribuídos da seguinte forma:</p><ul><li>A: 45 votos</li><li>B: 30 votos</li><li>C: 25 votos</li></ul><p>Há um vencedor pela maioria absoluta?</p>\"\n",
    "    )\n",
    "    \n",
    "    options = ['Sim', 'Não']\n",
    "    correct_answer = widgets.fixed('Não')\n",
    "    \n",
    "    buttons = [widgets.Button(description=opt) for opt in options]\n",
    "    for button in buttons:\n",
    "        button.on_click(check_answer)\n",
    "    \n",
    "    result = widgets.Label()\n",
    "    \n",
    "    display(question, *buttons, result)\n",
    "    \n",
    "print(\"\\nQuiz 2: Maioria Absoluta\")\n",
    "quiz_maioria_absoluta()"
   ]
  },
  {
   "cell_type": "markdown",
   "id": "216abb81-31bf-4dbf-b3a7-e55ffd5eed4d",
   "metadata": {},
   "source": [
    "### Questão 3: Métodos Eleitorais"
   ]
  },
  {
   "cell_type": "code",
   "execution_count": 26,
   "id": "05373add-fe0d-45d7-b601-b35a60124492",
   "metadata": {
    "tags": [
     "hide-input"
    ]
   },
   "outputs": [
    {
     "name": "stdout",
     "output_type": "stream",
     "text": [
      "\n",
      "Quiz 3: Métodos Eleitorais\n"
     ]
    },
    {
     "data": {
      "application/vnd.jupyter.widget-view+json": {
       "model_id": "b96ae26474d7451b8a726476af8dc55a",
       "version_major": 2,
       "version_minor": 0
      },
      "text/plain": [
       "HTML(value='<h3>Quiz 3: Métodos Eleitorais</h3><p>Qual dos seguintes métodos eleitorais garante que o vencedor…"
      ]
     },
     "metadata": {},
     "output_type": "display_data"
    },
    {
     "data": {
      "application/vnd.jupyter.widget-view+json": {
       "model_id": "cb64e48c90c14e7395d53da302a4beb9",
       "version_major": 2,
       "version_minor": 0
      },
      "text/plain": [
       "Button(description='Maioria Simples', style=ButtonStyle())"
      ]
     },
     "metadata": {},
     "output_type": "display_data"
    },
    {
     "data": {
      "application/vnd.jupyter.widget-view+json": {
       "model_id": "07f1bc1288464ca99313d76d11f9c233",
       "version_major": 2,
       "version_minor": 0
      },
      "text/plain": [
       "Button(description='Maioria Absoluta', style=ButtonStyle())"
      ]
     },
     "metadata": {},
     "output_type": "display_data"
    },
    {
     "data": {
      "application/vnd.jupyter.widget-view+json": {
       "model_id": "cbd3d54e18714499a35c00cc272c5794",
       "version_major": 2,
       "version_minor": 0
      },
      "text/plain": [
       "Button(description='Voto Aleatório', style=ButtonStyle())"
      ]
     },
     "metadata": {},
     "output_type": "display_data"
    },
    {
     "data": {
      "application/vnd.jupyter.widget-view+json": {
       "model_id": "ed51695438ba45f1a598fdacb432e278",
       "version_major": 2,
       "version_minor": 0
      },
      "text/plain": [
       "Label(value='')"
      ]
     },
     "metadata": {},
     "output_type": "display_data"
    }
   ],
   "source": [
    "def quiz_metodos_eleitorais():\n",
    "    global correct_answer, result\n",
    "    \n",
    "    question = widgets.HTML(\n",
    "        value=\"<h3>Quiz 3: Métodos Eleitorais</h3><p>Qual dos seguintes métodos eleitorais garante que o vencedor tenha mais de 50% dos votos?</p>\"\n",
    "    )\n",
    "    \n",
    "    options = ['Maioria Simples', 'Maioria Absoluta', 'Voto Aleatório']\n",
    "    correct_answer = widgets.fixed('Maioria Absoluta')\n",
    "    \n",
    "    buttons = [widgets.Button(description=opt) for opt in options]\n",
    "    for button in buttons:\n",
    "        button.on_click(check_answer)\n",
    "    \n",
    "    result = widgets.Label()\n",
    "    \n",
    "    display(question, *buttons, result)\n",
    "    \n",
    "print(\"\\nQuiz 3: Métodos Eleitorais\")\n",
    "quiz_metodos_eleitorais()"
   ]
  }
 ],
 "metadata": {
  "kernelspec": {
   "display_name": "Python 3 (ipykernel)",
   "language": "python",
   "name": "python3"
  },
  "language_info": {
   "codemirror_mode": {
    "name": "ipython",
    "version": 3
   },
   "file_extension": ".py",
   "mimetype": "text/x-python",
   "name": "python",
   "nbconvert_exporter": "python",
   "pygments_lexer": "ipython3",
   "version": "3.11.0"
  }
 },
 "nbformat": 4,
 "nbformat_minor": 5
}
