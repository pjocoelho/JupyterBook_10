{
 "cells": [
  {
   "cell_type": "markdown",
   "id": "06005648-4e35-49fc-ad29-a9253dc597d3",
   "metadata": {},
   "source": [
    "# Modelos Matemáticos nas Eleições\n",
    "\n",
    "## Sistemas de Votação\n",
    "\n",
    "### Maioria Simples\n",
    "\n",
    "O sistema de maioria simples, também conhecido como \"primeiro-passado-o-poste\", é o mais básico dos sistemas eleitorais. O candidato com mais votos vence, independentemente de ter obtido a maioria absoluta.\n",
    "\n",
    "#### Exemplo"
   ]
  },
  {
   "cell_type": "code",
   "execution_count": 1,
   "id": "70460cba-fb39-453a-9a31-ea71855778d7",
   "metadata": {
    "tags": [
     "thebe-ini",
     "hide-input"
    ]
   },
   "outputs": [
    {
     "name": "stdout",
     "output_type": "stream",
     "text": [
      "O vencedor por maioria simples é: Candidato A\n"
     ]
    }
   ],
   "source": [
    "def maioria_simples(votos):\n",
    "    return max(votos, key=votos.get)\n",
    "votos = {'Candidato A': 100, 'Candidato B': 80, 'Candidato C': 70}\n",
    "vencedor = maioria_simples(votos)\n",
    "print(f\"O vencedor por maioria simples é: {vencedor}\")"
   ]
  },
  {
   "cell_type": "markdown",
   "id": "8060ecbb-a62f-4598-b450-12d2467c5292",
   "metadata": {},
   "source": [
    "### Maioria Absoluta\n",
    "\n",
    "A maioria absoluta requer que o vencedor obtenha mais de 50% dos votos. Se nenhum candidato alcançar essa marca, pode haver um segundo turno."
   ]
  },
  {
   "cell_type": "markdown",
   "id": "4f9cea0e-00bc-4f93-beeb-dc0024b0d96a",
   "metadata": {},
   "source": [
    "#### Exemplo"
   ]
  },
  {
   "cell_type": "code",
   "execution_count": 2,
   "id": "3e431e80-293a-4bdd-894b-bebc892d31d0",
   "metadata": {
    "tags": []
   },
   "outputs": [
    {
     "name": "stdout",
     "output_type": "stream",
     "text": [
      "Resultado da eleição por maioria absoluta: Segundo turno necessário\n"
     ]
    }
   ],
   "source": [
    "def maioria_absoluta(votos):\n",
    "    total_votos = sum(votos.values())\n",
    "    for candidato, num_votos in votos.items():\n",
    "        if num_votos > total_votos / 2:\n",
    "            return candidato\n",
    "    return \"Segundo turno necessário\"\n",
    "    \n",
    "votos = {'Candidato A': 120, 'Candidato B': 80, 'Candidato C': 70}\n",
    "resultado = maioria_absoluta(votos)\n",
    "print(f\"Resultado da eleição por maioria absoluta: {resultado}\")"
   ]
  },
  {
   "cell_type": "markdown",
   "id": "f8540bc1-8f3c-4ee0-9fc3-48bc4bb72ef3",
   "metadata": {},
   "source": [
    "### Método de Borda\n",
    "\n",
    "O método de Borda é um sistema de pontuação em que os eleitores classificam os candidatos. Cada posição no ranking recebe uma pontuação, e o candidato com mais pontos vence."
   ]
  },
  {
   "cell_type": "markdown",
   "id": "7791aac5-63d5-4105-a80d-6ba7be29ae2d",
   "metadata": {},
   "source": [
    "#### Exemplo"
   ]
  },
  {
   "cell_type": "code",
   "execution_count": 3,
   "id": "51f6073d-bdfd-44e7-a999-79673405a0c8",
   "metadata": {
    "tags": []
   },
   "outputs": [
    {
     "name": "stdout",
     "output_type": "stream",
     "text": [
      "O vencedor pelo método de Borda é: A\n"
     ]
    }
   ],
   "source": [
    "def metodo_borda(preferencias):\n",
    "    pontuacao = {candidato: 0 for candidato in preferencias[0]}\n",
    "    for preferencia in preferencias:\n",
    "        for i, candidato in enumerate(reversed(preferencia)):\n",
    "            pontuacao[candidato] += i + 1\n",
    "    return max(pontuacao, key=pontuacao.get)\n",
    "\n",
    "preferencias = [\n",
    "    ['A', 'B', 'C', 'D'],\n",
    "    ['B', 'C', 'D', 'A'],\n",
    "    ['C', 'D', 'A', 'B'],\n",
    "    ['D', 'A', 'B', 'C']\n",
    "]\n",
    "vencedor = metodo_borda(preferencias)\n",
    "print(f\"O vencedor pelo método de Borda é: {vencedor}\")"
   ]
  },
  {
   "cell_type": "markdown",
   "id": "7188fc5f-3876-4707-a7e6-b70e3056988f",
   "metadata": {},
   "source": [
    "## Sistemas de Distribuição de Lugares\n",
    "\n",
    "### Método de Hondt\n",
    "\n",
    "O método de Hondt é um sistema de representação proporcional usado para atribuir lugares em assembleias legislativas."
   ]
  },
  {
   "cell_type": "markdown",
   "id": "23f282ff-fd87-449e-a2d8-5d10a1265313",
   "metadata": {},
   "source": [
    "#### Exemplo"
   ]
  },
  {
   "cell_type": "code",
   "execution_count": 4,
   "id": "5c592be0-6721-4987-b2c9-aee6ffd1c468",
   "metadata": {
    "jupyter": {
     "source_hidden": true
    },
    "tags": []
   },
   "outputs": [
    {
     "name": "stdout",
     "output_type": "stream",
     "text": [
      "Distribuição de lugares pelo método de Hondt:\n",
      "Partido A: 5 lugares\n",
      "Partido B: 4 lugares\n",
      "Partido C: 1 lugares\n",
      "Partido D: 0 lugares\n"
     ]
    }
   ],
   "source": [
    "def metodo_hondt(votos, lugares):\n",
    "    partidos = list(votos.keys())\n",
    "    distribuicao = {partido: 0 for partido in partidos}\n",
    "    \n",
    "    for _ in range(lugares):\n",
    "        quocientes = {partido: votos[partido] / (distribuicao[partido] + 1) for partido in partidos}\n",
    "        vencedor = max(quocientes, key=quocientes.get)\n",
    "        distribuicao[vencedor] += 1\n",
    "    \n",
    "    return distribuicao\n",
    "\n",
    "votos = {'Partido A': 100000, 'Partido B': 80000, 'Partido C': 30000, 'Partido D': 20000}\n",
    "lugares = 10\n",
    "resultado = metodo_hondt(votos, lugares)\n",
    "print(\"Distribuição de lugares pelo método de Hondt:\")\n",
    "for partido, num_lugares in resultado.items():\n",
    "    print(f\"{partido}: {num_lugares} lugares\")"
   ]
  },
  {
   "cell_type": "markdown",
   "id": "a7488834-80fb-4ccc-af93-dea118952a7d",
   "metadata": {},
   "source": [
    "### Método de Sainte-Laguë\n",
    "\n",
    "O método de Sainte-Laguë é outra forma de distribuição proporcional de assentos, que tende a favorecer partidos menores em comparação com o método de Hondt."
   ]
  },
  {
   "cell_type": "markdown",
   "id": "23564de5-f99c-4d53-aefd-668dd9e19515",
   "metadata": {},
   "source": [
    "#### Exemplo"
   ]
  },
  {
   "cell_type": "code",
   "execution_count": 5,
   "id": "d634936b-7966-44b7-a887-7edc725b906b",
   "metadata": {
    "tags": []
   },
   "outputs": [
    {
     "name": "stdout",
     "output_type": "stream",
     "text": [
      "\n",
      "Distribuição de lugares pelo método de Sainte-Laguë:\n",
      "Partido A: 4 lugares\n",
      "Partido B: 4 lugares\n",
      "Partido C: 1 lugares\n",
      "Partido D: 1 lugares\n"
     ]
    }
   ],
   "source": [
    "def metodo_sainte_lague(votos, lugares):\n",
    "    partidos = list(votos.keys())\n",
    "    distribuicao = {partido: 0 for partido in partidos}\n",
    "    \n",
    "    for _ in range(lugares):\n",
    "        quocientes = {partido: votos[partido] / (2 * distribuicao[partido] + 1) for partido in partidos}\n",
    "        vencedor = max(quocientes, key=quocientes.get)\n",
    "        distribuicao[vencedor] += 1\n",
    "    \n",
    "    return distribuicao\n",
    "\n",
    "# Exemplo\n",
    "\n",
    "votos = {'Partido A': 100000, 'Partido B': 80000, 'Partido C': 30000, 'Partido D': 20000}\n",
    "lugares = 10\n",
    "resultado = metodo_sainte_lague(votos, lugares)\n",
    "print(\"\\nDistribuição de lugares pelo método de Sainte-Laguë:\")\n",
    "for partido, num_lugares in resultado.items():\n",
    "    print(f\"{partido}: {num_lugares} lugares\")"
   ]
  },
  {
   "cell_type": "markdown",
   "id": "ac92943c-7f12-4906-9883-5713c2ea6f10",
   "metadata": {},
   "source": [
    "### Visualização da comparação"
   ]
  },
  {
   "cell_type": "code",
   "execution_count": 6,
   "id": "a14948b1-1694-4825-8938-653099bc6a5b",
   "metadata": {
    "jupyter": {
     "source_hidden": true
    },
    "tags": []
   },
   "outputs": [
    {
     "data": {
      "image/png": "[encoded data removed]",
      "text/plain": [
       "<Figure size 1200x600 with 1 Axes>"
      ]
     },
     "metadata": {},
     "output_type": "display_data"
    },
    {
     "name": "stdout",
     "output_type": "stream",
     "text": [
      "Distribuição de lugares pelo método de Hondt:\n",
      "Partido A: 5 lugares\n",
      "Partido B: 4 lugares\n",
      "Partido C: 1 lugares\n",
      "Partido D: 0 lugares\n",
      "\n",
      "Distribuição de lugares pelo método de Sainte-Laguë:\n",
      "Partido A: 4 lugares\n",
      "Partido B: 4 lugares\n",
      "Partido C: 1 lugares\n",
      "Partido D: 1 lugares\n"
     ]
    }
   ],
   "source": [
    "import matplotlib.pyplot as plt\n",
    "\n",
    "def metodo_hondt(votos, lugares):\n",
    "    partidos = list(votos.keys())\n",
    "    distribuicao = {partido: 0 for partido in partidos}\n",
    "    \n",
    "    for _ in range(lugares):\n",
    "        quocientes = {partido: votos[partido] / (distribuicao[partido] + 1) for partido in partidos}\n",
    "        vencedor = max(quocientes, key=quocientes.get)\n",
    "        distribuicao[vencedor] += 1\n",
    "    \n",
    "    return distribuicao\n",
    "\n",
    "def metodo_sainte_lague(votos, lugares):\n",
    "    partidos = list(votos.keys())\n",
    "    distribuicao = {partido: 0 for partido in partidos}\n",
    "    \n",
    "    for _ in range(lugares):\n",
    "        quocientes = {partido: votos[partido] / (2 * distribuicao[partido] + 1) for partido in partidos}\n",
    "        vencedor = max(quocientes, key=quocientes.get)\n",
    "        distribuicao[vencedor] += 1\n",
    "    \n",
    "    return distribuicao\n",
    "\n",
    "def comparar_metodos(votos, lugares):\n",
    "    resultado_hondt = metodo_hondt(votos, lugares)\n",
    "    resultado_sainte_lague = metodo_sainte_lague(votos, lugares)\n",
    "\n",
    "    partidos = list(votos.keys())\n",
    "    lugares_hondt = [resultado_hondt[partido] for partido in partidos]\n",
    "    lugares_sainte_lague = [resultado_sainte_lague[partido] for partido in partidos]\n",
    "\n",
    "    x = range(len(partidos))\n",
    "    width = 0.35\n",
    "\n",
    "    fig, ax = plt.subplots(figsize=(12, 6))\n",
    "    rects1 = ax.bar([i - width/2 for i in x], lugares_hondt, width, label='Método de Hondt', color='blue', alpha=0.7)\n",
    "    rects2 = ax.bar([i + width/2 for i in x], lugares_sainte_lague, width, label='Método de Sainte-Laguë', color='red', alpha=0.7)\n",
    "\n",
    "    ax.set_ylabel('Número de Lugares')\n",
    "    ax.set_title('Comparação entre os métodos de Hondt e Sainte-Laguë')\n",
    "    ax.set_xticks(x)\n",
    "    ax.set_xticklabels(partidos)\n",
    "    ax.legend()\n",
    "\n",
    "    ax.bar_label(rects1, padding=3)\n",
    "    ax.bar_label(rects2, padding=3)\n",
    "\n",
    "    fig.tight_layout()\n",
    "\n",
    "    plt.show()\n",
    "\n",
    "    print(\"Distribuição de lugares pelo método de Hondt:\")\n",
    "    for partido, num_lugares in resultado_hondt.items():\n",
    "        print(f\"{partido}: {num_lugares} lugares\")\n",
    "\n",
    "    print(\"\\nDistribuição de lugares pelo método de Sainte-Laguë:\")\n",
    "    for partido, num_lugares in resultado_sainte_lague.items():\n",
    "        print(f\"{partido}: {num_lugares} lugares\")\n",
    "\n",
    "# Exemplo de uso\n",
    "\n",
    "votos = {'Partido A': 100000, 'Partido B': 80000, 'Partido C': 30000, 'Partido D': 20000}\n",
    "lugares = 10\n",
    "comparar_metodos(votos, lugares)"
   ]
  },
  {
   "cell_type": "markdown",
   "id": "cd592cee-9f29-4b39-a3a1-75bcb5227c65",
   "metadata": {},
   "source": [
    "## Análise e Comparação de Sistemas Eleitorais\n",
    "\n",
    "Nesta seção, vamos analisar e comparar diferentes sistemas eleitorais, destacando suas vantagens e desvantagens.\n",
    "\n",
    "Após executar o código, poderá observar:\n",
    "\n",
    "- Um resumo textual dos resultados para cada sistema eleitoral.\n",
    "- Dois gráficos de barras comparando os sistemas: (Frequência do vencedor por sistema; Frequência de segunda volta por sistema (será zero para Maioria Simples e Método de Borda))\n",
    "\n",
    "Os parâmetros (número de simulações, eleitores e candidatos) podem ser ajustados para explorar diferentes cenários.\n",
    "\n",
    "Algumas sugestões para discussão com os alunos:\n",
    "\n",
    "Comparar como a frequência do vencedor varia entre os sistemas.\n",
    "Analisar a frequência de segunda volta no sistema de Maioria Absoluta e discutir suas implicações.\n",
    "Discutir como o Método de Borda leva em conta as preferências completas dos eleitores, em contraste com os outros métodos.\n",
    "Explorar como os resultados mudam ao variar o número de candidatos ou eleitores.\n",
    "\n",
    "Este código fornece uma base sólida para explorar e comparar esses três sistemas eleitorais de forma visual e quantitativa."
   ]
  },
  {
   "cell_type": "code",
   "execution_count": 7,
   "id": "0763681f-84dd-4831-bc95-234dbf2a3e69",
   "metadata": {
    "tags": []
   },
   "outputs": [
    {
     "name": "stdout",
     "output_type": "stream",
     "text": [
      "\n",
      "Resultados das simulações (10000 simulações, 1000 eleitores, 5 candidatos):\n",
      "\n",
      "Maioria_simples:\n",
      "  Vencedor mais frequente: Candidato 5\n",
      "  Frequência do vencedor: 20.64%\n",
      "\n",
      "Maioria_absoluta:\n",
      "  Vencedor mais frequente: Não determinado\n",
      "  Frequência do vencedor: 0.00%\n",
      "  Frequência de segunda volta: 100.00%\n",
      "\n",
      "Borda:\n",
      "  Vencedor mais frequente: Candidato 3\n",
      "  Frequência do vencedor: 20.44%\n"
     ]
    },
    {
     "data": {
      "image/png": "[encoded data removed]",
      "text/plain": [
       "<Figure size 1500x600 with 2 Axes>"
      ]
     },
     "metadata": {},
     "output_type": "display_data"
    }
   ],
   "source": [
    "import random\n",
    "import matplotlib.pyplot as plt\n",
    "from collections import Counter\n",
    "\n",
    "def simular_eleicao(num_eleitores, num_candidatos, sistema_eleitoral):\n",
    "    if sistema_eleitoral in ['maioria_simples', 'maioria_absoluta']:\n",
    "        votos = [random.randint(1, num_candidatos) for _ in range(num_eleitores)]\n",
    "        contagem = Counter(votos)\n",
    "        \n",
    "        if sistema_eleitoral == 'maioria_simples':\n",
    "            return max(contagem, key=contagem.get)\n",
    "        elif sistema_eleitoral == 'maioria_absoluta':\n",
    "            if max(contagem.values()) > num_eleitores / 2:\n",
    "                return max(contagem, key=contagem.get)\n",
    "            else:\n",
    "                return 'Segunda Volta'\n",
    "    elif sistema_eleitoral == 'borda':\n",
    "        votos = [random.sample(range(1, num_candidatos + 1), num_candidatos) for _ in range(num_eleitores)]\n",
    "        pontuacao = {i: 0 for i in range(1, num_candidatos + 1)}\n",
    "        for voto in votos:\n",
    "            for posicao, candidato in enumerate(voto):\n",
    "                pontuacao[candidato] += num_candidatos - posicao\n",
    "        return max(pontuacao, key=pontuacao.get)\n",
    "    else:\n",
    "        return 'Sistema não reconhecido'\n",
    "\n",
    "def executar_simulacoes(num_simulacoes, num_eleitores, num_candidatos):\n",
    "    sistemas = ['maioria_simples', 'maioria_absoluta', 'borda']\n",
    "    resultados = {sistema: [] for sistema in sistemas}\n",
    "    \n",
    "    for _ in range(num_simulacoes):\n",
    "        for sistema in sistemas:\n",
    "            resultados[sistema].append(simular_eleicao(num_eleitores, num_candidatos, sistema))\n",
    "    \n",
    "    return resultados\n",
    "\n",
    "def analisar_resultados(resultados, num_simulacoes):\n",
    "    analise = {}\n",
    "    for sistema, res in resultados.items():\n",
    "        contagem = Counter(res)\n",
    "        segunda_volta_freq = contagem.get('Segunda Volta', 0) / num_simulacoes\n",
    "        contagem.pop('Segunda Volta', None)\n",
    "        \n",
    "        if contagem:\n",
    "            vencedor = max(contagem, key=contagem.get)\n",
    "            freq_vencedor = contagem[vencedor] / num_simulacoes\n",
    "        else:\n",
    "            vencedor = 'Não determinado'\n",
    "            freq_vencedor = 0\n",
    "        \n",
    "        analise[sistema] = {\n",
    "            'vencedor': vencedor,\n",
    "            'freq_vencedor': freq_vencedor,\n",
    "            'segunda_volta_freq': segunda_volta_freq\n",
    "        }\n",
    "    return analise\n",
    "\n",
    "def visualizar_resultados(analise):\n",
    "    sistemas = list(analise.keys())\n",
    "    freq_vencedor = [analise[s]['freq_vencedor'] for s in sistemas]\n",
    "    segunda_volta_freq = [analise[s]['segunda_volta_freq'] for s in sistemas]\n",
    "\n",
    "    fig, (ax1, ax2) = plt.subplots(1, 2, figsize=(15, 6))\n",
    "\n",
    "    # Gráfico de barras para frequência do vencedor\n",
    "    ax1.bar(sistemas, freq_vencedor)\n",
    "    ax1.set_title('Frequência do Vencedor por Sistema')\n",
    "    ax1.set_ylabel('Frequência')\n",
    "    ax1.set_ylim(0, 1)\n",
    "    for i, v in enumerate(freq_vencedor):\n",
    "        ax1.text(i, v, f'{v:.2%}', ha='center', va='bottom')\n",
    "\n",
    "    # Gráfico de barras para frequência de segunda volta\n",
    "    ax2.bar(sistemas, segunda_volta_freq)\n",
    "    ax2.set_title('Frequência de Segunda Volta por Sistema')\n",
    "    ax2.set_ylabel('Frequência')\n",
    "    ax2.set_ylim(0, 1)\n",
    "    for i, v in enumerate(segunda_volta_freq):\n",
    "        ax2.text(i, v, f'{v:.2%}', ha='center', va='bottom')\n",
    "\n",
    "    plt.tight_layout()\n",
    "    plt.show()\n",
    "\n",
    "# Parâmetros da simulação\n",
    "num_simulacoes = 10000\n",
    "num_eleitores = 1000\n",
    "num_candidatos = 5\n",
    "\n",
    "# Executar simulações\n",
    "resultados = executar_simulacoes(num_simulacoes, num_eleitores, num_candidatos)\n",
    "\n",
    "# Analisar resultados\n",
    "analise = analisar_resultados(resultados, num_simulacoes)\n",
    "\n",
    "# Imprimir resultados\n",
    "print(f\"\\nResultados das simulações ({num_simulacoes} simulações, {num_eleitores} eleitores, {num_candidatos} candidatos):\")\n",
    "for sistema, dados in analise.items():\n",
    "    print(f\"\\n{sistema.capitalize()}:\")\n",
    "    print(f\"  Vencedor mais frequente: {'Candidato ' + str(dados['vencedor']) if dados['vencedor'] != 'Não determinado' else dados['vencedor']}\")\n",
    "    print(f\"  Frequência do vencedor: {dados['freq_vencedor']:.2%}\")\n",
    "    if sistema == 'maioria_absoluta':\n",
    "        print(f\"  Frequência de segunda volta: {dados['segunda_volta_freq']:.2%}\")\n",
    "\n",
    "# Visualizar resultados\n",
    "visualizar_resultados(analise)"
   ]
  },
  {
   "cell_type": "code",
   "execution_count": 8,
   "id": "f4153ff7-b700-481f-b6e5-999b9c89ed84",
   "metadata": {
    "tags": []
   },
   "outputs": [],
   "source": [
    "import ipywidgets as widgets\n",
    "from IPython.display import display, HTML\n",
    "\n",
    "def check_answer(button):\n",
    "    if button.description == correct_answer.value:\n",
    "        result.value = \"Correto!\"\n",
    "    else:\n",
    "        result.value = \"Incorreto. Tente novamente.\""
   ]
  },
  {
   "cell_type": "markdown",
   "id": "85afbc7c-dcff-42f5-a15b-4e29db32200a",
   "metadata": {},
   "source": [
    "### Questão 1: Maioria Simples"
   ]
  },
  {
   "cell_type": "code",
   "execution_count": 9,
   "id": "adef2e4e-0dee-4a02-9a19-cd12efce37b9",
   "metadata": {
    "tags": []
   },
   "outputs": [
    {
     "name": "stdout",
     "output_type": "stream",
     "text": [
      "Quiz 1: Maioria Simples\n"
     ]
    },
    {
     "data": {
      "application/vnd.jupyter.widget-view+json": {
       "model_id": "a7992c56287d42a0bfbb82250e314366",
       "version_major": 2,
       "version_minor": 0
      },
      "text/plain": [
       "HTML(value='<h3>Quiz 1: Maioria Simples</h3><p>Numa eleição com três candidatos, os votos são distribuídos da …"
      ]
     },
     "metadata": {},
     "output_type": "display_data"
    },
    {
     "data": {
      "application/vnd.jupyter.widget-view+json": {
       "model_id": "93b76f6a4b6448308f16fdbf7f060afa",
       "version_major": 2,
       "version_minor": 0
      },
      "text/plain": [
       "Button(description='A', style=ButtonStyle())"
      ]
     },
     "metadata": {},
     "output_type": "display_data"
    },
    {
     "data": {
      "application/vnd.jupyter.widget-view+json": {
       "model_id": "450ced81b11c4c118055cc76231c8a27",
       "version_major": 2,
       "version_minor": 0
      },
      "text/plain": [
       "Button(description='B', style=ButtonStyle())"
      ]
     },
     "metadata": {},
     "output_type": "display_data"
    },
    {
     "data": {
      "application/vnd.jupyter.widget-view+json": {
       "model_id": "04a4f63296e9478e92b455d97537eb2b",
       "version_major": 2,
       "version_minor": 0
      },
      "text/plain": [
       "Button(description='C', style=ButtonStyle())"
      ]
     },
     "metadata": {},
     "output_type": "display_data"
    },
    {
     "data": {
      "application/vnd.jupyter.widget-view+json": {
       "model_id": "042e8c8c7cdc4b489b4e9c2d86ad9eaf",
       "version_major": 2,
       "version_minor": 0
      },
      "text/plain": [
       "Label(value='')"
      ]
     },
     "metadata": {},
     "output_type": "display_data"
    }
   ],
   "source": [
    "def quiz_maioria_simples():\n",
    "    global correct_answer, result\n",
    "    \n",
    "    question = widgets.HTML(\n",
    "        value=\"<h3>Quiz 1: Maioria Simples</h3><p>Numa eleição com três candidatos, os votos são distribuídos da seguinte forma:</p><ul><li>A: 45 votos</li><li>B: 30 votos</li><li>C: 25 votos</li></ul><p>Quem é o vencedor pela maioria simples?</p>\"\n",
    "    )\n",
    "    \n",
    "    options = ['A', 'B', 'C']\n",
    "    correct_answer = widgets.fixed('A')\n",
    "    \n",
    "    buttons = [widgets.Button(description=opt) for opt in options]\n",
    "    for button in buttons:\n",
    "        button.on_click(check_answer)\n",
    "    \n",
    "    result = widgets.Label()\n",
    "    \n",
    "    display(question, *buttons, result)\n",
    "    \n",
    "print(\"Quiz 1: Maioria Simples\")\n",
    "quiz_maioria_simples()"
   ]
  },
  {
   "cell_type": "markdown",
   "id": "8c86a2a9-326d-4265-bb9e-19bf87111544",
   "metadata": {},
   "source": [
    "### Questão 2: Maioria absoluta"
   ]
  },
  {
   "cell_type": "code",
   "execution_count": 10,
   "id": "91167496-523a-4ea6-9b17-22d563f00988",
   "metadata": {
    "tags": []
   },
   "outputs": [
    {
     "name": "stdout",
     "output_type": "stream",
     "text": [
      "\n",
      "Quiz 2: Maioria Absoluta\n"
     ]
    },
    {
     "data": {
      "application/vnd.jupyter.widget-view+json": {
       "model_id": "ee0e33955224480da80b35c3b4c46e87",
       "version_major": 2,
       "version_minor": 0
      },
      "text/plain": [
       "HTML(value='<h3>Quiz 2: Maioria Absoluta</h3><p>Numa eleição com três candidatos, os votos são distribuídos da…"
      ]
     },
     "metadata": {},
     "output_type": "display_data"
    },
    {
     "data": {
      "application/vnd.jupyter.widget-view+json": {
       "model_id": "ff4a490edf084706bccfe38d209d0099",
       "version_major": 2,
       "version_minor": 0
      },
      "text/plain": [
       "Button(description='Sim', style=ButtonStyle())"
      ]
     },
     "metadata": {},
     "output_type": "display_data"
    },
    {
     "data": {
      "application/vnd.jupyter.widget-view+json": {
       "model_id": "4641edeba45740549d851f48091d49f1",
       "version_major": 2,
       "version_minor": 0
      },
      "text/plain": [
       "Button(description='Não', style=ButtonStyle())"
      ]
     },
     "metadata": {},
     "output_type": "display_data"
    },
    {
     "data": {
      "application/vnd.jupyter.widget-view+json": {
       "model_id": "0203ff5717c24bb5a551428877f28328",
       "version_major": 2,
       "version_minor": 0
      },
      "text/plain": [
       "Label(value='')"
      ]
     },
     "metadata": {},
     "output_type": "display_data"
    }
   ],
   "source": [
    "def quiz_maioria_absoluta():\n",
    "    global correct_answer, result\n",
    "    \n",
    "    question = widgets.HTML(\n",
    "        value=\"<h3>Quiz 2: Maioria Absoluta</h3><p>Numa eleição com três candidatos, os votos são distribuídos da seguinte forma:</p><ul><li>A: 45 votos</li><li>B: 30 votos</li><li>C: 25 votos</li></ul><p>Há um vencedor pela maioria absoluta?</p>\"\n",
    "    )\n",
    "    \n",
    "    options = ['Sim', 'Não']\n",
    "    correct_answer = widgets.fixed('Não')\n",
    "    \n",
    "    buttons = [widgets.Button(description=opt) for opt in options]\n",
    "    for button in buttons:\n",
    "        button.on_click(check_answer)\n",
    "    \n",
    "    result = widgets.Label()\n",
    "    \n",
    "    display(question, *buttons, result)\n",
    "    \n",
    "print(\"\\nQuiz 2: Maioria Absoluta\")\n",
    "quiz_maioria_absoluta()"
   ]
  },
  {
   "cell_type": "markdown",
   "id": "216abb81-31bf-4dbf-b3a7-e55ffd5eed4d",
   "metadata": {},
   "source": [
    "### Questão 3: Métodos Eleitorais"
   ]
  },
  {
   "cell_type": "code",
   "execution_count": 11,
   "id": "05373add-fe0d-45d7-b601-b35a60124492",
   "metadata": {
    "tags": []
   },
   "outputs": [
    {
     "name": "stdout",
     "output_type": "stream",
     "text": [
      "\n",
      "Quiz 3: Métodos Eleitorais\n"
     ]
    },
    {
     "data": {
      "application/vnd.jupyter.widget-view+json": {
       "model_id": "83fc5275c77340ec80278dd29f2a6543",
       "version_major": 2,
       "version_minor": 0
      },
      "text/plain": [
       "HTML(value='<h3>Quiz 3: Métodos Eleitorais</h3><p>Qual dos seguintes métodos eleitorais garante que o vencedor…"
      ]
     },
     "metadata": {},
     "output_type": "display_data"
    },
    {
     "data": {
      "application/vnd.jupyter.widget-view+json": {
       "model_id": "0211a517f4794058b9553c61d1f3e32a",
       "version_major": 2,
       "version_minor": 0
      },
      "text/plain": [
       "Button(description='Maioria Simples', style=ButtonStyle())"
      ]
     },
     "metadata": {},
     "output_type": "display_data"
    },
    {
     "data": {
      "application/vnd.jupyter.widget-view+json": {
       "model_id": "a5eeb68bfc014a47a2bf4b80eb973e82",
       "version_major": 2,
       "version_minor": 0
      },
      "text/plain": [
       "Button(description='Maioria Absoluta', style=ButtonStyle())"
      ]
     },
     "metadata": {},
     "output_type": "display_data"
    },
    {
     "data": {
      "application/vnd.jupyter.widget-view+json": {
       "model_id": "9f0baac9dfc94da0b8c36553a3fa7262",
       "version_major": 2,
       "version_minor": 0
      },
      "text/plain": [
       "Button(description='Voto Aleatório', style=ButtonStyle())"
      ]
     },
     "metadata": {},
     "output_type": "display_data"
    },
    {
     "data": {
      "application/vnd.jupyter.widget-view+json": {
       "model_id": "aa1f585bd92e4f0abe9aef8ff2201487",
       "version_major": 2,
       "version_minor": 0
      },
      "text/plain": [
       "Label(value='')"
      ]
     },
     "metadata": {},
     "output_type": "display_data"
    }
   ],
   "source": [
    "def quiz_metodos_eleitorais():\n",
    "    global correct_answer, result\n",
    "    \n",
    "    question = widgets.HTML(\n",
    "        value=\"<h3>Quiz 3: Métodos Eleitorais</h3><p>Qual dos seguintes métodos eleitorais garante que o vencedor tenha mais de 50% dos votos?</p>\"\n",
    "    )\n",
    "    \n",
    "    options = ['Maioria Simples', 'Maioria Absoluta', 'Voto Aleatório']\n",
    "    correct_answer = widgets.fixed('Maioria Absoluta')\n",
    "    \n",
    "    buttons = [widgets.Button(description=opt) for opt in options]\n",
    "    for button in buttons:\n",
    "        button.on_click(check_answer)\n",
    "    \n",
    "    result = widgets.Label()\n",
    "    \n",
    "    display(question, *buttons, result)\n",
    "    \n",
    "print(\"\\nQuiz 3: Métodos Eleitorais\")\n",
    "quiz_metodos_eleitorais()"
   ]
  }
 ],
 "metadata": {
  "kernelspec": {
   "display_name": "Python 3 (ipykernel)",
   "language": "python",
   "name": "python3"
  },
  "language_info": {
   "codemirror_mode": {
    "name": "ipython",
    "version": 3
   },
   "file_extension": ".py",
   "mimetype": "text/x-python",
   "name": "python",
   "nbconvert_exporter": "python",
   "pygments_lexer": "ipython3",
   "version": "3.11.0"
  },
  "widgets": {
   "application/vnd.jupyter.widget-state+json": {
    "state": {
     "0203ff5717c24bb5a551428877f28328": {
      "model_module": "@jupyter-widgets/controls",
      "model_module_version": "2.0.0",
      "model_name": "LabelModel",
      "state": {
       "_dom_classes": [],
       "_model_module": "@jupyter-widgets/controls",
       "_model_module_version": "2.0.0",
       "_model_name": "LabelModel",
       "_view_count": null,
       "_view_module": "@jupyter-widgets/controls",
       "_view_module_version": "2.0.0",
       "_view_name": "LabelView",
       "description": "",
       "description_allow_html": false,
       "layout": "IPY_MODEL_7677578b2bc34dbcacecbe6facdfd1c3",
       "placeholder": "​",
       "style": "IPY_MODEL_eb1ad088c28345b29fbb49e89a5b6ac2",
       "tabbable": null,
       "tooltip": null,
       "value": ""
      }
     },
     "0211a517f4794058b9553c61d1f3e32a": {
      "model_module": "@jupyter-widgets/controls",
      "model_module_version": "2.0.0",
      "model_name": "ButtonModel",
      "state": {
       "_dom_classes": [],
       "_model_module": "@jupyter-widgets/controls",
       "_model_module_version": "2.0.0",
       "_model_name": "ButtonModel",
       "_view_count": null,
       "_view_module": "@jupyter-widgets/controls",
       "_view_module_version": "2.0.0",
       "_view_name": "ButtonView",
       "button_style": "",
       "description": "Maioria Simples",
       "disabled": false,
       "icon": "",
       "layout": "IPY_MODEL_02ba75ec6ce44a95b127a9824e0bc3a9",
       "style": "IPY_MODEL_608c2002df19458b86ad5aad5cb5937f",
       "tabbable": null,
       "tooltip": null
      }
     },
     "02737f07b3a348e58824da4f9b0eb153": {
      "model_module": "@jupyter-widgets/controls",
      "model_module_version": "2.0.0",
      "model_name": "LabelStyleModel",
      "state": {
       "_model_module": "@jupyter-widgets/controls",
       "_model_module_version": "2.0.0",
       "_model_name": "LabelStyleModel",
       "_view_count": null,
       "_view_module": "@jupyter-widgets/base",
       "_view_module_version": "2.0.0",
       "_view_name": "StyleView",
       "background": null,
       "description_width": "",
       "font_family": null,
       "font_size": null,
       "font_style": null,
       "font_variant": null,
       "font_weight": null,
       "text_color": null,
       "text_decoration": null
      }
     },
     "02ba75ec6ce44a95b127a9824e0bc3a9": {
      "model_module": "@jupyter-widgets/base",
      "model_module_version": "2.0.0",
      "model_name": "LayoutModel",
      "state": {
       "_model_module": "@jupyter-widgets/base",
       "_model_module_version": "2.0.0",
       "_model_name": "LayoutModel",
       "_view_count": null,
       "_view_module": "@jupyter-widgets/base",
       "_view_module_version": "2.0.0",
       "_view_name": "LayoutView",
       "align_content": null,
       "align_items": null,
       "align_self": null,
       "border_bottom": null,
       "border_left": null,
       "border_right": null,
       "border_top": null,
       "bottom": null,
       "display": null,
       "flex": null,
       "flex_flow": null,
       "grid_area": null,
       "grid_auto_columns": null,
       "grid_auto_flow": null,
       "grid_auto_rows": null,
       "grid_column": null,
       "grid_gap": null,
       "grid_row": null,
       "grid_template_areas": null,
       "grid_template_columns": null,
       "grid_template_rows": null,
       "height": null,
       "justify_content": null,
       "justify_items": null,
       "left": null,
       "margin": null,
       "max_height": null,
       "max_width": null,
       "min_height": null,
       "min_width": null,
       "object_fit": null,
       "object_position": null,
       "order": null,
       "overflow": null,
       "padding": null,
       "right": null,
       "top": null,
       "visibility": null,
       "width": null
      }
     },
     "042e8c8c7cdc4b489b4e9c2d86ad9eaf": {
      "model_module": "@jupyter-widgets/controls",
      "model_module_version": "2.0.0",
      "model_name": "LabelModel",
      "state": {
       "_dom_classes": [],
       "_model_module": "@jupyter-widgets/controls",
       "_model_module_version": "2.0.0",
       "_model_name": "LabelModel",
       "_view_count": null,
       "_view_module": "@jupyter-widgets/controls",
       "_view_module_version": "2.0.0",
       "_view_name": "LabelView",
       "description": "",
       "description_allow_html": false,
       "layout": "IPY_MODEL_c36dd3eb0109404bbe1020a022cc35bc",
       "placeholder": "​",
       "style": "IPY_MODEL_02737f07b3a348e58824da4f9b0eb153",
       "tabbable": null,
       "tooltip": null,
       "value": ""
      }
     },
     "04a4f63296e9478e92b455d97537eb2b": {
      "model_module": "@jupyter-widgets/controls",
      "model_module_version": "2.0.0",
      "model_name": "ButtonModel",
      "state": {
       "_dom_classes": [],
       "_model_module": "@jupyter-widgets/controls",
       "_model_module_version": "2.0.0",
       "_model_name": "ButtonModel",
       "_view_count": null,
       "_view_module": "@jupyter-widgets/controls",
       "_view_module_version": "2.0.0",
       "_view_name": "ButtonView",
       "button_style": "",
       "description": "C",
       "disabled": false,
       "icon": "",
       "layout": "IPY_MODEL_d9df63feec2741e3ab54b1127ee0f853",
       "style": "IPY_MODEL_7ab82cc42b60439c8bfd4dcf12d92e5e",
       "tabbable": null,
       "tooltip": null
      }
     },
     "0539474d127f4ce988fa2739be69232b": {
      "model_module": "@jupyter-widgets/controls",
      "model_module_version": "2.0.0",
      "model_name": "ButtonStyleModel",
      "state": {
       "_model_module": "@jupyter-widgets/controls",
       "_model_module_version": "2.0.0",
       "_model_name": "ButtonStyleModel",
       "_view_count": null,
       "_view_module": "@jupyter-widgets/base",
       "_view_module_version": "2.0.0",
       "_view_name": "StyleView",
       "button_color": null,
       "font_family": null,
       "font_size": null,
       "font_style": null,
       "font_variant": null,
       "font_weight": null,
       "text_color": null,
       "text_decoration": null
      }
     },
     "06e793074ba24f10950dc934a3a2c6a6": {
      "model_module": "@jupyter-widgets/base",
      "model_module_version": "2.0.0",
      "model_name": "LayoutModel",
      "state": {
       "_model_module": "@jupyter-widgets/base",
       "_model_module_version": "2.0.0",
       "_model_name": "LayoutModel",
       "_view_count": null,
       "_view_module": "@jupyter-widgets/base",
       "_view_module_version": "2.0.0",
       "_view_name": "LayoutView",
       "align_content": null,
       "align_items": null,
       "align_self": null,
       "border_bottom": null,
       "border_left": null,
       "border_right": null,
       "border_top": null,
       "bottom": null,
       "display": null,
       "flex": null,
       "flex_flow": null,
       "grid_area": null,
       "grid_auto_columns": null,
       "grid_auto_flow": null,
       "grid_auto_rows": null,
       "grid_column": null,
       "grid_gap": null,
       "grid_row": null,
       "grid_template_areas": null,
       "grid_template_columns": null,
       "grid_template_rows": null,
       "height": null,
       "justify_content": null,
       "justify_items": null,
       "left": null,
       "margin": null,
       "max_height": null,
       "max_width": null,
       "min_height": null,
       "min_width": null,
       "object_fit": null,
       "object_position": null,
       "order": null,
       "overflow": null,
       "padding": null,
       "right": null,
       "top": null,
       "visibility": null,
       "width": null
      }
     },
     "0d4ccd9efc7c404ebb975e46c81a6a88": {
      "model_module": "@jupyter-widgets/base",
      "model_module_version": "2.0.0",
      "model_name": "LayoutModel",
      "state": {
       "_model_module": "@jupyter-widgets/base",
       "_model_module_version": "2.0.0",
       "_model_name": "LayoutModel",
       "_view_count": null,
       "_view_module": "@jupyter-widgets/base",
       "_view_module_version": "2.0.0",
       "_view_name": "LayoutView",
       "align_content": null,
       "align_items": null,
       "align_self": null,
       "border_bottom": null,
       "border_left": null,
       "border_right": null,
       "border_top": null,
       "bottom": null,
       "display": null,
       "flex": null,
       "flex_flow": null,
       "grid_area": null,
       "grid_auto_columns": null,
       "grid_auto_flow": null,
       "grid_auto_rows": null,
       "grid_column": null,
       "grid_gap": null,
       "grid_row": null,
       "grid_template_areas": null,
       "grid_template_columns": null,
       "grid_template_rows": null,
       "height": null,
       "justify_content": null,
       "justify_items": null,
       "left": null,
       "margin": null,
       "max_height": null,
       "max_width": null,
       "min_height": null,
       "min_width": null,
       "object_fit": null,
       "object_position": null,
       "order": null,
       "overflow": null,
       "padding": null,
       "right": null,
       "top": null,
       "visibility": null,
       "width": null
      }
     },
     "1d0dcedda9324627a1798c4ef387226b": {
      "model_module": "@jupyter-widgets/base",
      "model_module_version": "2.0.0",
      "model_name": "LayoutModel",
      "state": {
       "_model_module": "@jupyter-widgets/base",
       "_model_module_version": "2.0.0",
       "_model_name": "LayoutModel",
       "_view_count": null,
       "_view_module": "@jupyter-widgets/base",
       "_view_module_version": "2.0.0",
       "_view_name": "LayoutView",
       "align_content": null,
       "align_items": null,
       "align_self": null,
       "border_bottom": null,
       "border_left": null,
       "border_right": null,
       "border_top": null,
       "bottom": null,
       "display": null,
       "flex": null,
       "flex_flow": null,
       "grid_area": null,
       "grid_auto_columns": null,
       "grid_auto_flow": null,
       "grid_auto_rows": null,
       "grid_column": null,
       "grid_gap": null,
       "grid_row": null,
       "grid_template_areas": null,
       "grid_template_columns": null,
       "grid_template_rows": null,
       "height": null,
       "justify_content": null,
       "justify_items": null,
       "left": null,
       "margin": null,
       "max_height": null,
       "max_width": null,
       "min_height": null,
       "min_width": null,
       "object_fit": null,
       "object_position": null,
       "order": null,
       "overflow": null,
       "padding": null,
       "right": null,
       "top": null,
       "visibility": null,
       "width": null
      }
     },
     "2b30edfe722a4b3b9f3fc06081d5f678": {
      "model_module": "@jupyter-widgets/controls",
      "model_module_version": "2.0.0",
      "model_name": "ButtonStyleModel",
      "state": {
       "_model_module": "@jupyter-widgets/controls",
       "_model_module_version": "2.0.0",
       "_model_name": "ButtonStyleModel",
       "_view_count": null,
       "_view_module": "@jupyter-widgets/base",
       "_view_module_version": "2.0.0",
       "_view_name": "StyleView",
       "button_color": null,
       "font_family": null,
       "font_size": null,
       "font_style": null,
       "font_variant": null,
       "font_weight": null,
       "text_color": null,
       "text_decoration": null
      }
     },
     "2d8a0097579d47ddacc5b44ed1a32cb0": {
      "model_module": "@jupyter-widgets/controls",
      "model_module_version": "2.0.0",
      "model_name": "HTMLStyleModel",
      "state": {
       "_model_module": "@jupyter-widgets/controls",
       "_model_module_version": "2.0.0",
       "_model_name": "HTMLStyleModel",
       "_view_count": null,
       "_view_module": "@jupyter-widgets/base",
       "_view_module_version": "2.0.0",
       "_view_name": "StyleView",
       "background": null,
       "description_width": "",
       "font_size": null,
       "text_color": null
      }
     },
     "2d8ce87801824125b82ec59912c68163": {
      "model_module": "@jupyter-widgets/controls",
      "model_module_version": "2.0.0",
      "model_name": "LabelStyleModel",
      "state": {
       "_model_module": "@jupyter-widgets/controls",
       "_model_module_version": "2.0.0",
       "_model_name": "LabelStyleModel",
       "_view_count": null,
       "_view_module": "@jupyter-widgets/base",
       "_view_module_version": "2.0.0",
       "_view_name": "StyleView",
       "background": null,
       "description_width": "",
       "font_family": null,
       "font_size": null,
       "font_style": null,
       "font_variant": null,
       "font_weight": null,
       "text_color": null,
       "text_decoration": null
      }
     },
     "2eaba977f78b4cf79c1b47675be20c06": {
      "model_module": "@jupyter-widgets/base",
      "model_module_version": "2.0.0",
      "model_name": "LayoutModel",
      "state": {
       "_model_module": "@jupyter-widgets/base",
       "_model_module_version": "2.0.0",
       "_model_name": "LayoutModel",
       "_view_count": null,
       "_view_module": "@jupyter-widgets/base",
       "_view_module_version": "2.0.0",
       "_view_name": "LayoutView",
       "align_content": null,
       "align_items": null,
       "align_self": null,
       "border_bottom": null,
       "border_left": null,
       "border_right": null,
       "border_top": null,
       "bottom": null,
       "display": null,
       "flex": null,
       "flex_flow": null,
       "grid_area": null,
       "grid_auto_columns": null,
       "grid_auto_flow": null,
       "grid_auto_rows": null,
       "grid_column": null,
       "grid_gap": null,
       "grid_row": null,
       "grid_template_areas": null,
       "grid_template_columns": null,
       "grid_template_rows": null,
       "height": null,
       "justify_content": null,
       "justify_items": null,
       "left": null,
       "margin": null,
       "max_height": null,
       "max_width": null,
       "min_height": null,
       "min_width": null,
       "object_fit": null,
       "object_position": null,
       "order": null,
       "overflow": null,
       "padding": null,
       "right": null,
       "top": null,
       "visibility": null,
       "width": null
      }
     },
     "396ade8b49bb41c29f6bb7c470870d0a": {
      "model_module": "@jupyter-widgets/base",
      "model_module_version": "2.0.0",
      "model_name": "LayoutModel",
      "state": {
       "_model_module": "@jupyter-widgets/base",
       "_model_module_version": "2.0.0",
       "_model_name": "LayoutModel",
       "_view_count": null,
       "_view_module": "@jupyter-widgets/base",
       "_view_module_version": "2.0.0",
       "_view_name": "LayoutView",
       "align_content": null,
       "align_items": null,
       "align_self": null,
       "border_bottom": null,
       "border_left": null,
       "border_right": null,
       "border_top": null,
       "bottom": null,
       "display": null,
       "flex": null,
       "flex_flow": null,
       "grid_area": null,
       "grid_auto_columns": null,
       "grid_auto_flow": null,
       "grid_auto_rows": null,
       "grid_column": null,
       "grid_gap": null,
       "grid_row": null,
       "grid_template_areas": null,
       "grid_template_columns": null,
       "grid_template_rows": null,
       "height": null,
       "justify_content": null,
       "justify_items": null,
       "left": null,
       "margin": null,
       "max_height": null,
       "max_width": null,
       "min_height": null,
       "min_width": null,
       "object_fit": null,
       "object_position": null,
       "order": null,
       "overflow": null,
       "padding": null,
       "right": null,
       "top": null,
       "visibility": null,
       "width": null
      }
     },
     "450ced81b11c4c118055cc76231c8a27": {
      "model_module": "@jupyter-widgets/controls",
      "model_module_version": "2.0.0",
      "model_name": "ButtonModel",
      "state": {
       "_dom_classes": [],
       "_model_module": "@jupyter-widgets/controls",
       "_model_module_version": "2.0.0",
       "_model_name": "ButtonModel",
       "_view_count": null,
       "_view_module": "@jupyter-widgets/controls",
       "_view_module_version": "2.0.0",
       "_view_name": "ButtonView",
       "button_style": "",
       "description": "B",
       "disabled": false,
       "icon": "",
       "layout": "IPY_MODEL_06e793074ba24f10950dc934a3a2c6a6",
       "style": "IPY_MODEL_fb1ff506ba384c738a411fa4ff7c2847",
       "tabbable": null,
       "tooltip": null
      }
     },
     "4641edeba45740549d851f48091d49f1": {
      "model_module": "@jupyter-widgets/controls",
      "model_module_version": "2.0.0",
      "model_name": "ButtonModel",
      "state": {
       "_dom_classes": [],
       "_model_module": "@jupyter-widgets/controls",
       "_model_module_version": "2.0.0",
       "_model_name": "ButtonModel",
       "_view_count": null,
       "_view_module": "@jupyter-widgets/controls",
       "_view_module_version": "2.0.0",
       "_view_name": "ButtonView",
       "button_style": "",
       "description": "Não",
       "disabled": false,
       "icon": "",
       "layout": "IPY_MODEL_0d4ccd9efc7c404ebb975e46c81a6a88",
       "style": "IPY_MODEL_aa50c513b11444f79545b395936a8e4f",
       "tabbable": null,
       "tooltip": null
      }
     },
     "608c2002df19458b86ad5aad5cb5937f": {
      "model_module": "@jupyter-widgets/controls",
      "model_module_version": "2.0.0",
      "model_name": "ButtonStyleModel",
      "state": {
       "_model_module": "@jupyter-widgets/controls",
       "_model_module_version": "2.0.0",
       "_model_name": "ButtonStyleModel",
       "_view_count": null,
       "_view_module": "@jupyter-widgets/base",
       "_view_module_version": "2.0.0",
       "_view_name": "StyleView",
       "button_color": null,
       "font_family": null,
       "font_size": null,
       "font_style": null,
       "font_variant": null,
       "font_weight": null,
       "text_color": null,
       "text_decoration": null
      }
     },
     "7677578b2bc34dbcacecbe6facdfd1c3": {
      "model_module": "@jupyter-widgets/base",
      "model_module_version": "2.0.0",
      "model_name": "LayoutModel",
      "state": {
       "_model_module": "@jupyter-widgets/base",
       "_model_module_version": "2.0.0",
       "_model_name": "LayoutModel",
       "_view_count": null,
       "_view_module": "@jupyter-widgets/base",
       "_view_module_version": "2.0.0",
       "_view_name": "LayoutView",
       "align_content": null,
       "align_items": null,
       "align_self": null,
       "border_bottom": null,
       "border_left": null,
       "border_right": null,
       "border_top": null,
       "bottom": null,
       "display": null,
       "flex": null,
       "flex_flow": null,
       "grid_area": null,
       "grid_auto_columns": null,
       "grid_auto_flow": null,
       "grid_auto_rows": null,
       "grid_column": null,
       "grid_gap": null,
       "grid_row": null,
       "grid_template_areas": null,
       "grid_template_columns": null,
       "grid_template_rows": null,
       "height": null,
       "justify_content": null,
       "justify_items": null,
       "left": null,
       "margin": null,
       "max_height": null,
       "max_width": null,
       "min_height": null,
       "min_width": null,
       "object_fit": null,
       "object_position": null,
       "order": null,
       "overflow": null,
       "padding": null,
       "right": null,
       "top": null,
       "visibility": null,
       "width": null
      }
     },
     "7976e1c5a6f54fefa391c5e788a3c2e9": {
      "model_module": "@jupyter-widgets/controls",
      "model_module_version": "2.0.0",
      "model_name": "HTMLStyleModel",
      "state": {
       "_model_module": "@jupyter-widgets/controls",
       "_model_module_version": "2.0.0",
       "_model_name": "HTMLStyleModel",
       "_view_count": null,
       "_view_module": "@jupyter-widgets/base",
       "_view_module_version": "2.0.0",
       "_view_name": "StyleView",
       "background": null,
       "description_width": "",
       "font_size": null,
       "text_color": null
      }
     },
     "7ab82cc42b60439c8bfd4dcf12d92e5e": {
      "model_module": "@jupyter-widgets/controls",
      "model_module_version": "2.0.0",
      "model_name": "ButtonStyleModel",
      "state": {
       "_model_module": "@jupyter-widgets/controls",
       "_model_module_version": "2.0.0",
       "_model_name": "ButtonStyleModel",
       "_view_count": null,
       "_view_module": "@jupyter-widgets/base",
       "_view_module_version": "2.0.0",
       "_view_name": "StyleView",
       "button_color": null,
       "font_family": null,
       "font_size": null,
       "font_style": null,
       "font_variant": null,
       "font_weight": null,
       "text_color": null,
       "text_decoration": null
      }
     },
     "83fc5275c77340ec80278dd29f2a6543": {
      "model_module": "@jupyter-widgets/controls",
      "model_module_version": "2.0.0",
      "model_name": "HTMLModel",
      "state": {
       "_dom_classes": [],
       "_model_module": "@jupyter-widgets/controls",
       "_model_module_version": "2.0.0",
       "_model_name": "HTMLModel",
       "_view_count": null,
       "_view_module": "@jupyter-widgets/controls",
       "_view_module_version": "2.0.0",
       "_view_name": "HTMLView",
       "description": "",
       "description_allow_html": false,
       "layout": "IPY_MODEL_396ade8b49bb41c29f6bb7c470870d0a",
       "placeholder": "​",
       "style": "IPY_MODEL_a89a3d54535c434ea07dbb16182dc81b",
       "tabbable": null,
       "tooltip": null,
       "value": "<h3>Quiz 3: Métodos Eleitorais</h3><p>Qual dos seguintes métodos eleitorais garante que o vencedor tenha mais de 50% dos votos?</p>"
      }
     },
     "93b76f6a4b6448308f16fdbf7f060afa": {
      "model_module": "@jupyter-widgets/controls",
      "model_module_version": "2.0.0",
      "model_name": "ButtonModel",
      "state": {
       "_dom_classes": [],
       "_model_module": "@jupyter-widgets/controls",
       "_model_module_version": "2.0.0",
       "_model_name": "ButtonModel",
       "_view_count": null,
       "_view_module": "@jupyter-widgets/controls",
       "_view_module_version": "2.0.0",
       "_view_name": "ButtonView",
       "button_style": "",
       "description": "A",
       "disabled": false,
       "icon": "",
       "layout": "IPY_MODEL_cfdd546cf1934d2db7318fdd2ec104e9",
       "style": "IPY_MODEL_ae7d065f1335493bb5a172f74884ef7d",
       "tabbable": null,
       "tooltip": null
      }
     },
     "95506012cf8b4b5dae139955bf3119c7": {
      "model_module": "@jupyter-widgets/controls",
      "model_module_version": "2.0.0",
      "model_name": "ButtonStyleModel",
      "state": {
       "_model_module": "@jupyter-widgets/controls",
       "_model_module_version": "2.0.0",
       "_model_name": "ButtonStyleModel",
       "_view_count": null,
       "_view_module": "@jupyter-widgets/base",
       "_view_module_version": "2.0.0",
       "_view_name": "StyleView",
       "button_color": null,
       "font_family": null,
       "font_size": null,
       "font_style": null,
       "font_variant": null,
       "font_weight": null,
       "text_color": null,
       "text_decoration": null
      }
     },
     "9f0baac9dfc94da0b8c36553a3fa7262": {
      "model_module": "@jupyter-widgets/controls",
      "model_module_version": "2.0.0",
      "model_name": "ButtonModel",
      "state": {
       "_dom_classes": [],
       "_model_module": "@jupyter-widgets/controls",
       "_model_module_version": "2.0.0",
       "_model_name": "ButtonModel",
       "_view_count": null,
       "_view_module": "@jupyter-widgets/controls",
       "_view_module_version": "2.0.0",
       "_view_name": "ButtonView",
       "button_style": "",
       "description": "Voto Aleatório",
       "disabled": false,
       "icon": "",
       "layout": "IPY_MODEL_ca00b37753004b19a11877c6efe6d5c2",
       "style": "IPY_MODEL_0539474d127f4ce988fa2739be69232b",
       "tabbable": null,
       "tooltip": null
      }
     },
     "a5eeb68bfc014a47a2bf4b80eb973e82": {
      "model_module": "@jupyter-widgets/controls",
      "model_module_version": "2.0.0",
      "model_name": "ButtonModel",
      "state": {
       "_dom_classes": [],
       "_model_module": "@jupyter-widgets/controls",
       "_model_module_version": "2.0.0",
       "_model_name": "ButtonModel",
       "_view_count": null,
       "_view_module": "@jupyter-widgets/controls",
       "_view_module_version": "2.0.0",
       "_view_name": "ButtonView",
       "button_style": "",
       "description": "Maioria Absoluta",
       "disabled": false,
       "icon": "",
       "layout": "IPY_MODEL_ac9c3ca3a00144b9beb4b4b5aeb24c4b",
       "style": "IPY_MODEL_2b30edfe722a4b3b9f3fc06081d5f678",
       "tabbable": null,
       "tooltip": null
      }
     },
     "a7992c56287d42a0bfbb82250e314366": {
      "model_module": "@jupyter-widgets/controls",
      "model_module_version": "2.0.0",
      "model_name": "HTMLModel",
      "state": {
       "_dom_classes": [],
       "_model_module": "@jupyter-widgets/controls",
       "_model_module_version": "2.0.0",
       "_model_name": "HTMLModel",
       "_view_count": null,
       "_view_module": "@jupyter-widgets/controls",
       "_view_module_version": "2.0.0",
       "_view_name": "HTMLView",
       "description": "",
       "description_allow_html": false,
       "layout": "IPY_MODEL_1d0dcedda9324627a1798c4ef387226b",
       "placeholder": "​",
       "style": "IPY_MODEL_2d8a0097579d47ddacc5b44ed1a32cb0",
       "tabbable": null,
       "tooltip": null,
       "value": "<h3>Quiz 1: Maioria Simples</h3><p>Numa eleição com três candidatos, os votos são distribuídos da seguinte forma:</p><ul><li>A: 45 votos</li><li>B: 30 votos</li><li>C: 25 votos</li></ul><p>Quem é o vencedor pela maioria simples?</p>"
      }
     },
     "a89a3d54535c434ea07dbb16182dc81b": {
      "model_module": "@jupyter-widgets/controls",
      "model_module_version": "2.0.0",
      "model_name": "HTMLStyleModel",
      "state": {
       "_model_module": "@jupyter-widgets/controls",
       "_model_module_version": "2.0.0",
       "_model_name": "HTMLStyleModel",
       "_view_count": null,
       "_view_module": "@jupyter-widgets/base",
       "_view_module_version": "2.0.0",
       "_view_name": "StyleView",
       "background": null,
       "description_width": "",
       "font_size": null,
       "text_color": null
      }
     },
     "aa1f585bd92e4f0abe9aef8ff2201487": {
      "model_module": "@jupyter-widgets/controls",
      "model_module_version": "2.0.0",
      "model_name": "LabelModel",
      "state": {
       "_dom_classes": [],
       "_model_module": "@jupyter-widgets/controls",
       "_model_module_version": "2.0.0",
       "_model_name": "LabelModel",
       "_view_count": null,
       "_view_module": "@jupyter-widgets/controls",
       "_view_module_version": "2.0.0",
       "_view_name": "LabelView",
       "description": "",
       "description_allow_html": false,
       "layout": "IPY_MODEL_2eaba977f78b4cf79c1b47675be20c06",
       "placeholder": "​",
       "style": "IPY_MODEL_2d8ce87801824125b82ec59912c68163",
       "tabbable": null,
       "tooltip": null,
       "value": ""
      }
     },
     "aa50c513b11444f79545b395936a8e4f": {
      "model_module": "@jupyter-widgets/controls",
      "model_module_version": "2.0.0",
      "model_name": "ButtonStyleModel",
      "state": {
       "_model_module": "@jupyter-widgets/controls",
       "_model_module_version": "2.0.0",
       "_model_name": "ButtonStyleModel",
       "_view_count": null,
       "_view_module": "@jupyter-widgets/base",
       "_view_module_version": "2.0.0",
       "_view_name": "StyleView",
       "button_color": null,
       "font_family": null,
       "font_size": null,
       "font_style": null,
       "font_variant": null,
       "font_weight": null,
       "text_color": null,
       "text_decoration": null
      }
     },
     "ac9c3ca3a00144b9beb4b4b5aeb24c4b": {
      "model_module": "@jupyter-widgets/base",
      "model_module_version": "2.0.0",
      "model_name": "LayoutModel",
      "state": {
       "_model_module": "@jupyter-widgets/base",
       "_model_module_version": "2.0.0",
       "_model_name": "LayoutModel",
       "_view_count": null,
       "_view_module": "@jupyter-widgets/base",
       "_view_module_version": "2.0.0",
       "_view_name": "LayoutView",
       "align_content": null,
       "align_items": null,
       "align_self": null,
       "border_bottom": null,
       "border_left": null,
       "border_right": null,
       "border_top": null,
       "bottom": null,
       "display": null,
       "flex": null,
       "flex_flow": null,
       "grid_area": null,
       "grid_auto_columns": null,
       "grid_auto_flow": null,
       "grid_auto_rows": null,
       "grid_column": null,
       "grid_gap": null,
       "grid_row": null,
       "grid_template_areas": null,
       "grid_template_columns": null,
       "grid_template_rows": null,
       "height": null,
       "justify_content": null,
       "justify_items": null,
       "left": null,
       "margin": null,
       "max_height": null,
       "max_width": null,
       "min_height": null,
       "min_width": null,
       "object_fit": null,
       "object_position": null,
       "order": null,
       "overflow": null,
       "padding": null,
       "right": null,
       "top": null,
       "visibility": null,
       "width": null
      }
     },
     "ae7d065f1335493bb5a172f74884ef7d": {
      "model_module": "@jupyter-widgets/controls",
      "model_module_version": "2.0.0",
      "model_name": "ButtonStyleModel",
      "state": {
       "_model_module": "@jupyter-widgets/controls",
       "_model_module_version": "2.0.0",
       "_model_name": "ButtonStyleModel",
       "_view_count": null,
       "_view_module": "@jupyter-widgets/base",
       "_view_module_version": "2.0.0",
       "_view_name": "StyleView",
       "button_color": null,
       "font_family": null,
       "font_size": null,
       "font_style": null,
       "font_variant": null,
       "font_weight": null,
       "text_color": null,
       "text_decoration": null
      }
     },
     "b53360bb3e5b4a54a9aeda951dd8f4e4": {
      "model_module": "@jupyter-widgets/base",
      "model_module_version": "2.0.0",
      "model_name": "LayoutModel",
      "state": {
       "_model_module": "@jupyter-widgets/base",
       "_model_module_version": "2.0.0",
       "_model_name": "LayoutModel",
       "_view_count": null,
       "_view_module": "@jupyter-widgets/base",
       "_view_module_version": "2.0.0",
       "_view_name": "LayoutView",
       "align_content": null,
       "align_items": null,
       "align_self": null,
       "border_bottom": null,
       "border_left": null,
       "border_right": null,
       "border_top": null,
       "bottom": null,
       "display": null,
       "flex": null,
       "flex_flow": null,
       "grid_area": null,
       "grid_auto_columns": null,
       "grid_auto_flow": null,
       "grid_auto_rows": null,
       "grid_column": null,
       "grid_gap": null,
       "grid_row": null,
       "grid_template_areas": null,
       "grid_template_columns": null,
       "grid_template_rows": null,
       "height": null,
       "justify_content": null,
       "justify_items": null,
       "left": null,
       "margin": null,
       "max_height": null,
       "max_width": null,
       "min_height": null,
       "min_width": null,
       "object_fit": null,
       "object_position": null,
       "order": null,
       "overflow": null,
       "padding": null,
       "right": null,
       "top": null,
       "visibility": null,
       "width": null
      }
     },
     "c36dd3eb0109404bbe1020a022cc35bc": {
      "model_module": "@jupyter-widgets/base",
      "model_module_version": "2.0.0",
      "model_name": "LayoutModel",
      "state": {
       "_model_module": "@jupyter-widgets/base",
       "_model_module_version": "2.0.0",
       "_model_name": "LayoutModel",
       "_view_count": null,
       "_view_module": "@jupyter-widgets/base",
       "_view_module_version": "2.0.0",
       "_view_name": "LayoutView",
       "align_content": null,
       "align_items": null,
       "align_self": null,
       "border_bottom": null,
       "border_left": null,
       "border_right": null,
       "border_top": null,
       "bottom": null,
       "display": null,
       "flex": null,
       "flex_flow": null,
       "grid_area": null,
       "grid_auto_columns": null,
       "grid_auto_flow": null,
       "grid_auto_rows": null,
       "grid_column": null,
       "grid_gap": null,
       "grid_row": null,
       "grid_template_areas": null,
       "grid_template_columns": null,
       "grid_template_rows": null,
       "height": null,
       "justify_content": null,
       "justify_items": null,
       "left": null,
       "margin": null,
       "max_height": null,
       "max_width": null,
       "min_height": null,
       "min_width": null,
       "object_fit": null,
       "object_position": null,
       "order": null,
       "overflow": null,
       "padding": null,
       "right": null,
       "top": null,
       "visibility": null,
       "width": null
      }
     },
     "ca00b37753004b19a11877c6efe6d5c2": {
      "model_module": "@jupyter-widgets/base",
      "model_module_version": "2.0.0",
      "model_name": "LayoutModel",
      "state": {
       "_model_module": "@jupyter-widgets/base",
       "_model_module_version": "2.0.0",
       "_model_name": "LayoutModel",
       "_view_count": null,
       "_view_module": "@jupyter-widgets/base",
       "_view_module_version": "2.0.0",
       "_view_name": "LayoutView",
       "align_content": null,
       "align_items": null,
       "align_self": null,
       "border_bottom": null,
       "border_left": null,
       "border_right": null,
       "border_top": null,
       "bottom": null,
       "display": null,
       "flex": null,
       "flex_flow": null,
       "grid_area": null,
       "grid_auto_columns": null,
       "grid_auto_flow": null,
       "grid_auto_rows": null,
       "grid_column": null,
       "grid_gap": null,
       "grid_row": null,
       "grid_template_areas": null,
       "grid_template_columns": null,
       "grid_template_rows": null,
       "height": null,
       "justify_content": null,
       "justify_items": null,
       "left": null,
       "margin": null,
       "max_height": null,
       "max_width": null,
       "min_height": null,
       "min_width": null,
       "object_fit": null,
       "object_position": null,
       "order": null,
       "overflow": null,
       "padding": null,
       "right": null,
       "top": null,
       "visibility": null,
       "width": null
      }
     },
     "ced611b0c1974c24b031a71bdd87707f": {
      "model_module": "@jupyter-widgets/base",
      "model_module_version": "2.0.0",
      "model_name": "LayoutModel",
      "state": {
       "_model_module": "@jupyter-widgets/base",
       "_model_module_version": "2.0.0",
       "_model_name": "LayoutModel",
       "_view_count": null,
       "_view_module": "@jupyter-widgets/base",
       "_view_module_version": "2.0.0",
       "_view_name": "LayoutView",
       "align_content": null,
       "align_items": null,
       "align_self": null,
       "border_bottom": null,
       "border_left": null,
       "border_right": null,
       "border_top": null,
       "bottom": null,
       "display": null,
       "flex": null,
       "flex_flow": null,
       "grid_area": null,
       "grid_auto_columns": null,
       "grid_auto_flow": null,
       "grid_auto_rows": null,
       "grid_column": null,
       "grid_gap": null,
       "grid_row": null,
       "grid_template_areas": null,
       "grid_template_columns": null,
       "grid_template_rows": null,
       "height": null,
       "justify_content": null,
       "justify_items": null,
       "left": null,
       "margin": null,
       "max_height": null,
       "max_width": null,
       "min_height": null,
       "min_width": null,
       "object_fit": null,
       "object_position": null,
       "order": null,
       "overflow": null,
       "padding": null,
       "right": null,
       "top": null,
       "visibility": null,
       "width": null
      }
     },
     "cfdd546cf1934d2db7318fdd2ec104e9": {
      "model_module": "@jupyter-widgets/base",
      "model_module_version": "2.0.0",
      "model_name": "LayoutModel",
      "state": {
       "_model_module": "@jupyter-widgets/base",
       "_model_module_version": "2.0.0",
       "_model_name": "LayoutModel",
       "_view_count": null,
       "_view_module": "@jupyter-widgets/base",
       "_view_module_version": "2.0.0",
       "_view_name": "LayoutView",
       "align_content": null,
       "align_items": null,
       "align_self": null,
       "border_bottom": null,
       "border_left": null,
       "border_right": null,
       "border_top": null,
       "bottom": null,
       "display": null,
       "flex": null,
       "flex_flow": null,
       "grid_area": null,
       "grid_auto_columns": null,
       "grid_auto_flow": null,
       "grid_auto_rows": null,
       "grid_column": null,
       "grid_gap": null,
       "grid_row": null,
       "grid_template_areas": null,
       "grid_template_columns": null,
       "grid_template_rows": null,
       "height": null,
       "justify_content": null,
       "justify_items": null,
       "left": null,
       "margin": null,
       "max_height": null,
       "max_width": null,
       "min_height": null,
       "min_width": null,
       "object_fit": null,
       "object_position": null,
       "order": null,
       "overflow": null,
       "padding": null,
       "right": null,
       "top": null,
       "visibility": null,
       "width": null
      }
     },
     "d9df63feec2741e3ab54b1127ee0f853": {
      "model_module": "@jupyter-widgets/base",
      "model_module_version": "2.0.0",
      "model_name": "LayoutModel",
      "state": {
       "_model_module": "@jupyter-widgets/base",
       "_model_module_version": "2.0.0",
       "_model_name": "LayoutModel",
       "_view_count": null,
       "_view_module": "@jupyter-widgets/base",
       "_view_module_version": "2.0.0",
       "_view_name": "LayoutView",
       "align_content": null,
       "align_items": null,
       "align_self": null,
       "border_bottom": null,
       "border_left": null,
       "border_right": null,
       "border_top": null,
       "bottom": null,
       "display": null,
       "flex": null,
       "flex_flow": null,
       "grid_area": null,
       "grid_auto_columns": null,
       "grid_auto_flow": null,
       "grid_auto_rows": null,
       "grid_column": null,
       "grid_gap": null,
       "grid_row": null,
       "grid_template_areas": null,
       "grid_template_columns": null,
       "grid_template_rows": null,
       "height": null,
       "justify_content": null,
       "justify_items": null,
       "left": null,
       "margin": null,
       "max_height": null,
       "max_width": null,
       "min_height": null,
       "min_width": null,
       "object_fit": null,
       "object_position": null,
       "order": null,
       "overflow": null,
       "padding": null,
       "right": null,
       "top": null,
       "visibility": null,
       "width": null
      }
     },
     "eb1ad088c28345b29fbb49e89a5b6ac2": {
      "model_module": "@jupyter-widgets/controls",
      "model_module_version": "2.0.0",
      "model_name": "LabelStyleModel",
      "state": {
       "_model_module": "@jupyter-widgets/controls",
       "_model_module_version": "2.0.0",
       "_model_name": "LabelStyleModel",
       "_view_count": null,
       "_view_module": "@jupyter-widgets/base",
       "_view_module_version": "2.0.0",
       "_view_name": "StyleView",
       "background": null,
       "description_width": "",
       "font_family": null,
       "font_size": null,
       "font_style": null,
       "font_variant": null,
       "font_weight": null,
       "text_color": null,
       "text_decoration": null
      }
     },
     "ee0e33955224480da80b35c3b4c46e87": {
      "model_module": "@jupyter-widgets/controls",
      "model_module_version": "2.0.0",
      "model_name": "HTMLModel",
      "state": {
       "_dom_classes": [],
       "_model_module": "@jupyter-widgets/controls",
       "_model_module_version": "2.0.0",
       "_model_name": "HTMLModel",
       "_view_count": null,
       "_view_module": "@jupyter-widgets/controls",
       "_view_module_version": "2.0.0",
       "_view_name": "HTMLView",
       "description": "",
       "description_allow_html": false,
       "layout": "IPY_MODEL_b53360bb3e5b4a54a9aeda951dd8f4e4",
       "placeholder": "​",
       "style": "IPY_MODEL_7976e1c5a6f54fefa391c5e788a3c2e9",
       "tabbable": null,
       "tooltip": null,
       "value": "<h3>Quiz 2: Maioria Absoluta</h3><p>Numa eleição com três candidatos, os votos são distribuídos da seguinte forma:</p><ul><li>A: 45 votos</li><li>B: 30 votos</li><li>C: 25 votos</li></ul><p>Há um vencedor pela maioria absoluta?</p>"
      }
     },
     "fb1ff506ba384c738a411fa4ff7c2847": {
      "model_module": "@jupyter-widgets/controls",
      "model_module_version": "2.0.0",
      "model_name": "ButtonStyleModel",
      "state": {
       "_model_module": "@jupyter-widgets/controls",
       "_model_module_version": "2.0.0",
       "_model_name": "ButtonStyleModel",
       "_view_count": null,
       "_view_module": "@jupyter-widgets/base",
       "_view_module_version": "2.0.0",
       "_view_name": "StyleView",
       "button_color": null,
       "font_family": null,
       "font_size": null,
       "font_style": null,
       "font_variant": null,
       "font_weight": null,
       "text_color": null,
       "text_decoration": null
      }
     },
     "ff4a490edf084706bccfe38d209d0099": {
      "model_module": "@jupyter-widgets/controls",
      "model_module_version": "2.0.0",
      "model_name": "ButtonModel",
      "state": {
       "_dom_classes": [],
       "_model_module": "@jupyter-widgets/controls",
       "_model_module_version": "2.0.0",
       "_model_name": "ButtonModel",
       "_view_count": null,
       "_view_module": "@jupyter-widgets/controls",
       "_view_module_version": "2.0.0",
       "_view_name": "ButtonView",
       "button_style": "",
       "description": "Sim",
       "disabled": false,
       "icon": "",
       "layout": "IPY_MODEL_ced611b0c1974c24b031a71bdd87707f",
       "style": "IPY_MODEL_95506012cf8b4b5dae139955bf3119c7",
       "tabbable": null,
       "tooltip": null
      }
     }
    },
    "version_major": 2,
    "version_minor": 0
   }
  }
 },
 "nbformat": 4,
 "nbformat_minor": 5
}